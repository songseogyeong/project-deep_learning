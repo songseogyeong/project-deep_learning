{
 "cells": [
  {
   "cell_type": "code",
   "execution_count": 1,
   "id": "fcb689a3-d34f-42ab-bf9c-5e5958a1128f",
   "metadata": {},
   "outputs": [
    {
     "name": "stdout",
     "output_type": "stream",
     "text": [
      "GPU is available\n",
      "GPU device name: Tesla T4\n"
     ]
    }
   ],
   "source": [
    "import torch\n",
    "\n",
    "if torch.cuda.is_available():\n",
    "    print(\"GPU is available\")\n",
    "    print(f\"GPU device name: {torch.cuda.get_device_name(0)}\")\n",
    "else:\n",
    "    print(\"GPU is not available\")"
   ]
  },
  {
   "cell_type": "markdown",
   "id": "21624bff-2f14-44cb-8162-a795502f6ad8",
   "metadata": {},
   "source": [
    "## Pretrained Hubert Fine-Tuning"
   ]
  },
  {
   "cell_type": "code",
   "execution_count": 2,
   "id": "061f339b-0b18-4938-a318-db00de6f5d0d",
   "metadata": {
    "scrolled": true
   },
   "outputs": [],
   "source": [
    "import os\n",
    "import numpy as np\n",
    "import pandas as pd\n",
    "import librosa\n",
    "import torch\n",
    "import torch.nn as nn\n",
    "import torch.nn.functional as F\n",
    "import pytorch_lightning as pl\n",
    "\n",
    "from tqdm.auto import tqdm\n",
    "from torch.nn.utils.rnn import pad_sequence\n",
    "from torch.utils.data import Dataset, DataLoader\n",
    "from sklearn.model_selection import StratifiedKFold\n",
    "from transformers.optimization import AdamW, get_constant_schedule_with_warmup\n",
    "from pytorch_lightning import seed_everything\n",
    "from pytorch_lightning.callbacks import EarlyStopping, ModelCheckpoint, StochasticWeightAveraging\n",
    "from transformers import AutoModel, AutoModelForSequenceClassification, AutoTokenizer, AutoFeatureExtractor, HubertForSequenceClassification, AutoConfig"
   ]
  },
  {
   "cell_type": "code",
   "execution_count": 3,
   "id": "25d9944f-fae6-4808-9182-401641c9e3a7",
   "metadata": {},
   "outputs": [],
   "source": [
    "def accuracy(preds, labels):\n",
    "    return (preds == labels).float().mean()"
   ]
  },
  {
   "cell_type": "code",
   "execution_count": 4,
   "id": "fee27519-2619-4399-86de-cc58f8a08c61",
   "metadata": {},
   "outputs": [],
   "source": [
    "class MyLitModel(pl.LightningModule):\n",
    "    def __init__(self, audio_model_name, num_labels, n_layers=1, projector=True, classifier=True, dropout=0.07, lr_decay=1):\n",
    "        super(MyLitModel, self).__init__()\n",
    "        self.config = AutoConfig.from_pretrained(audio_model_name)\n",
    "        self.config.activation_dropout=dropout\n",
    "        self.config.attention_dropout=dropout\n",
    "        self.config.final_dropout=dropout\n",
    "        self.config.hidden_dropout=dropout\n",
    "        self.config.hidden_dropout_prob=dropout\n",
    "        self.audio_model = HubertForSequenceClassification.from_pretrained(audio_model_name, config=self.config)\n",
    "        self.lr_decay = lr_decay\n",
    "        self._do_reinit(n_layers, projector, classifier)\n",
    "\n",
    "    def forward(self, audio_values, audio_attn_mask):\n",
    "        logits = self.audio_model(input_values=audio_values, attention_mask=audio_attn_mask).logits\n",
    "        logits = torch.stack([\n",
    "            logits[:,0]+logits[:,7],\n",
    "            logits[:,2]+logits[:,9],\n",
    "            logits[:,5]+logits[:,12],\n",
    "            logits[:,1]+logits[:,8],\n",
    "            logits[:,4]+logits[:,11],\n",
    "            logits[:,3]+logits[:,10]]\n",
    "        , dim=-1)\n",
    "        return logits\n",
    "\n",
    "    def training_step(self, batch, batch_idx):\n",
    "        audio_values = batch['audio_values']\n",
    "        audio_attn_mask = batch['audio_attn_mask']\n",
    "        labels = batch['label']\n",
    "\n",
    "        logits = self(audio_values, audio_attn_mask)\n",
    "        loss = nn.CrossEntropyLoss()(logits, labels)\n",
    "        \n",
    "        preds = torch.argmax(logits, dim=1)\n",
    "        acc = accuracy(preds, labels)\n",
    "\n",
    "        self.log('train_loss', loss, on_step=True, on_epoch=True, prog_bar=True, logger=True)\n",
    "        self.log('train_acc', acc, on_step=True, on_epoch=True, prog_bar=True, logger=True)\n",
    "\n",
    "        return loss\n",
    "\n",
    "    def validation_step(self, batch, batch_idx):\n",
    "        audio_values = batch['audio_values']\n",
    "        audio_attn_mask = batch['audio_attn_mask']\n",
    "        labels = batch['label']\n",
    "\n",
    "        logits = self(audio_values, audio_attn_mask)\n",
    "        loss = nn.CrossEntropyLoss()(logits, labels)\n",
    "\n",
    "        preds = torch.argmax(logits, dim=1)\n",
    "        acc = accuracy(preds, labels)\n",
    "\n",
    "        self.log('val_loss', loss, on_step=False, on_epoch=True, prog_bar=True, logger=True)\n",
    "        self.log('val_acc', acc, on_step=False, on_epoch=True, prog_bar=True, logger=True)\n",
    "\n",
    "        return loss\n",
    "\n",
    "    def predict_step(self, batch, batch_idx, dataloader_idx=None):\n",
    "        audio_values = batch['audio_values']\n",
    "        audio_attn_mask = batch['audio_attn_mask']\n",
    "\n",
    "        logits = self(audio_values, audio_attn_mask)\n",
    "        preds = torch.argmax(logits, dim=1)\n",
    "\n",
    "        return preds\n",
    "\n",
    "    def configure_optimizers(self):\n",
    "        lr = 1e-5\n",
    "        layer_decay = self.lr_decay\n",
    "        weight_decay = 0.01\n",
    "        llrd_params = self._get_llrd_params(lr=lr, layer_decay=layer_decay, weight_decay=weight_decay)\n",
    "        optimizer = AdamW(llrd_params)\n",
    "        return optimizer\n",
    "\n",
    "    def _get_llrd_params(self, lr, layer_decay, weight_decay):\n",
    "        n_layers = self.audio_model.config.num_hidden_layers\n",
    "        llrd_params = []\n",
    "        for name, value in list(self.named_parameters()):\n",
    "            if ('bias' in name) or ('layer_norm' in name):\n",
    "                llrd_params.append({\"params\": value, \"lr\": lr, \"weight_decay\": 0.0})\n",
    "            elif ('emb' in name) or ('feature' in name) : \n",
    "                llrd_params.append({\"params\": value, \"lr\": lr * (layer_decay**(n_layers+1)), \"weight_decay\": weight_decay})\n",
    "            elif 'encoder.layer' in name:\n",
    "                for n_layer in range(n_layers):\n",
    "                    if f'encoder.layer.{n_layer}' in name:\n",
    "                        llrd_params.append({\"params\": value, \"lr\": lr * (layer_decay**(n_layer+1)), \"weight_decay\": weight_decay})\n",
    "            else:\n",
    "                llrd_params.append({\"params\": value, \"lr\": lr , \"weight_decay\": weight_decay})\n",
    "        return llrd_params\n",
    "    \n",
    "    def _do_reinit(self, n_layers=0, projector=True, classifier=True):\n",
    "        if projector:\n",
    "            self.audio_model.projector.apply(self._init_weight_and_bias)\n",
    "        if classifier:\n",
    "            self.audio_model.classifier.apply(self._init_weight_and_bias)\n",
    "        \n",
    "        for n in range(n_layers):\n",
    "            self.audio_model.hubert.encoder.layers[-(n+1)].apply(self._init_weight_and_bias)\n",
    "            \n",
    "    def _init_weight_and_bias(self, module):                        \n",
    "        if isinstance(module, nn.Linear):\n",
    "            module.weight.data.normal_(mean=0.0, std=self.audio_model.config.initializer_range)\n",
    "            if module.bias is not None:\n",
    "                module.bias.data.zero_()\n",
    "        elif isinstance(module, nn.LayerNorm):\n",
    "            module.bias.data.zero_()\n",
    "            module.weight.data.fill_(1.0)   "
   ]
  },
  {
   "cell_type": "code",
   "execution_count": 6,
   "id": "a065d5a9-3c3e-4ae5-bd75-a548ec8d8c05",
   "metadata": {},
   "outputs": [
    {
     "name": "stderr",
     "output_type": "stream",
     "text": [
      "Seed set to 0\n"
     ]
    },
    {
     "name": "stdout",
     "output_type": "stream",
     "text": [
      "Training on subset 1/36\n"
     ]
    },
    {
     "name": "stderr",
     "output_type": "stream",
     "text": [
      "Some weights of HubertForSequenceClassification were not initialized from the model checkpoint at Rajaram1996/Hubert_emotion and are newly initialized: ['classifier.bias', 'classifier.weight', 'projector.bias', 'projector.weight']\n",
      "You should probably TRAIN this model on a down-stream task to be able to use it for predictions and inference.\n",
      "Trainer will use only 1 of 2 GPUs because it is running inside an interactive / notebook environment. You may try to set `Trainer(devices=2)` but please note that multi-GPU inside interactive / notebook environments is considered experimental and unstable. Your mileage may vary.\n",
      "Using 16bit Automatic Mixed Precision (AMP)\n",
      "GPU available: True (cuda), used: True\n",
      "TPU available: False, using: 0 TPU cores\n",
      "HPU available: False, using: 0 HPUs\n",
      "2024-10-22 09:38:42.800437: E external/local_xla/xla/stream_executor/cuda/cuda_fft.cc:485] Unable to register cuFFT factory: Attempting to register factory for plugin cuFFT when one has already been registered\n",
      "2024-10-22 09:38:42.825074: E external/local_xla/xla/stream_executor/cuda/cuda_dnn.cc:8454] Unable to register cuDNN factory: Attempting to register factory for plugin cuDNN when one has already been registered\n",
      "2024-10-22 09:38:42.832467: E external/local_xla/xla/stream_executor/cuda/cuda_blas.cc:1452] Unable to register cuBLAS factory: Attempting to register factory for plugin cuBLAS when one has already been registered\n",
      "2024-10-22 09:38:42.852648: I tensorflow/core/platform/cpu_feature_guard.cc:210] This TensorFlow binary is optimized to use available CPU instructions in performance-critical operations.\n",
      "To enable the following instructions: AVX2 FMA, in other operations, rebuild TensorFlow with the appropriate compiler flags.\n",
      "2024-10-22 09:38:44.410847: W tensorflow/compiler/tf2tensorrt/utils/py_utils.cc:38] TF-TRT Warning: Could not find TensorRT\n",
      "LOCAL_RANK: 0 - CUDA_VISIBLE_DEVICES: [0,1]\n",
      "\n",
      "  | Name        | Type                            | Params | Mode\n",
      "-----------------------------------------------------------------------\n",
      "0 | audio_model | HubertForSequenceClassification | 94.6 M | eval\n",
      "-----------------------------------------------------------------------\n",
      "94.6 M    Trainable params\n",
      "0         Non-trainable params\n",
      "94.6 M    Total params\n",
      "378.289   Total estimated model params size (MB)\n",
      "0         Modules in train mode\n",
      "223       Modules in eval mode\n"
     ]
    },
    {
     "data": {
      "application/vnd.jupyter.widget-view+json": {
       "model_id": "",
       "version_major": 2,
       "version_minor": 0
      },
      "text/plain": [
       "Sanity Checking: |                                                                                            …"
      ]
     },
     "metadata": {},
     "output_type": "display_data"
    },
    {
     "data": {
      "application/vnd.jupyter.widget-view+json": {
       "model_id": "c63cf3e606f14d948fed9e173c7f380f",
       "version_major": 2,
       "version_minor": 0
      },
      "text/plain": [
       "Training: |                                                                                                   …"
      ]
     },
     "metadata": {},
     "output_type": "display_data"
    },
    {
     "data": {
      "application/vnd.jupyter.widget-view+json": {
       "model_id": "",
       "version_major": 2,
       "version_minor": 0
      },
      "text/plain": [
       "Validation: |                                                                                                 …"
      ]
     },
     "metadata": {},
     "output_type": "display_data"
    },
    {
     "data": {
      "application/vnd.jupyter.widget-view+json": {
       "model_id": "",
       "version_major": 2,
       "version_minor": 0
      },
      "text/plain": [
       "Validation: |                                                                                                 …"
      ]
     },
     "metadata": {},
     "output_type": "display_data"
    },
    {
     "data": {
      "application/vnd.jupyter.widget-view+json": {
       "model_id": "",
       "version_major": 2,
       "version_minor": 0
      },
      "text/plain": [
       "Validation: |                                                                                                 …"
      ]
     },
     "metadata": {},
     "output_type": "display_data"
    },
    {
     "data": {
      "application/vnd.jupyter.widget-view+json": {
       "model_id": "",
       "version_major": 2,
       "version_minor": 0
      },
      "text/plain": [
       "Validation: |                                                                                                 …"
      ]
     },
     "metadata": {},
     "output_type": "display_data"
    },
    {
     "data": {
      "application/vnd.jupyter.widget-view+json": {
       "model_id": "",
       "version_major": 2,
       "version_minor": 0
      },
      "text/plain": [
       "Validation: |                                                                                                 …"
      ]
     },
     "metadata": {},
     "output_type": "display_data"
    },
    {
     "data": {
      "application/vnd.jupyter.widget-view+json": {
       "model_id": "",
       "version_major": 2,
       "version_minor": 0
      },
      "text/plain": [
       "Validation: |                                                                                                 …"
      ]
     },
     "metadata": {},
     "output_type": "display_data"
    },
    {
     "data": {
      "application/vnd.jupyter.widget-view+json": {
       "model_id": "",
       "version_major": 2,
       "version_minor": 0
      },
      "text/plain": [
       "Validation: |                                                                                                 …"
      ]
     },
     "metadata": {},
     "output_type": "display_data"
    },
    {
     "data": {
      "application/vnd.jupyter.widget-view+json": {
       "model_id": "",
       "version_major": 2,
       "version_minor": 0
      },
      "text/plain": [
       "Validation: |                                                                                                 …"
      ]
     },
     "metadata": {},
     "output_type": "display_data"
    },
    {
     "data": {
      "application/vnd.jupyter.widget-view+json": {
       "model_id": "",
       "version_major": 2,
       "version_minor": 0
      },
      "text/plain": [
       "Validation: |                                                                                                 …"
      ]
     },
     "metadata": {},
     "output_type": "display_data"
    },
    {
     "data": {
      "application/vnd.jupyter.widget-view+json": {
       "model_id": "",
       "version_major": 2,
       "version_minor": 0
      },
      "text/plain": [
       "Validation: |                                                                                                 …"
      ]
     },
     "metadata": {},
     "output_type": "display_data"
    },
    {
     "data": {
      "application/vnd.jupyter.widget-view+json": {
       "model_id": "",
       "version_major": 2,
       "version_minor": 0
      },
      "text/plain": [
       "Validation: |                                                                                                 …"
      ]
     },
     "metadata": {},
     "output_type": "display_data"
    },
    {
     "data": {
      "application/vnd.jupyter.widget-view+json": {
       "model_id": "",
       "version_major": 2,
       "version_minor": 0
      },
      "text/plain": [
       "Validation: |                                                                                                 …"
      ]
     },
     "metadata": {},
     "output_type": "display_data"
    },
    {
     "data": {
      "application/vnd.jupyter.widget-view+json": {
       "model_id": "",
       "version_major": 2,
       "version_minor": 0
      },
      "text/plain": [
       "Validation: |                                                                                                 …"
      ]
     },
     "metadata": {},
     "output_type": "display_data"
    },
    {
     "data": {
      "application/vnd.jupyter.widget-view+json": {
       "model_id": "",
       "version_major": 2,
       "version_minor": 0
      },
      "text/plain": [
       "Validation: |                                                                                                 …"
      ]
     },
     "metadata": {},
     "output_type": "display_data"
    },
    {
     "data": {
      "application/vnd.jupyter.widget-view+json": {
       "model_id": "",
       "version_major": 2,
       "version_minor": 0
      },
      "text/plain": [
       "Validation: |                                                                                                 …"
      ]
     },
     "metadata": {},
     "output_type": "display_data"
    },
    {
     "data": {
      "application/vnd.jupyter.widget-view+json": {
       "model_id": "",
       "version_major": 2,
       "version_minor": 0
      },
      "text/plain": [
       "Validation: |                                                                                                 …"
      ]
     },
     "metadata": {},
     "output_type": "display_data"
    },
    {
     "data": {
      "application/vnd.jupyter.widget-view+json": {
       "model_id": "",
       "version_major": 2,
       "version_minor": 0
      },
      "text/plain": [
       "Validation: |                                                                                                 …"
      ]
     },
     "metadata": {},
     "output_type": "display_data"
    },
    {
     "data": {
      "application/vnd.jupyter.widget-view+json": {
       "model_id": "",
       "version_major": 2,
       "version_minor": 0
      },
      "text/plain": [
       "Validation: |                                                                                                 …"
      ]
     },
     "metadata": {},
     "output_type": "display_data"
    },
    {
     "data": {
      "application/vnd.jupyter.widget-view+json": {
       "model_id": "",
       "version_major": 2,
       "version_minor": 0
      },
      "text/plain": [
       "Validation: |                                                                                                 …"
      ]
     },
     "metadata": {},
     "output_type": "display_data"
    },
    {
     "data": {
      "application/vnd.jupyter.widget-view+json": {
       "model_id": "",
       "version_major": 2,
       "version_minor": 0
      },
      "text/plain": [
       "Validation: |                                                                                                 …"
      ]
     },
     "metadata": {},
     "output_type": "display_data"
    },
    {
     "data": {
      "application/vnd.jupyter.widget-view+json": {
       "model_id": "",
       "version_major": 2,
       "version_minor": 0
      },
      "text/plain": [
       "Validation: |                                                                                                 …"
      ]
     },
     "metadata": {},
     "output_type": "display_data"
    },
    {
     "data": {
      "application/vnd.jupyter.widget-view+json": {
       "model_id": "",
       "version_major": 2,
       "version_minor": 0
      },
      "text/plain": [
       "Validation: |                                                                                                 …"
      ]
     },
     "metadata": {},
     "output_type": "display_data"
    },
    {
     "data": {
      "application/vnd.jupyter.widget-view+json": {
       "model_id": "",
       "version_major": 2,
       "version_minor": 0
      },
      "text/plain": [
       "Validation: |                                                                                                 …"
      ]
     },
     "metadata": {},
     "output_type": "display_data"
    },
    {
     "data": {
      "application/vnd.jupyter.widget-view+json": {
       "model_id": "",
       "version_major": 2,
       "version_minor": 0
      },
      "text/plain": [
       "Validation: |                                                                                                 …"
      ]
     },
     "metadata": {},
     "output_type": "display_data"
    },
    {
     "data": {
      "application/vnd.jupyter.widget-view+json": {
       "model_id": "",
       "version_major": 2,
       "version_minor": 0
      },
      "text/plain": [
       "Validation: |                                                                                                 …"
      ]
     },
     "metadata": {},
     "output_type": "display_data"
    },
    {
     "data": {
      "application/vnd.jupyter.widget-view+json": {
       "model_id": "",
       "version_major": 2,
       "version_minor": 0
      },
      "text/plain": [
       "Validation: |                                                                                                 …"
      ]
     },
     "metadata": {},
     "output_type": "display_data"
    },
    {
     "data": {
      "application/vnd.jupyter.widget-view+json": {
       "model_id": "",
       "version_major": 2,
       "version_minor": 0
      },
      "text/plain": [
       "Validation: |                                                                                                 …"
      ]
     },
     "metadata": {},
     "output_type": "display_data"
    },
    {
     "data": {
      "application/vnd.jupyter.widget-view+json": {
       "model_id": "",
       "version_major": 2,
       "version_minor": 0
      },
      "text/plain": [
       "Validation: |                                                                                                 …"
      ]
     },
     "metadata": {},
     "output_type": "display_data"
    },
    {
     "data": {
      "application/vnd.jupyter.widget-view+json": {
       "model_id": "",
       "version_major": 2,
       "version_minor": 0
      },
      "text/plain": [
       "Validation: |                                                                                                 …"
      ]
     },
     "metadata": {},
     "output_type": "display_data"
    },
    {
     "data": {
      "application/vnd.jupyter.widget-view+json": {
       "model_id": "",
       "version_major": 2,
       "version_minor": 0
      },
      "text/plain": [
       "Validation: |                                                                                                 …"
      ]
     },
     "metadata": {},
     "output_type": "display_data"
    },
    {
     "name": "stderr",
     "output_type": "stream",
     "text": [
      "`Trainer.fit` stopped: `max_epochs=3` reached.\n"
     ]
    },
    {
     "name": "stdout",
     "output_type": "stream",
     "text": [
      "Training on subset 2/36\n"
     ]
    },
    {
     "name": "stderr",
     "output_type": "stream",
     "text": [
      "Some weights of HubertForSequenceClassification were not initialized from the model checkpoint at Rajaram1996/Hubert_emotion and are newly initialized: ['classifier.bias', 'classifier.weight', 'projector.bias', 'projector.weight']\n",
      "You should probably TRAIN this model on a down-stream task to be able to use it for predictions and inference.\n",
      "Trainer will use only 1 of 2 GPUs because it is running inside an interactive / notebook environment. You may try to set `Trainer(devices=2)` but please note that multi-GPU inside interactive / notebook environments is considered experimental and unstable. Your mileage may vary.\n",
      "Using 16bit Automatic Mixed Precision (AMP)\n",
      "GPU available: True (cuda), used: True\n",
      "TPU available: False, using: 0 TPU cores\n",
      "HPU available: False, using: 0 HPUs\n",
      "LOCAL_RANK: 0 - CUDA_VISIBLE_DEVICES: [0,1]\n",
      "\n",
      "  | Name        | Type                            | Params | Mode\n",
      "-----------------------------------------------------------------------\n",
      "0 | audio_model | HubertForSequenceClassification | 94.6 M | eval\n",
      "-----------------------------------------------------------------------\n",
      "94.6 M    Trainable params\n",
      "0         Non-trainable params\n",
      "94.6 M    Total params\n",
      "378.289   Total estimated model params size (MB)\n",
      "0         Modules in train mode\n",
      "223       Modules in eval mode\n"
     ]
    },
    {
     "data": {
      "application/vnd.jupyter.widget-view+json": {
       "model_id": "",
       "version_major": 2,
       "version_minor": 0
      },
      "text/plain": [
       "Sanity Checking: |                                                                                            …"
      ]
     },
     "metadata": {},
     "output_type": "display_data"
    },
    {
     "data": {
      "application/vnd.jupyter.widget-view+json": {
       "model_id": "a0149be7508940939573999962098ea4",
       "version_major": 2,
       "version_minor": 0
      },
      "text/plain": [
       "Training: |                                                                                                   …"
      ]
     },
     "metadata": {},
     "output_type": "display_data"
    },
    {
     "data": {
      "application/vnd.jupyter.widget-view+json": {
       "model_id": "",
       "version_major": 2,
       "version_minor": 0
      },
      "text/plain": [
       "Validation: |                                                                                                 …"
      ]
     },
     "metadata": {},
     "output_type": "display_data"
    },
    {
     "data": {
      "application/vnd.jupyter.widget-view+json": {
       "model_id": "",
       "version_major": 2,
       "version_minor": 0
      },
      "text/plain": [
       "Validation: |                                                                                                 …"
      ]
     },
     "metadata": {},
     "output_type": "display_data"
    },
    {
     "data": {
      "application/vnd.jupyter.widget-view+json": {
       "model_id": "",
       "version_major": 2,
       "version_minor": 0
      },
      "text/plain": [
       "Validation: |                                                                                                 …"
      ]
     },
     "metadata": {},
     "output_type": "display_data"
    },
    {
     "data": {
      "application/vnd.jupyter.widget-view+json": {
       "model_id": "",
       "version_major": 2,
       "version_minor": 0
      },
      "text/plain": [
       "Validation: |                                                                                                 …"
      ]
     },
     "metadata": {},
     "output_type": "display_data"
    },
    {
     "data": {
      "application/vnd.jupyter.widget-view+json": {
       "model_id": "",
       "version_major": 2,
       "version_minor": 0
      },
      "text/plain": [
       "Validation: |                                                                                                 …"
      ]
     },
     "metadata": {},
     "output_type": "display_data"
    },
    {
     "data": {
      "application/vnd.jupyter.widget-view+json": {
       "model_id": "",
       "version_major": 2,
       "version_minor": 0
      },
      "text/plain": [
       "Validation: |                                                                                                 …"
      ]
     },
     "metadata": {},
     "output_type": "display_data"
    },
    {
     "data": {
      "application/vnd.jupyter.widget-view+json": {
       "model_id": "",
       "version_major": 2,
       "version_minor": 0
      },
      "text/plain": [
       "Validation: |                                                                                                 …"
      ]
     },
     "metadata": {},
     "output_type": "display_data"
    },
    {
     "data": {
      "application/vnd.jupyter.widget-view+json": {
       "model_id": "",
       "version_major": 2,
       "version_minor": 0
      },
      "text/plain": [
       "Validation: |                                                                                                 …"
      ]
     },
     "metadata": {},
     "output_type": "display_data"
    },
    {
     "data": {
      "application/vnd.jupyter.widget-view+json": {
       "model_id": "",
       "version_major": 2,
       "version_minor": 0
      },
      "text/plain": [
       "Validation: |                                                                                                 …"
      ]
     },
     "metadata": {},
     "output_type": "display_data"
    },
    {
     "data": {
      "application/vnd.jupyter.widget-view+json": {
       "model_id": "",
       "version_major": 2,
       "version_minor": 0
      },
      "text/plain": [
       "Validation: |                                                                                                 …"
      ]
     },
     "metadata": {},
     "output_type": "display_data"
    },
    {
     "data": {
      "application/vnd.jupyter.widget-view+json": {
       "model_id": "4035ab799c874a6fad8a25a6f8e6d077",
       "version_major": 2,
       "version_minor": 0
      },
      "text/plain": [
       "Validation: |                                                                                                 …"
      ]
     },
     "metadata": {},
     "output_type": "display_data"
    },
    {
     "data": {
      "application/vnd.jupyter.widget-view+json": {
       "model_id": "aef4fc1231e7499da5721eb9bf37b82a",
       "version_major": 2,
       "version_minor": 0
      },
      "text/plain": [
       "Validation: |                                                                                                 …"
      ]
     },
     "metadata": {},
     "output_type": "display_data"
    },
    {
     "data": {
      "application/vnd.jupyter.widget-view+json": {
       "model_id": "2cb08624f88447308bbbf1e95669ce95",
       "version_major": 2,
       "version_minor": 0
      },
      "text/plain": [
       "Validation: |                                                                                                 …"
      ]
     },
     "metadata": {},
     "output_type": "display_data"
    },
    {
     "data": {
      "application/vnd.jupyter.widget-view+json": {
       "model_id": "2df24858ce3c471ba56909533aa8714e",
       "version_major": 2,
       "version_minor": 0
      },
      "text/plain": [
       "Validation: |                                                                                                 …"
      ]
     },
     "metadata": {},
     "output_type": "display_data"
    },
    {
     "data": {
      "application/vnd.jupyter.widget-view+json": {
       "model_id": "3f1ba55e910740ff8d69853dce69f825",
       "version_major": 2,
       "version_minor": 0
      },
      "text/plain": [
       "Validation: |                                                                                                 …"
      ]
     },
     "metadata": {},
     "output_type": "display_data"
    },
    {
     "data": {
      "application/vnd.jupyter.widget-view+json": {
       "model_id": "528cb136d73546b0be410a8648cd5295",
       "version_major": 2,
       "version_minor": 0
      },
      "text/plain": [
       "Validation: |                                                                                                 …"
      ]
     },
     "metadata": {},
     "output_type": "display_data"
    },
    {
     "data": {
      "application/vnd.jupyter.widget-view+json": {
       "model_id": "37b4efede2bf446c9752b6f871bda353",
       "version_major": 2,
       "version_minor": 0
      },
      "text/plain": [
       "Validation: |                                                                                                 …"
      ]
     },
     "metadata": {},
     "output_type": "display_data"
    },
    {
     "data": {
      "application/vnd.jupyter.widget-view+json": {
       "model_id": "f2856595966e48808986d9908e291aeb",
       "version_major": 2,
       "version_minor": 0
      },
      "text/plain": [
       "Validation: |                                                                                                 …"
      ]
     },
     "metadata": {},
     "output_type": "display_data"
    },
    {
     "data": {
      "application/vnd.jupyter.widget-view+json": {
       "model_id": "aa0c6c1d5ca6456a9c1dcca13c8ebdb0",
       "version_major": 2,
       "version_minor": 0
      },
      "text/plain": [
       "Validation: |                                                                                                 …"
      ]
     },
     "metadata": {},
     "output_type": "display_data"
    },
    {
     "data": {
      "application/vnd.jupyter.widget-view+json": {
       "model_id": "480a96f14e004511a7a67b0d2e7fca28",
       "version_major": 2,
       "version_minor": 0
      },
      "text/plain": [
       "Validation: |                                                                                                 …"
      ]
     },
     "metadata": {},
     "output_type": "display_data"
    },
    {
     "data": {
      "application/vnd.jupyter.widget-view+json": {
       "model_id": "23fad8d4346e429fba34beacb06a7de2",
       "version_major": 2,
       "version_minor": 0
      },
      "text/plain": [
       "Validation: |                                                                                                 …"
      ]
     },
     "metadata": {},
     "output_type": "display_data"
    },
    {
     "data": {
      "application/vnd.jupyter.widget-view+json": {
       "model_id": "6a81e649ee3b4534b76e97b98cae6992",
       "version_major": 2,
       "version_minor": 0
      },
      "text/plain": [
       "Validation: |                                                                                                 …"
      ]
     },
     "metadata": {},
     "output_type": "display_data"
    },
    {
     "data": {
      "application/vnd.jupyter.widget-view+json": {
       "model_id": "bf1d8c54340a43fc90903c4116152bd7",
       "version_major": 2,
       "version_minor": 0
      },
      "text/plain": [
       "Validation: |                                                                                                 …"
      ]
     },
     "metadata": {},
     "output_type": "display_data"
    },
    {
     "data": {
      "application/vnd.jupyter.widget-view+json": {
       "model_id": "c6d64d73310244628ded781206bd4372",
       "version_major": 2,
       "version_minor": 0
      },
      "text/plain": [
       "Validation: |                                                                                                 …"
      ]
     },
     "metadata": {},
     "output_type": "display_data"
    },
    {
     "data": {
      "application/vnd.jupyter.widget-view+json": {
       "model_id": "80736c4bb5584674adc15844925d0837",
       "version_major": 2,
       "version_minor": 0
      },
      "text/plain": [
       "Validation: |                                                                                                 …"
      ]
     },
     "metadata": {},
     "output_type": "display_data"
    },
    {
     "data": {
      "application/vnd.jupyter.widget-view+json": {
       "model_id": "33192dbb116b414fbf89c928a92c524d",
       "version_major": 2,
       "version_minor": 0
      },
      "text/plain": [
       "Validation: |                                                                                                 …"
      ]
     },
     "metadata": {},
     "output_type": "display_data"
    },
    {
     "data": {
      "application/vnd.jupyter.widget-view+json": {
       "model_id": "af0596e4a8334c94be515e784367beaf",
       "version_major": 2,
       "version_minor": 0
      },
      "text/plain": [
       "Validation: |                                                                                                 …"
      ]
     },
     "metadata": {},
     "output_type": "display_data"
    },
    {
     "data": {
      "application/vnd.jupyter.widget-view+json": {
       "model_id": "ff8d7034a4e74b3cb3bcc86b2677d041",
       "version_major": 2,
       "version_minor": 0
      },
      "text/plain": [
       "Validation: |                                                                                                 …"
      ]
     },
     "metadata": {},
     "output_type": "display_data"
    },
    {
     "data": {
      "application/vnd.jupyter.widget-view+json": {
       "model_id": "ddf7027173064a849a4a8e9228416e57",
       "version_major": 2,
       "version_minor": 0
      },
      "text/plain": [
       "Validation: |                                                                                                 …"
      ]
     },
     "metadata": {},
     "output_type": "display_data"
    },
    {
     "data": {
      "application/vnd.jupyter.widget-view+json": {
       "model_id": "66302c7f3d664ab394148715f94fcce5",
       "version_major": 2,
       "version_minor": 0
      },
      "text/plain": [
       "Validation: |                                                                                                 …"
      ]
     },
     "metadata": {},
     "output_type": "display_data"
    },
    {
     "name": "stderr",
     "output_type": "stream",
     "text": [
      "`Trainer.fit` stopped: `max_epochs=3` reached.\n"
     ]
    }
   ],
   "source": [
    "import os\n",
    "import numpy as np\n",
    "import pandas as pd\n",
    "import librosa\n",
    "import torch\n",
    "import torch.nn as nn\n",
    "import torch.nn.functional as F\n",
    "import pytorch_lightning as pl\n",
    "import soundfile as sf\n",
    "import warnings\n",
    "\n",
    "from tqdm.auto import tqdm\n",
    "from torch.nn.utils.rnn import pad_sequence\n",
    "from torch.utils.data import Dataset, DataLoader\n",
    "from sklearn.model_selection import StratifiedKFold, train_test_split\n",
    "from transformers.optimization import AdamW, get_constant_schedule_with_warmup\n",
    "from pytorch_lightning import seed_everything\n",
    "from pytorch_lightning.callbacks import EarlyStopping, ModelCheckpoint, StochasticWeightAveraging\n",
    "from transformers import AutoModel, AutoModelForSequenceClassification, AutoTokenizer, AutoFeatureExtractor, HubertForSequenceClassification, AutoConfig\n",
    "from sklearn.metrics import accuracy_score\n",
    "\n",
    "# Helper function for loading audio\n",
    "def load_audio(file_path):\n",
    "    if not os.path.exists(file_path):\n",
    "        raise FileNotFoundError(f\"File not found: {file_path}\")\n",
    "\n",
    "    speech, rate = sf.read(file_path)\n",
    "    if rate != SAMPLING_RATE:  # Resample if the rate is not 16000Hz\n",
    "        speech = librosa.resample(speech, orig_sr=rate, target_sr=SAMPLING_RATE)\n",
    "    return speech\n",
    "\n",
    "# Dataset Class to load audio files and their respective labels\n",
    "class SpeechDataset(Dataset):\n",
    "    def __init__(self, df, base_directory, folders):\n",
    "        self.base_directory = base_directory\n",
    "        self.folders = folders\n",
    "        self.data = []\n",
    "\n",
    "        # Iterate through the folders to match CSV information\n",
    "        for folder_name in folders:\n",
    "            folder_path = os.path.join(base_directory, folder_name)\n",
    "            for file_name in os.listdir(folder_path):\n",
    "                if file_name.endswith(\".wav\"):\n",
    "                    file_number = int(file_name.split('_')[-1].replace(\".wav\", \"\"))\n",
    "                    matching_rows = df[df['연번'] == file_number]\n",
    "                    if not matching_rows.empty:\n",
    "                        emotion = matching_rows.iloc[0]['감정']\n",
    "                        label = label2id[emotion]\n",
    "                        \n",
    "                        self.data.append({\n",
    "                            'file_path': os.path.join(folder_path, file_name),\n",
    "                            'label': label\n",
    "                        })\n",
    "\n",
    "    def __len__(self):\n",
    "        return len(self.data)\n",
    "\n",
    "    def __getitem__(self, idx):\n",
    "        file_path = self.data[idx]['file_path']\n",
    "        label = self.data[idx]['label']\n",
    "        speech = load_audio(file_path)\n",
    "        inputs = audio_feature_extractor(speech, sampling_rate=SAMPLING_RATE, return_tensors=\"pt\", padding=True)\n",
    "\n",
    "        return {\n",
    "            \"input_values\": inputs.input_values[0],\n",
    "            \"attention_mask\": inputs.attention_mask[0] if \"attention_mask\" in inputs else None,\n",
    "            \"labels\": torch.tensor(label, dtype=torch.long),\n",
    "        }\n",
    "\n",
    "# Collate function to pad sequences\n",
    "def collate_fn(batch):\n",
    "    input_values = [item[\"input_values\"] for item in batch]\n",
    "    labels = torch.tensor([item[\"labels\"] for item in batch], dtype=torch.long)\n",
    "    input_values_padded = pad_sequence(input_values, batch_first=True, padding_value=0.0)\n",
    "    attention_mask = (input_values_padded != 0).long()\n",
    "\n",
    "    return {\n",
    "        \"audio_values\": input_values_padded,\n",
    "        \"audio_attn_mask\": attention_mask,\n",
    "        \"label\": labels,\n",
    "    }\n",
    "\n",
    "# Updated Constants and Configuration\n",
    "DATA_DIR = './data'\n",
    "PREPROC_DIR = './preproc'\n",
    "SUBMISSION_DIR = './submission'\n",
    "MODEL_DIR = './model'\n",
    "SAMPLING_RATE = 16000\n",
    "SEED=0\n",
    "BATCH_SIZE=8\n",
    "NUM_LABELS = 6\n",
    "\n",
    "seed_everything(SEED)\n",
    "\n",
    "# Defining emotions and mapping them to IDs\n",
    "csv_file_path = './data/csv/labeling.csv'\n",
    "df = pd.read_csv(csv_file_path).dropna(subset=['감정'])\n",
    "emotion_labels = df['감정'].unique().tolist()\n",
    "label2id = {str(emotion): int(i) for i, emotion in enumerate(emotion_labels)}\n",
    "id2label = {int(i): str(emotion) for i, emotion in enumerate(emotion_labels)}\n",
    "\n",
    "# Extract folders and split train/test\n",
    "audio_directory = \"/mnt/gcs-bucket/data/\"\n",
    "all_folders = [folder for folder in os.listdir(audio_directory) if os.path.isdir(os.path.join(audio_directory, folder)) and folder.startswith(\"F\")]\n",
    "all_folders = sorted(all_folders)\n",
    "train_folders, test_folders = train_test_split(all_folders, test_size=0.2, random_state=42)\n",
    "\n",
    "# Initialize feature extractor\n",
    "audio_model_name = 'Rajaram1996/Hubert_emotion'\n",
    "audio_feature_extractor = AutoFeatureExtractor.from_pretrained(audio_model_name)\n",
    "audio_feature_extractor.return_attention_mask=True\n",
    "\n",
    "# Prepare datasets\n",
    "train_dataset = SpeechDataset(df, audio_directory, train_folders)\n",
    "test_dataset = SpeechDataset(df, audio_directory, test_folders)\n",
    "\n",
    "# Split dataset into smaller subsets\n",
    "def split_dataset(dataset, num_splits):\n",
    "    split_size = len(dataset) // num_splits\n",
    "    splits = [torch.utils.data.Subset(dataset, list(range(i * split_size, (i + 1) * split_size))) for i in range(num_splits)]\n",
    "    remainder = len(dataset) % num_splits\n",
    "    if remainder:\n",
    "        splits[-1] = torch.utils.data.ConcatDataset([splits[-1], torch.utils.data.Subset(dataset, list(range(num_splits * split_size, len(dataset))))])\n",
    "    return splits\n",
    "\n",
    "# Train/Test dataset split into subsets\n",
    "train_subsets = split_dataset(train_dataset, 2)\n",
    "test_subsets = split_dataset(test_dataset, 2)\n",
    "\n",
    "# Training and evaluating each subset\n",
    "for i, (train_subset, test_subset) in enumerate(zip(train_subsets, test_subsets)):\n",
    "    warnings.filterwarnings(\"ignore\")  # Hide all warnings\n",
    "    torch.cuda.empty_cache()\n",
    "    print(f\"Training on subset {i + 1}/36\")\n",
    "    train_loader = DataLoader(train_subset, batch_size=BATCH_SIZE, collate_fn=collate_fn, shuffle=True)\n",
    "    test_loader = DataLoader(test_subset, batch_size=BATCH_SIZE, collate_fn=collate_fn)\n",
    "\n",
    "    # Initialize model\n",
    "    my_lit_model = MyLitModel(\n",
    "        audio_model_name=audio_model_name,\n",
    "        num_labels=NUM_LABELS,\n",
    "        n_layers=1, projector=True, classifier=True, dropout=0.07, lr_decay=0.8\n",
    "    )\n",
    "\n",
    "    # Trainer configuration\n",
    "    trainer = pl.Trainer(\n",
    "        accelerator='cuda', \n",
    "        max_epochs=3,\n",
    "        precision=16,\n",
    "        val_check_interval=0.1,\n",
    "    )\n",
    "\n",
    "    # Training model\n",
    "    trainer.fit(my_lit_model, train_loader, test_loader)\n",
    "    del my_lit_model\n"
   ]
  },
  {
   "cell_type": "code",
   "execution_count": 6,
   "id": "81d6786d-1dae-496b-8b5f-5985cb70146c",
   "metadata": {},
   "outputs": [],
   "source": [
    "class MyLitModel(pl.LightningModule):\n",
    "    def __init__(self, audio_model_name, num_labels, n_layers, projector, classifier, dropout, lr_decay):\n",
    "        super().__init__()\n",
    "        self.num_labels = num_labels\n",
    "        self.hubert_model = HubertForSequenceClassification.from_pretrained(audio_model_name, num_labels=num_labels)\n",
    "        self.dropout = torch.nn.Dropout(dropout)  # Dropout 레이어\n",
    "        self.lr_decay = lr_decay  # 추가로 필요할 경우 사용할 학습률 감소 파라미터\n",
    "\n",
    "    def forward(self, batch):\n",
    "        input_values = batch['audio_values']\n",
    "        attention_mask = batch['audio_attn_mask']\n",
    "        labels = batch['label']\n",
    "\n",
    "        # 모델에 입력값 전달\n",
    "        outputs = self.hubert_model(input_values, attention_mask=attention_mask, labels=labels)\n",
    "        loss = outputs.loss\n",
    "        logits = outputs.logits\n",
    "        return loss, logits\n",
    "\n",
    "    def test_step(self, batch, batch_idx):\n",
    "        loss, logits = self(batch)\n",
    "        preds = torch.argmax(logits, dim=-1)\n",
    "        accuracy = accuracy_score(batch['label'].cpu(), preds.cpu())\n",
    "        self.log('test_acc', accuracy)"
   ]
  },
  {
   "cell_type": "code",
   "execution_count": 10,
   "id": "4290b370-c3ee-4d14-8694-b1b309f60447",
   "metadata": {},
   "outputs": [
    {
     "name": "stderr",
     "output_type": "stream",
     "text": [
      "Some weights of HubertForSequenceClassification were not initialized from the model checkpoint at Rajaram1996/Hubert_emotion and are newly initialized: ['classifier.bias', 'classifier.weight', 'projector.bias', 'projector.weight']\n",
      "You should probably TRAIN this model on a down-stream task to be able to use it for predictions and inference.\n"
     ]
    }
   ],
   "source": [
    "from torch.utils.data import DataLoader\n",
    "\n",
    "# 체크포인트 파일로부터 모델 로드\n",
    "checkpoint_path = './lightning_logs/version_1/checkpoints/epoch=2-step=4476.ckpt'\n",
    "model = MyLitModel.load_from_checkpoint(\n",
    "    checkpoint_path, \n",
    "    audio_model_name='Rajaram1996/Hubert_emotion', \n",
    "    num_labels=6, \n",
    "    n_layers=1, \n",
    "    projector=True, \n",
    "    classifier=True, \n",
    "    dropout=0.07, \n",
    "    lr_decay=0.8,\n",
    "    strict=False\n",
    ")"
   ]
  },
  {
   "cell_type": "code",
   "execution_count": 11,
   "id": "f3267726-ffe7-426e-a096-ab94e6d7f920",
   "metadata": {},
   "outputs": [],
   "source": [
    "# 모델 체크포인트로부터 로드된 모델 저장\n",
    "torch.save(model.state_dict(), './model/model_weights.pth')"
   ]
  }
 ],
 "metadata": {
  "kernelspec": {
   "display_name": "Python 3 (ipykernel)",
   "language": "python",
   "name": "python3"
  },
  "language_info": {
   "codemirror_mode": {
    "name": "ipython",
    "version": 3
   },
   "file_extension": ".py",
   "mimetype": "text/x-python",
   "name": "python",
   "nbconvert_exporter": "python",
   "pygments_lexer": "ipython3",
   "version": "3.10.12"
  }
 },
 "nbformat": 4,
 "nbformat_minor": 5
}
