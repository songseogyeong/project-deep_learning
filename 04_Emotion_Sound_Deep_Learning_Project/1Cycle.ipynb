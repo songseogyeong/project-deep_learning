{
 "cells": [
  {
   "cell_type": "code",
   "execution_count": 2,
   "id": "5ae0ba3b-dd60-4621-afbd-112b1dbd54b5",
   "metadata": {},
   "outputs": [
    {
     "name": "stdout",
     "output_type": "stream",
     "text": [
      "GPU is available\n",
      "GPU device name: Tesla T4\n"
     ]
    }
   ],
   "source": [
    "import torch\n",
    "\n",
    "if torch.cuda.is_available():\n",
    "    print(\"GPU is available\")\n",
    "    print(f\"GPU device name: {torch.cuda.get_device_name(0)}\")\n",
    "else:\n",
    "    print(\"GPU is not available\")"
   ]
  },
  {
   "cell_type": "code",
   "execution_count": 3,
   "id": "5b2bb47d-eff6-420a-a3e9-66efc6cee9fb",
   "metadata": {},
   "outputs": [],
   "source": [
    "# 배열\n",
    "import numpy as np\n",
    "\n",
    "# 데이터 분석\n",
    "import pandas as pd"
   ]
  },
  {
   "cell_type": "code",
   "execution_count": 4,
   "id": "f360c5b6-6519-49d1-8a43-7e29a81e2a46",
   "metadata": {},
   "outputs": [],
   "source": [
    "# Pandas option 정의\n",
    "pd.set_option( 'display.max_columns', 20 )\n",
    "pd.set_option( 'display.max_colwidth', 20 )\n",
    "pd.set_option( 'display.unicode.east_asian_width', True )"
   ]
  },
  {
   "cell_type": "code",
   "execution_count": 5,
   "id": "8c62bbe0-7826-4bca-83fc-b0356cd5cd48",
   "metadata": {},
   "outputs": [],
   "source": [
    "# 시각화\n",
    "import matplotlib.pyplot as plt\n",
    "import seaborn as sns"
   ]
  },
  {
   "cell_type": "code",
   "execution_count": 6,
   "id": "6de4dc94-377a-4012-bfae-f30afaba785e",
   "metadata": {},
   "outputs": [],
   "source": [
    "# Jupyter note상에 그래프 결과 포함 매직 명령\n",
    "%matplotlib inline\n",
    "\n",
    "# Matplotlib 기본 글꼴 정의\n",
    "plt.rc('font', size=14)\n",
    "plt.rc('axes', labelsize=14, titlesize=14)\n",
    "plt.rc('legend', fontsize=14)\n",
    "plt.rc('xtick', labelsize=10)\n",
    "plt.rc('ytick', labelsize=10)"
   ]
  },
  {
   "cell_type": "code",
   "execution_count": 7,
   "id": "bfa784e0-7309-4e13-ab81-d005210b52e0",
   "metadata": {},
   "outputs": [
    {
     "name": "stdout",
     "output_type": "stream",
     "text": [
      "debconf: DbDriver \"passwords\" warning: could not open /var/cache/debconf/passwords.dat: Permission denied\n",
      "debconf: DbDriver \"config\": could not write /var/cache/debconf/config.dat-new: Permission denied\n"
     ]
    }
   ],
   "source": [
    "import sys\n",
    "\n",
    "!echo 'debconf debconf/frontend select Noninteractive' | debconf-set-selections\n",
    "\n",
    "# 나눔 폰트를 설치합니다.\n",
    "!sudo apt-get -qq -y install fonts-nanum\n",
    "import matplotlib.font_manager as fm\n",
    "font_files = fm.findSystemFonts(fontpaths=['/usr/share/fonts/truetype/nanum'])\n",
    "for fpath in font_files:\n",
    "    fm.fontManager.addfont(fpath)\n",
    "\n",
    "# 나눔바른고딕 폰트로 설정합니다.\n",
    "import matplotlib.pyplot as plt\n",
    "plt.rc('font', family='NanumBarunGothic')\n",
    "\n",
    "# 마이너스 기호 표시 오류 수정\n",
    "import matplotlib\n",
    "matplotlib.rcParams['axes.unicode_minus'] = False"
   ]
  },
  {
   "cell_type": "code",
   "execution_count": 8,
   "id": "1eb0d31c-2d8d-44ae-9bc1-f2304d11f92d",
   "metadata": {},
   "outputs": [],
   "source": [
    "# 경고 문제 출력 제한\n",
    "import warnings\n",
    "\n",
    "warnings.filterwarnings( 'ignore' )"
   ]
  },
  {
   "cell_type": "code",
   "execution_count": 9,
   "id": "b1577177-52b5-42e9-a906-d6f659439182",
   "metadata": {},
   "outputs": [
    {
     "name": "stderr",
     "output_type": "stream",
     "text": [
      "2024-10-20 11:46:58.324491: E external/local_xla/xla/stream_executor/cuda/cuda_fft.cc:485] Unable to register cuFFT factory: Attempting to register factory for plugin cuFFT when one has already been registered\n",
      "2024-10-20 11:46:58.346499: E external/local_xla/xla/stream_executor/cuda/cuda_dnn.cc:8454] Unable to register cuDNN factory: Attempting to register factory for plugin cuDNN when one has already been registered\n",
      "2024-10-20 11:46:58.353267: E external/local_xla/xla/stream_executor/cuda/cuda_blas.cc:1452] Unable to register cuBLAS factory: Attempting to register factory for plugin cuBLAS when one has already been registered\n",
      "2024-10-20 11:46:58.371369: I tensorflow/core/platform/cpu_feature_guard.cc:210] This TensorFlow binary is optimized to use available CPU instructions in performance-critical operations.\n",
      "To enable the following instructions: AVX2 FMA, in other operations, rebuild TensorFlow with the appropriate compiler flags.\n",
      "2024-10-20 11:46:59.425504: W tensorflow/compiler/tf2tensorrt/utils/py_utils.cc:38] TF-TRT Warning: Could not find TensorRT\n"
     ]
    }
   ],
   "source": [
    "# Tensorflow\n",
    "import tensorflow as tf"
   ]
  },
  {
   "cell_type": "code",
   "execution_count": 10,
   "id": "a7074c25-281e-4870-bd28-f49d5f92811c",
   "metadata": {},
   "outputs": [],
   "source": [
    "# Tensorflow Sequential model\n",
    "from tensorflow.keras.models import Sequential, Model\n",
    "\n",
    "from tensorflow.keras.layers import Dense, Input, Concatenate\n",
    "from tensorflow.keras.layers import Flatten, Dropout, BatchNormalization\n",
    "from tensorflow.keras.layers import Conv2D, MaxPooling2D, Rescaling\n",
    "from tensorflow.keras.layers import SimpleRNN, LSTM, GRU, Bidirectional, Embedding\n",
    "\n",
    "from tensorflow.keras.preprocessing.text import Tokenizer\n",
    "from tensorflow.keras.preprocessing.sequence import pad_sequences\n",
    "\n",
    "from tensorflow.keras import optimizers\n",
    "\n",
    "from tensorflow.keras.utils import plot_model, to_categorical"
   ]
  },
  {
   "cell_type": "code",
   "execution_count": 11,
   "id": "aec30287-b1a4-4f30-9148-fd90a87e72cc",
   "metadata": {},
   "outputs": [],
   "source": [
    "# 데이터 분리를 위한 함수\n",
    "from sklearn.model_selection import train_test_split"
   ]
  },
  {
   "cell_type": "code",
   "execution_count": 12,
   "id": "764379ec-6385-4e53-ae2b-42251e98e111",
   "metadata": {},
   "outputs": [],
   "source": [
    "# 컬러맵 가져오기\n",
    "cmap = plt.get_cmap('Pastel1')\n",
    "# 컬러맵의 색상 선택\n",
    "outer_colors = cmap(np.array([0, 1, 2, 3, 4, 5, 6]))"
   ]
  },
  {
   "cell_type": "code",
   "execution_count": 13,
   "id": "c38c182a-846e-4a8f-95a9-5b501a443eb2",
   "metadata": {},
   "outputs": [],
   "source": [
    "import gc\n",
    "\n",
    "def gc_collect():\n",
    "    gc.collect()"
   ]
  },
  {
   "cell_type": "markdown",
   "id": "9cfbf5ef-7af6-4b6c-a97a-e87cd937e6fd",
   "metadata": {},
   "source": [
    "# 데이터 로드"
   ]
  },
  {
   "cell_type": "markdown",
   "id": "0cc07bde-20df-426f-b9d9-c58c1716ad00",
   "metadata": {},
   "source": [
    "## 1Cycle"
   ]
  },
  {
   "cell_type": "markdown",
   "id": "0ad6294f-bf3a-4729-807b-022179985f6f",
   "metadata": {},
   "source": [
    "### 1. 클라우드 스토리지 연동"
   ]
  },
  {
   "cell_type": "code",
   "execution_count": 14,
   "id": "4fa72e69-8daf-4581-b690-3abf20b8daf2",
   "metadata": {
    "scrolled": true
   },
   "outputs": [],
   "source": [
    "# !pip install librosa google-cloud-storage soundfile"
   ]
  },
  {
   "cell_type": "code",
   "execution_count": 15,
   "id": "e7826f03-66d8-4500-b1cb-2d339d6ad084",
   "metadata": {},
   "outputs": [],
   "source": [
    "# import soundfile as sf\n",
    "# from google.cloud import storage\n",
    "# from io import BytesIO\n",
    "# from collections import defaultdict"
   ]
  },
  {
   "cell_type": "code",
   "execution_count": 16,
   "id": "2e6ca1db-a2c2-46f1-b02c-6a7dc05c0478",
   "metadata": {},
   "outputs": [],
   "source": [
    "# #클라이언트 생성\n",
    "# client = storage.Client()"
   ]
  },
  {
   "cell_type": "code",
   "execution_count": 17,
   "id": "300c4583-9fbb-4f35-8feb-a64ec01c10ba",
   "metadata": {},
   "outputs": [],
   "source": [
    "# # 버킷 및 기본 폴더 경로 설정\n",
    "# bucket_name = 'voicemodel'\n",
    "# base_folder = 'data/'"
   ]
  },
  {
   "cell_type": "code",
   "execution_count": 18,
   "id": "72aa93ae-ce0e-48d4-a974-dea7d9e12e15",
   "metadata": {},
   "outputs": [],
   "source": [
    "# # 버킷 가져오기\n",
    "# bucket = client.get_bucket(bucket_name)"
   ]
  },
  {
   "cell_type": "code",
   "execution_count": 19,
   "id": "976381bb-311a-47ac-8df3-74cd47304580",
   "metadata": {},
   "outputs": [],
   "source": [
    "# # 경로와 폴더명 저장할 초기 list 생성\n",
    "# folder_name = []\n",
    "# file_path = []"
   ]
  },
  {
   "cell_type": "code",
   "execution_count": 20,
   "id": "0bd19494-aaac-411a-a472-4f37ad466b31",
   "metadata": {},
   "outputs": [],
   "source": [
    "# # data 폴더 안의 모드 파일 가져오기\n",
    "# blobs = bucket.list_blobs(prefix=base_folder)"
   ]
  },
  {
   "cell_type": "code",
   "execution_count": 21,
   "id": "6b11c993-47b2-4654-b63d-fd953a4e7276",
   "metadata": {},
   "outputs": [],
   "source": [
    "# # 파일 반복 처리\n",
    "# for blob in blobs:\n",
    "#     # 폴더 이름 저장\n",
    "#     folder_name.append(blob.name.split('/')[1])\n",
    "#     # 경로 저장\n",
    "#     file_path.append(blob.name)"
   ]
  },
  {
   "cell_type": "markdown",
   "id": "c5412e44-69ed-4334-8c3c-916ac93c8ae7",
   "metadata": {},
   "source": [
    "### 2. 라벨링 데이터 로드"
   ]
  },
  {
   "cell_type": "code",
   "execution_count": 22,
   "id": "5c772c73-bd5f-471b-9aa2-eaa6d45eaf87",
   "metadata": {},
   "outputs": [],
   "source": [
    "# # 라벨링 데이터 로드\n",
    "# labeling = pd.read_csv('./data/csv/labeling.csv', low_memory=False)\n",
    "\n",
    "# # 감정 데이터 길이 확장\n",
    "# repeated_emotion = labeling['감정'].tolist() * (len(file_path) // len(labeling) + 1)\n",
    "# repeated_emotion = repeated_emotion[:len(file_path)]  # 파일 수에 맞게 자르기"
   ]
  },
  {
   "cell_type": "code",
   "execution_count": 23,
   "id": "ba3d92ad-133b-4e28-a6c3-d148e166063e",
   "metadata": {},
   "outputs": [],
   "source": [
    "# # 데이터프레임 생성\n",
    "# label_df = pd.DataFrame({\n",
    "#     'folder_name': folder_name,\n",
    "#     'file_path': file_path,\n",
    "#     'emotion': repeated_emotion\n",
    "# })"
   ]
  },
  {
   "cell_type": "code",
   "execution_count": 24,
   "id": "7f871f9a-3d92-47df-b25b-f90555bbecda",
   "metadata": {},
   "outputs": [],
   "source": [
    "# # 결측치 확인(사용하지 않는 감정 데이터 확인)\n",
    "# label_df.isnull().sum()"
   ]
  },
  {
   "cell_type": "code",
   "execution_count": 25,
   "id": "3538b26c-df9c-4ffa-8078-5c82b5d454f1",
   "metadata": {},
   "outputs": [],
   "source": [
    "# # 데이터 프레임 복제\n",
    "# labeling_df = label_df.copy()\n",
    "\n",
    "# # 결측치 제거 (사용하지 않는 감정 데이터 제거)\n",
    "# labeling_df.dropna(inplace=True)\n",
    "\n",
    "# # 제거 확인\n",
    "# labeling_df.isnull().sum()"
   ]
  },
  {
   "cell_type": "markdown",
   "id": "1d8a3e4d-d01d-4198-8c0a-f4c8acf7de39",
   "metadata": {},
   "source": [
    "### 3. 음성 데이터 로드"
   ]
  },
  {
   "cell_type": "code",
   "execution_count": 26,
   "id": "35a1d9c9-1115-4f3e-98e3-565b62413397",
   "metadata": {},
   "outputs": [],
   "source": [
    "# # 데이터 모아두는 초기 list 생성\n",
    "# audio_data = []\n",
    "\n",
    "# for index, row in labeling_df.iterrows():\n",
    "#     # file_path에 해당하는 blob 객체 생성\n",
    "#     blob = bucket.blob(row['file_path'])\n",
    "\n",
    "#     # 음성 파일 메모리에 로드\n",
    "#     data = blob.download_as_bytes()\n",
    "\n",
    "#     # 메모리에서 직접 로드하여 librosa로 처리\n",
    "#     with BytesIO(data) as audio_file:\n",
    "#         y, sr = librosa.load(audio_file)\n",
    "#         audio_data.append((y, sr, row['file_path']))"
   ]
  },
  {
   "cell_type": "markdown",
   "id": "7314febe-7d35-4986-939d-2d59e9603223",
   "metadata": {},
   "source": [
    "#### ○ 트러블 슈팅\n",
    "메모리에 음성을 로드하는 방법은 메모리 사용량이 상당하여  \n",
    "음성 로드에 너무 많은 시간이 소요될 뿐만아니라, 메모리 부족 현상이 나타남.  \n",
    "gcsfuse를 통해 GCS 버킷 마운트 방법을 모색하려고 함. "
   ]
  },
  {
   "cell_type": "markdown",
   "id": "4082922f-bf30-4d95-99ae-1b04c2d8a79c",
   "metadata": {},
   "source": [
    "## 2Cycle"
   ]
  },
  {
   "cell_type": "markdown",
   "id": "30a23fcb-79bd-4288-bc5e-e2c407ab7df0",
   "metadata": {},
   "source": [
    "### 1. gcsfuse 마운트"
   ]
  },
  {
   "cell_type": "markdown",
   "id": "ec7d152b-088a-45b5-a641-73b6145edb9c",
   "metadata": {},
   "source": [
    "https://cloud.google.com/storage/docs/gcsfuse-mount?hl=ko  \n",
    "\n",
    "1. gcsfuse 설치  \n",
    "```\n",
    "sudo apt install gcsfuse\n",
    "```\n",
    "\n",
    "- 오류 코드: ```Unable to locate package gcsfuse```  \n",
    "- gcsfuse 패키지 저장소가 시스템에 추가되지 않아서 발생  \n",
    "- GCS Fuse 저장소를 수동으로 추가하고 설치  \n",
    "\n",
    "<br>\n",
    "\n",
    "1.1. 터미널에서  \n",
    "- GCS Fuse 저장소 추가  \n",
    "```echo \"deb http://packages.cloud.google.com/apt gcsfuse-$(lsb_release -c -s) main\" | sudo tee /etc/apt/sources.list.d/gcsfuse.list```\n",
    "\n",
    "- Google Cloud APT 키 추가  \n",
    "```curl https://packages.cloud.google.com/apt/doc/apt-key.gpg | sudo apt-key add -```\n",
    "\n",
    "- 패키지 목록 업데이트 및 gcsfuse 설치  \n",
    "```sudo apt update```  \n",
    "```sudo apt install gcsfuse```  \n",
    "\n",
    "<br>\n",
    "\n",
    "2. 디렉토리 생성  \n",
    "```\n",
    "sudo mkdir -p /mnt/gcs-bucket\n",
    "```\n",
    "\n",
    "- 권한 문제로 작동하지 않아 아래 방법으로 진행  \n",
    "\n",
    "```mkdir mnt```  \n",
    "```cd mnt```  \n",
    "```mkdir gcs-bucket``` \n",
    "\n",
    "<br>\n",
    "\n",
    "3. 마운트  \n",
    "```gcsfuse 버킷이름 마운드포인트```  \n",
    "\n",
    "<br>\n",
    "\n",
    "3.1. 권한문제 발생 시    \n",
    "```sudo gcsfuse -o allow_other --implicit-dirs 버킷이름 마운드포인트```\n",
    "\n",
    "<br>\n",
    "\n",
    "4. 마운트 해제  \n",
    "```fusermount -u /mnt/gcs-bucket```\n",
    "\n",
    "<br>\n",
    "\n",
    "5. 연결 자동화\n",
    "bucket mount 시 매번 입력하는 번거로움을 줄이기\n",
    "bucket_monut를 단축키로 명령어 자동 입력  \n",
    "\n",
    "```\n",
    "vim ~/.bashrc\n",
    "```\n",
    "```\n",
    "function bucket_mount() {\n",
    "    echo \"deb http://packages.cloud.google.com/apt gcsfuse-$(lsb_release -c -s) main\" | sudo tee /etc/apt/sources.list.d/gcsfuse.list\n",
    "    curl https://packages.cloud.google.com/apt/doc/apt-key.gpg | sudo apt-key add -\n",
    "    sudo apt update\n",
    "    sudo apt install -y gcsfuse\n",
    "    sudo gcsfuse -o allow_other --implicit-dirs 버킷이름 마운드포인\n",
    "}\n",
    "alias bucket_mount=bucket_mount\n",
    "```"
   ]
  },
  {
   "cell_type": "code",
   "execution_count": 27,
   "id": "afd3bfee-56af-4204-96bd-e0f34c8bdb56",
   "metadata": {},
   "outputs": [],
   "source": [
    "import os\n",
    "from glob import glob\n",
    "\n",
    "# 데이터 경로 담기\n",
    "wav_data = '/mnt/gcs-bucket/data/'\n",
    "\n",
    "# 해당 경로를 통해 폴더 찾기\n",
    "directories = glob(os.path.join(wav_data, '*'))"
   ]
  },
  {
   "cell_type": "code",
   "execution_count": 28,
   "id": "a1595e33-d542-46ff-8749-71d327a1dee4",
   "metadata": {
    "scrolled": true
   },
   "outputs": [
    {
     "data": {
      "text/plain": [
       "['/mnt/gcs-bucket/data/F2001',\n",
       " '/mnt/gcs-bucket/data/F2002',\n",
       " '/mnt/gcs-bucket/data/F2003',\n",
       " '/mnt/gcs-bucket/data/F2004',\n",
       " '/mnt/gcs-bucket/data/F2005',\n",
       " '/mnt/gcs-bucket/data/F2006',\n",
       " '/mnt/gcs-bucket/data/F2007',\n",
       " '/mnt/gcs-bucket/data/F2008',\n",
       " '/mnt/gcs-bucket/data/F2009',\n",
       " '/mnt/gcs-bucket/data/F2010',\n",
       " '/mnt/gcs-bucket/data/F2011',\n",
       " '/mnt/gcs-bucket/data/F2012',\n",
       " '/mnt/gcs-bucket/data/F2013',\n",
       " '/mnt/gcs-bucket/data/F2014',\n",
       " '/mnt/gcs-bucket/data/F2015',\n",
       " '/mnt/gcs-bucket/data/F2016',\n",
       " '/mnt/gcs-bucket/data/F2017',\n",
       " '/mnt/gcs-bucket/data/F2018',\n",
       " '/mnt/gcs-bucket/data/F2019',\n",
       " '/mnt/gcs-bucket/data/F2020',\n",
       " '/mnt/gcs-bucket/data/F2021',\n",
       " '/mnt/gcs-bucket/data/F2022',\n",
       " '/mnt/gcs-bucket/data/F2023',\n",
       " '/mnt/gcs-bucket/data/F2024',\n",
       " '/mnt/gcs-bucket/data/F2025',\n",
       " '/mnt/gcs-bucket/data/F2026',\n",
       " '/mnt/gcs-bucket/data/F2027',\n",
       " '/mnt/gcs-bucket/data/F2028',\n",
       " '/mnt/gcs-bucket/data/F2029',\n",
       " '/mnt/gcs-bucket/data/F2030',\n",
       " '/mnt/gcs-bucket/data/F2031',\n",
       " '/mnt/gcs-bucket/data/F2032',\n",
       " '/mnt/gcs-bucket/data/F2033',\n",
       " '/mnt/gcs-bucket/data/F2034',\n",
       " '/mnt/gcs-bucket/data/F2035',\n",
       " '/mnt/gcs-bucket/data/F2036',\n",
       " '/mnt/gcs-bucket/data/F2037',\n",
       " '/mnt/gcs-bucket/data/F2038',\n",
       " '/mnt/gcs-bucket/data/F2039',\n",
       " '/mnt/gcs-bucket/data/F2040',\n",
       " '/mnt/gcs-bucket/data/F2041',\n",
       " '/mnt/gcs-bucket/data/F2042',\n",
       " '/mnt/gcs-bucket/data/F2043',\n",
       " '/mnt/gcs-bucket/data/F2044',\n",
       " '/mnt/gcs-bucket/data/F2045',\n",
       " '/mnt/gcs-bucket/data/F2046',\n",
       " '/mnt/gcs-bucket/data/F2047',\n",
       " '/mnt/gcs-bucket/data/F2048',\n",
       " '/mnt/gcs-bucket/data/F2049',\n",
       " '/mnt/gcs-bucket/data/F2050',\n",
       " '/mnt/gcs-bucket/data/F2051',\n",
       " '/mnt/gcs-bucket/data/F2052',\n",
       " '/mnt/gcs-bucket/data/F2053',\n",
       " '/mnt/gcs-bucket/data/F2054',\n",
       " '/mnt/gcs-bucket/data/F2055',\n",
       " '/mnt/gcs-bucket/data/F2056',\n",
       " '/mnt/gcs-bucket/data/F2057',\n",
       " '/mnt/gcs-bucket/data/F2058',\n",
       " '/mnt/gcs-bucket/data/F2059',\n",
       " '/mnt/gcs-bucket/data/F2060',\n",
       " '/mnt/gcs-bucket/data/F2061',\n",
       " '/mnt/gcs-bucket/data/F2062',\n",
       " '/mnt/gcs-bucket/data/F2063',\n",
       " '/mnt/gcs-bucket/data/F2064',\n",
       " '/mnt/gcs-bucket/data/F2065',\n",
       " '/mnt/gcs-bucket/data/F2066',\n",
       " '/mnt/gcs-bucket/data/F2067',\n",
       " '/mnt/gcs-bucket/data/F2068',\n",
       " '/mnt/gcs-bucket/data/F2069',\n",
       " '/mnt/gcs-bucket/data/F2070',\n",
       " '/mnt/gcs-bucket/data/F2071',\n",
       " '/mnt/gcs-bucket/data/F2072',\n",
       " '/mnt/gcs-bucket/data/F2073',\n",
       " '/mnt/gcs-bucket/data/F3001',\n",
       " '/mnt/gcs-bucket/data/F3002',\n",
       " '/mnt/gcs-bucket/data/F3003',\n",
       " '/mnt/gcs-bucket/data/F3004',\n",
       " '/mnt/gcs-bucket/data/F3005',\n",
       " '/mnt/gcs-bucket/data/F3006',\n",
       " '/mnt/gcs-bucket/data/F3007',\n",
       " '/mnt/gcs-bucket/data/F3008',\n",
       " '/mnt/gcs-bucket/data/F3009',\n",
       " '/mnt/gcs-bucket/data/F3010',\n",
       " '/mnt/gcs-bucket/data/F3011',\n",
       " '/mnt/gcs-bucket/data/F3012',\n",
       " '/mnt/gcs-bucket/data/F3013',\n",
       " '/mnt/gcs-bucket/data/F3014',\n",
       " '/mnt/gcs-bucket/data/F3015',\n",
       " '/mnt/gcs-bucket/data/F3016',\n",
       " '/mnt/gcs-bucket/data/F3017',\n",
       " '/mnt/gcs-bucket/data/F3018',\n",
       " '/mnt/gcs-bucket/data/F3019',\n",
       " '/mnt/gcs-bucket/data/F3020',\n",
       " '/mnt/gcs-bucket/data/F3021',\n",
       " '/mnt/gcs-bucket/data/F3022',\n",
       " '/mnt/gcs-bucket/data/F3023',\n",
       " '/mnt/gcs-bucket/data/F3024',\n",
       " '/mnt/gcs-bucket/data/F3025',\n",
       " '/mnt/gcs-bucket/data/F3026',\n",
       " '/mnt/gcs-bucket/data/F3027',\n",
       " '/mnt/gcs-bucket/data/F3028',\n",
       " '/mnt/gcs-bucket/data/F3029',\n",
       " '/mnt/gcs-bucket/data/F3030',\n",
       " '/mnt/gcs-bucket/data/F3031',\n",
       " '/mnt/gcs-bucket/data/F3032',\n",
       " '/mnt/gcs-bucket/data/F3033',\n",
       " '/mnt/gcs-bucket/data/F3034',\n",
       " '/mnt/gcs-bucket/data/F3035',\n",
       " '/mnt/gcs-bucket/data/F3036',\n",
       " '/mnt/gcs-bucket/data/F3037',\n",
       " '/mnt/gcs-bucket/data/F3038',\n",
       " '/mnt/gcs-bucket/data/F3039',\n",
       " '/mnt/gcs-bucket/data/F3040',\n",
       " '/mnt/gcs-bucket/data/F3041',\n",
       " '/mnt/gcs-bucket/data/F3042',\n",
       " '/mnt/gcs-bucket/data/F3043',\n",
       " '/mnt/gcs-bucket/data/F3044',\n",
       " '/mnt/gcs-bucket/data/F3045',\n",
       " '/mnt/gcs-bucket/data/F3046',\n",
       " '/mnt/gcs-bucket/data/F3047',\n",
       " '/mnt/gcs-bucket/data/F3048',\n",
       " '/mnt/gcs-bucket/data/F3049',\n",
       " '/mnt/gcs-bucket/data/F3050',\n",
       " '/mnt/gcs-bucket/data/F3051',\n",
       " '/mnt/gcs-bucket/data/F3052',\n",
       " '/mnt/gcs-bucket/data/F3053',\n",
       " '/mnt/gcs-bucket/data/F3054',\n",
       " '/mnt/gcs-bucket/data/F3055',\n",
       " '/mnt/gcs-bucket/data/F3056',\n",
       " '/mnt/gcs-bucket/data/F3057',\n",
       " '/mnt/gcs-bucket/data/F3058',\n",
       " '/mnt/gcs-bucket/data/F3059',\n",
       " '/mnt/gcs-bucket/data/F3060',\n",
       " '/mnt/gcs-bucket/data/F3061',\n",
       " '/mnt/gcs-bucket/data/F3062',\n",
       " '/mnt/gcs-bucket/data/F3063',\n",
       " '/mnt/gcs-bucket/data/F3064',\n",
       " '/mnt/gcs-bucket/data/F3065',\n",
       " '/mnt/gcs-bucket/data/F3066',\n",
       " '/mnt/gcs-bucket/data/F4001',\n",
       " '/mnt/gcs-bucket/data/F4002',\n",
       " '/mnt/gcs-bucket/data/F4003',\n",
       " '/mnt/gcs-bucket/data/F4004',\n",
       " '/mnt/gcs-bucket/data/F4005',\n",
       " '/mnt/gcs-bucket/data/F4006',\n",
       " '/mnt/gcs-bucket/data/F4007',\n",
       " '/mnt/gcs-bucket/data/F4008',\n",
       " '/mnt/gcs-bucket/data/F4009',\n",
       " '/mnt/gcs-bucket/data/F4010',\n",
       " '/mnt/gcs-bucket/data/F4011',\n",
       " '/mnt/gcs-bucket/data/F4012',\n",
       " '/mnt/gcs-bucket/data/F4013',\n",
       " '/mnt/gcs-bucket/data/F4014',\n",
       " '/mnt/gcs-bucket/data/F4015',\n",
       " '/mnt/gcs-bucket/data/F4016',\n",
       " '/mnt/gcs-bucket/data/F4017',\n",
       " '/mnt/gcs-bucket/data/F4018',\n",
       " '/mnt/gcs-bucket/data/F4019',\n",
       " '/mnt/gcs-bucket/data/F4020',\n",
       " '/mnt/gcs-bucket/data/F4021',\n",
       " '/mnt/gcs-bucket/data/F4022',\n",
       " '/mnt/gcs-bucket/data/F4023',\n",
       " '/mnt/gcs-bucket/data/F4024',\n",
       " '/mnt/gcs-bucket/data/F4025',\n",
       " '/mnt/gcs-bucket/data/F4026',\n",
       " '/mnt/gcs-bucket/data/F4027',\n",
       " '/mnt/gcs-bucket/data/F4028',\n",
       " '/mnt/gcs-bucket/data/F4029',\n",
       " '/mnt/gcs-bucket/data/F4030',\n",
       " '/mnt/gcs-bucket/data/F4031',\n",
       " '/mnt/gcs-bucket/data/F4032',\n",
       " '/mnt/gcs-bucket/data/F4033',\n",
       " '/mnt/gcs-bucket/data/F4034',\n",
       " '/mnt/gcs-bucket/data/F4035',\n",
       " '/mnt/gcs-bucket/data/F4036',\n",
       " '/mnt/gcs-bucket/data/F4037',\n",
       " '/mnt/gcs-bucket/data/F4038',\n",
       " '/mnt/gcs-bucket/data/F4039',\n",
       " '/mnt/gcs-bucket/data/F4040',\n",
       " '/mnt/gcs-bucket/data/F4041',\n",
       " '/mnt/gcs-bucket/data/F4042',\n",
       " '/mnt/gcs-bucket/data/F4043',\n",
       " '/mnt/gcs-bucket/data/F4044',\n",
       " '/mnt/gcs-bucket/data/F4045',\n",
       " '/mnt/gcs-bucket/data/F4046',\n",
       " '/mnt/gcs-bucket/data/F4047',\n",
       " '/mnt/gcs-bucket/data/F4048',\n",
       " '/mnt/gcs-bucket/data/F4049',\n",
       " '/mnt/gcs-bucket/data/F4050',\n",
       " '/mnt/gcs-bucket/data/F4051',\n",
       " '/mnt/gcs-bucket/data/F4052',\n",
       " '/mnt/gcs-bucket/data/F5001',\n",
       " '/mnt/gcs-bucket/data/F5002',\n",
       " '/mnt/gcs-bucket/data/F5003',\n",
       " '/mnt/gcs-bucket/data/F5004',\n",
       " '/mnt/gcs-bucket/data/F5005',\n",
       " '/mnt/gcs-bucket/data/F5006',\n",
       " '/mnt/gcs-bucket/data/F5007',\n",
       " '/mnt/gcs-bucket/data/F5008',\n",
       " '/mnt/gcs-bucket/data/F5009',\n",
       " '/mnt/gcs-bucket/data/F5010',\n",
       " '/mnt/gcs-bucket/data/F5011',\n",
       " '/mnt/gcs-bucket/data/F5012',\n",
       " '/mnt/gcs-bucket/data/F5013',\n",
       " '/mnt/gcs-bucket/data/F5014',\n",
       " '/mnt/gcs-bucket/data/F5015',\n",
       " '/mnt/gcs-bucket/data/F5016',\n",
       " '/mnt/gcs-bucket/data/F5017',\n",
       " '/mnt/gcs-bucket/data/F5018',\n",
       " '/mnt/gcs-bucket/data/F5019',\n",
       " '/mnt/gcs-bucket/data/F5020',\n",
       " '/mnt/gcs-bucket/data/F5021',\n",
       " '/mnt/gcs-bucket/data/F5022',\n",
       " '/mnt/gcs-bucket/data/F5023',\n",
       " '/mnt/gcs-bucket/data/F5024',\n",
       " '/mnt/gcs-bucket/data/F5025',\n",
       " '/mnt/gcs-bucket/data/F5026',\n",
       " '/mnt/gcs-bucket/data/F5027',\n",
       " '/mnt/gcs-bucket/data/F5028',\n",
       " '/mnt/gcs-bucket/data/F5029',\n",
       " '/mnt/gcs-bucket/data/F5030',\n",
       " '/mnt/gcs-bucket/data/F5031',\n",
       " '/mnt/gcs-bucket/data/F5032',\n",
       " '/mnt/gcs-bucket/data/F5033',\n",
       " '/mnt/gcs-bucket/data/F5034',\n",
       " '/mnt/gcs-bucket/data/F5035',\n",
       " '/mnt/gcs-bucket/data/F5036',\n",
       " '/mnt/gcs-bucket/data/F5037',\n",
       " '/mnt/gcs-bucket/data/F5038',\n",
       " '/mnt/gcs-bucket/data/F5039',\n",
       " '/mnt/gcs-bucket/data/F5040',\n",
       " '/mnt/gcs-bucket/data/F5041',\n",
       " '/mnt/gcs-bucket/data/F5042',\n",
       " '/mnt/gcs-bucket/data/F5043',\n",
       " '/mnt/gcs-bucket/data/F5044',\n",
       " '/mnt/gcs-bucket/data/F5045',\n",
       " '/mnt/gcs-bucket/data/F5046',\n",
       " '/mnt/gcs-bucket/data/F5047',\n",
       " '/mnt/gcs-bucket/data/F5048',\n",
       " '/mnt/gcs-bucket/data/F5049',\n",
       " '/mnt/gcs-bucket/data/F5050',\n",
       " '/mnt/gcs-bucket/data/F5051',\n",
       " '/mnt/gcs-bucket/data/F5052',\n",
       " '/mnt/gcs-bucket/data/F5053',\n",
       " '/mnt/gcs-bucket/data/F6001',\n",
       " '/mnt/gcs-bucket/data/F6002',\n",
       " '/mnt/gcs-bucket/data/F6003',\n",
       " '/mnt/gcs-bucket/data/F6004',\n",
       " '/mnt/gcs-bucket/data/F6005',\n",
       " '/mnt/gcs-bucket/data/M2001',\n",
       " '/mnt/gcs-bucket/data/M2002',\n",
       " '/mnt/gcs-bucket/data/M2003',\n",
       " '/mnt/gcs-bucket/data/M2004',\n",
       " '/mnt/gcs-bucket/data/M2005',\n",
       " '/mnt/gcs-bucket/data/M2006',\n",
       " '/mnt/gcs-bucket/data/M2007',\n",
       " '/mnt/gcs-bucket/data/M2008',\n",
       " '/mnt/gcs-bucket/data/M2009',\n",
       " '/mnt/gcs-bucket/data/M2010',\n",
       " '/mnt/gcs-bucket/data/M2011',\n",
       " '/mnt/gcs-bucket/data/M2012',\n",
       " '/mnt/gcs-bucket/data/M2013',\n",
       " '/mnt/gcs-bucket/data/M2014',\n",
       " '/mnt/gcs-bucket/data/M2015',\n",
       " '/mnt/gcs-bucket/data/M2016',\n",
       " '/mnt/gcs-bucket/data/M2017',\n",
       " '/mnt/gcs-bucket/data/M2018',\n",
       " '/mnt/gcs-bucket/data/M2019',\n",
       " '/mnt/gcs-bucket/data/M2020',\n",
       " '/mnt/gcs-bucket/data/M2021',\n",
       " '/mnt/gcs-bucket/data/M2022',\n",
       " '/mnt/gcs-bucket/data/M2023',\n",
       " '/mnt/gcs-bucket/data/M2024',\n",
       " '/mnt/gcs-bucket/data/M2025',\n",
       " '/mnt/gcs-bucket/data/M2026',\n",
       " '/mnt/gcs-bucket/data/M2027',\n",
       " '/mnt/gcs-bucket/data/M2028',\n",
       " '/mnt/gcs-bucket/data/M2029',\n",
       " '/mnt/gcs-bucket/data/M2030',\n",
       " '/mnt/gcs-bucket/data/M2031',\n",
       " '/mnt/gcs-bucket/data/M2032',\n",
       " '/mnt/gcs-bucket/data/M2033',\n",
       " '/mnt/gcs-bucket/data/M2034',\n",
       " '/mnt/gcs-bucket/data/M2035',\n",
       " '/mnt/gcs-bucket/data/M2036',\n",
       " '/mnt/gcs-bucket/data/M2037',\n",
       " '/mnt/gcs-bucket/data/M2038',\n",
       " '/mnt/gcs-bucket/data/M2039',\n",
       " '/mnt/gcs-bucket/data/M2040',\n",
       " '/mnt/gcs-bucket/data/M2041',\n",
       " '/mnt/gcs-bucket/data/M2042',\n",
       " '/mnt/gcs-bucket/data/M2043',\n",
       " '/mnt/gcs-bucket/data/M2044',\n",
       " '/mnt/gcs-bucket/data/M2045',\n",
       " '/mnt/gcs-bucket/data/M2046',\n",
       " '/mnt/gcs-bucket/data/M2047',\n",
       " '/mnt/gcs-bucket/data/M2048',\n",
       " '/mnt/gcs-bucket/data/M2049',\n",
       " '/mnt/gcs-bucket/data/M2050',\n",
       " '/mnt/gcs-bucket/data/M2051',\n",
       " '/mnt/gcs-bucket/data/M2052',\n",
       " '/mnt/gcs-bucket/data/M2053',\n",
       " '/mnt/gcs-bucket/data/M2054',\n",
       " '/mnt/gcs-bucket/data/M2055',\n",
       " '/mnt/gcs-bucket/data/M2056',\n",
       " '/mnt/gcs-bucket/data/M2057',\n",
       " '/mnt/gcs-bucket/data/M2058',\n",
       " '/mnt/gcs-bucket/data/M2059',\n",
       " '/mnt/gcs-bucket/data/M2060',\n",
       " '/mnt/gcs-bucket/data/M2061',\n",
       " '/mnt/gcs-bucket/data/M2062',\n",
       " '/mnt/gcs-bucket/data/M3001',\n",
       " '/mnt/gcs-bucket/data/M3002',\n",
       " '/mnt/gcs-bucket/data/M3003',\n",
       " '/mnt/gcs-bucket/data/M3004',\n",
       " '/mnt/gcs-bucket/data/M3005',\n",
       " '/mnt/gcs-bucket/data/M3006',\n",
       " '/mnt/gcs-bucket/data/M3007',\n",
       " '/mnt/gcs-bucket/data/M3008',\n",
       " '/mnt/gcs-bucket/data/M3009',\n",
       " '/mnt/gcs-bucket/data/M3010',\n",
       " '/mnt/gcs-bucket/data/M3011',\n",
       " '/mnt/gcs-bucket/data/M3012',\n",
       " '/mnt/gcs-bucket/data/M3013',\n",
       " '/mnt/gcs-bucket/data/M3014',\n",
       " '/mnt/gcs-bucket/data/M3015',\n",
       " '/mnt/gcs-bucket/data/M3016',\n",
       " '/mnt/gcs-bucket/data/M3017',\n",
       " '/mnt/gcs-bucket/data/M3018',\n",
       " '/mnt/gcs-bucket/data/M3019',\n",
       " '/mnt/gcs-bucket/data/M3020',\n",
       " '/mnt/gcs-bucket/data/M3021',\n",
       " '/mnt/gcs-bucket/data/M3022',\n",
       " '/mnt/gcs-bucket/data/M3023',\n",
       " '/mnt/gcs-bucket/data/M3024',\n",
       " '/mnt/gcs-bucket/data/M3025',\n",
       " '/mnt/gcs-bucket/data/M3026',\n",
       " '/mnt/gcs-bucket/data/M3027',\n",
       " '/mnt/gcs-bucket/data/M3028',\n",
       " '/mnt/gcs-bucket/data/M3029',\n",
       " '/mnt/gcs-bucket/data/M3030',\n",
       " '/mnt/gcs-bucket/data/M3031',\n",
       " '/mnt/gcs-bucket/data/M3032',\n",
       " '/mnt/gcs-bucket/data/M3033',\n",
       " '/mnt/gcs-bucket/data/M3034',\n",
       " '/mnt/gcs-bucket/data/M3035',\n",
       " '/mnt/gcs-bucket/data/M3036',\n",
       " '/mnt/gcs-bucket/data/M3037',\n",
       " '/mnt/gcs-bucket/data/M3038',\n",
       " '/mnt/gcs-bucket/data/M3039',\n",
       " '/mnt/gcs-bucket/data/M3040',\n",
       " '/mnt/gcs-bucket/data/M3041',\n",
       " '/mnt/gcs-bucket/data/M3042',\n",
       " '/mnt/gcs-bucket/data/M3043',\n",
       " '/mnt/gcs-bucket/data/M3044',\n",
       " '/mnt/gcs-bucket/data/M3045',\n",
       " '/mnt/gcs-bucket/data/M3046',\n",
       " '/mnt/gcs-bucket/data/M3047',\n",
       " '/mnt/gcs-bucket/data/M3048',\n",
       " '/mnt/gcs-bucket/data/M3049',\n",
       " '/mnt/gcs-bucket/data/M3050',\n",
       " '/mnt/gcs-bucket/data/M3051',\n",
       " '/mnt/gcs-bucket/data/M3052',\n",
       " '/mnt/gcs-bucket/data/M3053',\n",
       " '/mnt/gcs-bucket/data/M3054',\n",
       " '/mnt/gcs-bucket/data/M3055',\n",
       " '/mnt/gcs-bucket/data/M3056',\n",
       " '/mnt/gcs-bucket/data/M3057',\n",
       " '/mnt/gcs-bucket/data/M3058',\n",
       " '/mnt/gcs-bucket/data/M3059',\n",
       " '/mnt/gcs-bucket/data/M3060',\n",
       " '/mnt/gcs-bucket/data/M3061',\n",
       " '/mnt/gcs-bucket/data/M3062',\n",
       " '/mnt/gcs-bucket/data/M3063',\n",
       " '/mnt/gcs-bucket/data/M3064',\n",
       " '/mnt/gcs-bucket/data/M3065',\n",
       " '/mnt/gcs-bucket/data/M3066',\n",
       " '/mnt/gcs-bucket/data/M3067',\n",
       " '/mnt/gcs-bucket/data/M3068',\n",
       " '/mnt/gcs-bucket/data/M3069',\n",
       " '/mnt/gcs-bucket/data/M3070',\n",
       " '/mnt/gcs-bucket/data/M4001',\n",
       " '/mnt/gcs-bucket/data/M4002',\n",
       " '/mnt/gcs-bucket/data/M4003',\n",
       " '/mnt/gcs-bucket/data/M4004',\n",
       " '/mnt/gcs-bucket/data/M4005',\n",
       " '/mnt/gcs-bucket/data/M4006',\n",
       " '/mnt/gcs-bucket/data/M4007',\n",
       " '/mnt/gcs-bucket/data/M4008',\n",
       " '/mnt/gcs-bucket/data/M4009',\n",
       " '/mnt/gcs-bucket/data/M4010',\n",
       " '/mnt/gcs-bucket/data/M4011',\n",
       " '/mnt/gcs-bucket/data/M4012',\n",
       " '/mnt/gcs-bucket/data/M4013',\n",
       " '/mnt/gcs-bucket/data/M4014',\n",
       " '/mnt/gcs-bucket/data/M4015',\n",
       " '/mnt/gcs-bucket/data/M4016',\n",
       " '/mnt/gcs-bucket/data/M4017',\n",
       " '/mnt/gcs-bucket/data/M4018',\n",
       " '/mnt/gcs-bucket/data/M4019',\n",
       " '/mnt/gcs-bucket/data/M4020',\n",
       " '/mnt/gcs-bucket/data/M4021',\n",
       " '/mnt/gcs-bucket/data/M4022',\n",
       " '/mnt/gcs-bucket/data/M4023',\n",
       " '/mnt/gcs-bucket/data/M4024',\n",
       " '/mnt/gcs-bucket/data/M4025',\n",
       " '/mnt/gcs-bucket/data/M4026',\n",
       " '/mnt/gcs-bucket/data/M4027',\n",
       " '/mnt/gcs-bucket/data/M4028',\n",
       " '/mnt/gcs-bucket/data/M4029',\n",
       " '/mnt/gcs-bucket/data/M4030',\n",
       " '/mnt/gcs-bucket/data/M4031',\n",
       " '/mnt/gcs-bucket/data/M4032',\n",
       " '/mnt/gcs-bucket/data/M4033',\n",
       " '/mnt/gcs-bucket/data/M4034',\n",
       " '/mnt/gcs-bucket/data/M4035',\n",
       " '/mnt/gcs-bucket/data/M4036',\n",
       " '/mnt/gcs-bucket/data/M4037',\n",
       " '/mnt/gcs-bucket/data/M4038',\n",
       " '/mnt/gcs-bucket/data/M4039',\n",
       " '/mnt/gcs-bucket/data/M4040',\n",
       " '/mnt/gcs-bucket/data/M4041',\n",
       " '/mnt/gcs-bucket/data/M4042',\n",
       " '/mnt/gcs-bucket/data/M4043',\n",
       " '/mnt/gcs-bucket/data/M4044',\n",
       " '/mnt/gcs-bucket/data/M4045',\n",
       " '/mnt/gcs-bucket/data/M4046',\n",
       " '/mnt/gcs-bucket/data/M4047',\n",
       " '/mnt/gcs-bucket/data/M4048',\n",
       " '/mnt/gcs-bucket/data/M4049',\n",
       " '/mnt/gcs-bucket/data/M4050',\n",
       " '/mnt/gcs-bucket/data/M4051',\n",
       " '/mnt/gcs-bucket/data/M4052',\n",
       " '/mnt/gcs-bucket/data/M4053',\n",
       " '/mnt/gcs-bucket/data/M4054',\n",
       " '/mnt/gcs-bucket/data/M4055',\n",
       " '/mnt/gcs-bucket/data/M4056',\n",
       " '/mnt/gcs-bucket/data/M4057',\n",
       " '/mnt/gcs-bucket/data/M4058',\n",
       " '/mnt/gcs-bucket/data/M4059',\n",
       " '/mnt/gcs-bucket/data/M5001',\n",
       " '/mnt/gcs-bucket/data/M5002',\n",
       " '/mnt/gcs-bucket/data/M5003',\n",
       " '/mnt/gcs-bucket/data/M5004',\n",
       " '/mnt/gcs-bucket/data/M5005',\n",
       " '/mnt/gcs-bucket/data/M5006',\n",
       " '/mnt/gcs-bucket/data/M5007',\n",
       " '/mnt/gcs-bucket/data/M5008',\n",
       " '/mnt/gcs-bucket/data/M5009',\n",
       " '/mnt/gcs-bucket/data/M5010',\n",
       " '/mnt/gcs-bucket/data/M5011',\n",
       " '/mnt/gcs-bucket/data/M5012',\n",
       " '/mnt/gcs-bucket/data/M5013',\n",
       " '/mnt/gcs-bucket/data/M5014',\n",
       " '/mnt/gcs-bucket/data/M5015',\n",
       " '/mnt/gcs-bucket/data/M5016',\n",
       " '/mnt/gcs-bucket/data/M5017',\n",
       " '/mnt/gcs-bucket/data/M5018',\n",
       " '/mnt/gcs-bucket/data/M5019',\n",
       " '/mnt/gcs-bucket/data/M5020',\n",
       " '/mnt/gcs-bucket/data/M5021',\n",
       " '/mnt/gcs-bucket/data/M5022',\n",
       " '/mnt/gcs-bucket/data/M5023',\n",
       " '/mnt/gcs-bucket/data/M5024',\n",
       " '/mnt/gcs-bucket/data/M5025',\n",
       " '/mnt/gcs-bucket/data/M5026',\n",
       " '/mnt/gcs-bucket/data/M5027',\n",
       " '/mnt/gcs-bucket/data/M5028',\n",
       " '/mnt/gcs-bucket/data/M5029',\n",
       " '/mnt/gcs-bucket/data/M5030',\n",
       " '/mnt/gcs-bucket/data/M5031',\n",
       " '/mnt/gcs-bucket/data/M5032',\n",
       " '/mnt/gcs-bucket/data/M5033',\n",
       " '/mnt/gcs-bucket/data/M5034',\n",
       " '/mnt/gcs-bucket/data/M5035',\n",
       " '/mnt/gcs-bucket/data/M5036',\n",
       " '/mnt/gcs-bucket/data/M5037',\n",
       " '/mnt/gcs-bucket/data/M5038',\n",
       " '/mnt/gcs-bucket/data/M5039',\n",
       " '/mnt/gcs-bucket/data/M5040',\n",
       " '/mnt/gcs-bucket/data/M5041',\n",
       " '/mnt/gcs-bucket/data/M5042',\n",
       " '/mnt/gcs-bucket/data/M5043',\n",
       " '/mnt/gcs-bucket/data/M5044',\n",
       " '/mnt/gcs-bucket/data/M5045',\n",
       " '/mnt/gcs-bucket/data/M5046',\n",
       " '/mnt/gcs-bucket/data/M5047',\n",
       " '/mnt/gcs-bucket/data/M5048',\n",
       " '/mnt/gcs-bucket/data/M5049',\n",
       " '/mnt/gcs-bucket/data/M5050',\n",
       " '/mnt/gcs-bucket/data/M5051',\n",
       " '/mnt/gcs-bucket/data/M5052',\n",
       " '/mnt/gcs-bucket/data/M5053',\n",
       " '/mnt/gcs-bucket/data/M5054',\n",
       " '/mnt/gcs-bucket/data/M5055',\n",
       " '/mnt/gcs-bucket/data/M5056',\n",
       " '/mnt/gcs-bucket/data/M5057',\n",
       " '/mnt/gcs-bucket/data/M6001',\n",
       " '/mnt/gcs-bucket/data/M6002',\n",
       " '/mnt/gcs-bucket/data/M6003']"
      ]
     },
     "execution_count": 28,
     "metadata": {},
     "output_type": "execute_result"
    }
   ],
   "source": [
    "directories"
   ]
  },
  {
   "cell_type": "code",
   "execution_count": 29,
   "id": "74a06c5b-026c-410e-8c66-1e555390c909",
   "metadata": {},
   "outputs": [],
   "source": [
    "# 폴더 이름 저장할 초기 list 생성\n",
    "dir_names = []\n",
    "\n",
    "for directory in directories:\n",
    "    # 디렉토리명 저장\n",
    "    dir_names.append(os.path.basename(directory))"
   ]
  },
  {
   "cell_type": "code",
   "execution_count": 30,
   "id": "7e4d6a67-0d54-4441-8515-6d78766d18e2",
   "metadata": {
    "scrolled": true
   },
   "outputs": [
    {
     "data": {
      "text/plain": [
       "['F2001',\n",
       " 'F2002',\n",
       " 'F2003',\n",
       " 'F2004',\n",
       " 'F2005',\n",
       " 'F2006',\n",
       " 'F2007',\n",
       " 'F2008',\n",
       " 'F2009',\n",
       " 'F2010',\n",
       " 'F2011',\n",
       " 'F2012',\n",
       " 'F2013',\n",
       " 'F2014',\n",
       " 'F2015',\n",
       " 'F2016',\n",
       " 'F2017',\n",
       " 'F2018',\n",
       " 'F2019',\n",
       " 'F2020',\n",
       " 'F2021',\n",
       " 'F2022',\n",
       " 'F2023',\n",
       " 'F2024',\n",
       " 'F2025',\n",
       " 'F2026',\n",
       " 'F2027',\n",
       " 'F2028',\n",
       " 'F2029',\n",
       " 'F2030',\n",
       " 'F2031',\n",
       " 'F2032',\n",
       " 'F2033',\n",
       " 'F2034',\n",
       " 'F2035',\n",
       " 'F2036',\n",
       " 'F2037',\n",
       " 'F2038',\n",
       " 'F2039',\n",
       " 'F2040',\n",
       " 'F2041',\n",
       " 'F2042',\n",
       " 'F2043',\n",
       " 'F2044',\n",
       " 'F2045',\n",
       " 'F2046',\n",
       " 'F2047',\n",
       " 'F2048',\n",
       " 'F2049',\n",
       " 'F2050',\n",
       " 'F2051',\n",
       " 'F2052',\n",
       " 'F2053',\n",
       " 'F2054',\n",
       " 'F2055',\n",
       " 'F2056',\n",
       " 'F2057',\n",
       " 'F2058',\n",
       " 'F2059',\n",
       " 'F2060',\n",
       " 'F2061',\n",
       " 'F2062',\n",
       " 'F2063',\n",
       " 'F2064',\n",
       " 'F2065',\n",
       " 'F2066',\n",
       " 'F2067',\n",
       " 'F2068',\n",
       " 'F2069',\n",
       " 'F2070',\n",
       " 'F2071',\n",
       " 'F2072',\n",
       " 'F2073',\n",
       " 'F3001',\n",
       " 'F3002',\n",
       " 'F3003',\n",
       " 'F3004',\n",
       " 'F3005',\n",
       " 'F3006',\n",
       " 'F3007',\n",
       " 'F3008',\n",
       " 'F3009',\n",
       " 'F3010',\n",
       " 'F3011',\n",
       " 'F3012',\n",
       " 'F3013',\n",
       " 'F3014',\n",
       " 'F3015',\n",
       " 'F3016',\n",
       " 'F3017',\n",
       " 'F3018',\n",
       " 'F3019',\n",
       " 'F3020',\n",
       " 'F3021',\n",
       " 'F3022',\n",
       " 'F3023',\n",
       " 'F3024',\n",
       " 'F3025',\n",
       " 'F3026',\n",
       " 'F3027',\n",
       " 'F3028',\n",
       " 'F3029',\n",
       " 'F3030',\n",
       " 'F3031',\n",
       " 'F3032',\n",
       " 'F3033',\n",
       " 'F3034',\n",
       " 'F3035',\n",
       " 'F3036',\n",
       " 'F3037',\n",
       " 'F3038',\n",
       " 'F3039',\n",
       " 'F3040',\n",
       " 'F3041',\n",
       " 'F3042',\n",
       " 'F3043',\n",
       " 'F3044',\n",
       " 'F3045',\n",
       " 'F3046',\n",
       " 'F3047',\n",
       " 'F3048',\n",
       " 'F3049',\n",
       " 'F3050',\n",
       " 'F3051',\n",
       " 'F3052',\n",
       " 'F3053',\n",
       " 'F3054',\n",
       " 'F3055',\n",
       " 'F3056',\n",
       " 'F3057',\n",
       " 'F3058',\n",
       " 'F3059',\n",
       " 'F3060',\n",
       " 'F3061',\n",
       " 'F3062',\n",
       " 'F3063',\n",
       " 'F3064',\n",
       " 'F3065',\n",
       " 'F3066',\n",
       " 'F4001',\n",
       " 'F4002',\n",
       " 'F4003',\n",
       " 'F4004',\n",
       " 'F4005',\n",
       " 'F4006',\n",
       " 'F4007',\n",
       " 'F4008',\n",
       " 'F4009',\n",
       " 'F4010',\n",
       " 'F4011',\n",
       " 'F4012',\n",
       " 'F4013',\n",
       " 'F4014',\n",
       " 'F4015',\n",
       " 'F4016',\n",
       " 'F4017',\n",
       " 'F4018',\n",
       " 'F4019',\n",
       " 'F4020',\n",
       " 'F4021',\n",
       " 'F4022',\n",
       " 'F4023',\n",
       " 'F4024',\n",
       " 'F4025',\n",
       " 'F4026',\n",
       " 'F4027',\n",
       " 'F4028',\n",
       " 'F4029',\n",
       " 'F4030',\n",
       " 'F4031',\n",
       " 'F4032',\n",
       " 'F4033',\n",
       " 'F4034',\n",
       " 'F4035',\n",
       " 'F4036',\n",
       " 'F4037',\n",
       " 'F4038',\n",
       " 'F4039',\n",
       " 'F4040',\n",
       " 'F4041',\n",
       " 'F4042',\n",
       " 'F4043',\n",
       " 'F4044',\n",
       " 'F4045',\n",
       " 'F4046',\n",
       " 'F4047',\n",
       " 'F4048',\n",
       " 'F4049',\n",
       " 'F4050',\n",
       " 'F4051',\n",
       " 'F4052',\n",
       " 'F5001',\n",
       " 'F5002',\n",
       " 'F5003',\n",
       " 'F5004',\n",
       " 'F5005',\n",
       " 'F5006',\n",
       " 'F5007',\n",
       " 'F5008',\n",
       " 'F5009',\n",
       " 'F5010',\n",
       " 'F5011',\n",
       " 'F5012',\n",
       " 'F5013',\n",
       " 'F5014',\n",
       " 'F5015',\n",
       " 'F5016',\n",
       " 'F5017',\n",
       " 'F5018',\n",
       " 'F5019',\n",
       " 'F5020',\n",
       " 'F5021',\n",
       " 'F5022',\n",
       " 'F5023',\n",
       " 'F5024',\n",
       " 'F5025',\n",
       " 'F5026',\n",
       " 'F5027',\n",
       " 'F5028',\n",
       " 'F5029',\n",
       " 'F5030',\n",
       " 'F5031',\n",
       " 'F5032',\n",
       " 'F5033',\n",
       " 'F5034',\n",
       " 'F5035',\n",
       " 'F5036',\n",
       " 'F5037',\n",
       " 'F5038',\n",
       " 'F5039',\n",
       " 'F5040',\n",
       " 'F5041',\n",
       " 'F5042',\n",
       " 'F5043',\n",
       " 'F5044',\n",
       " 'F5045',\n",
       " 'F5046',\n",
       " 'F5047',\n",
       " 'F5048',\n",
       " 'F5049',\n",
       " 'F5050',\n",
       " 'F5051',\n",
       " 'F5052',\n",
       " 'F5053',\n",
       " 'F6001',\n",
       " 'F6002',\n",
       " 'F6003',\n",
       " 'F6004',\n",
       " 'F6005',\n",
       " 'M2001',\n",
       " 'M2002',\n",
       " 'M2003',\n",
       " 'M2004',\n",
       " 'M2005',\n",
       " 'M2006',\n",
       " 'M2007',\n",
       " 'M2008',\n",
       " 'M2009',\n",
       " 'M2010',\n",
       " 'M2011',\n",
       " 'M2012',\n",
       " 'M2013',\n",
       " 'M2014',\n",
       " 'M2015',\n",
       " 'M2016',\n",
       " 'M2017',\n",
       " 'M2018',\n",
       " 'M2019',\n",
       " 'M2020',\n",
       " 'M2021',\n",
       " 'M2022',\n",
       " 'M2023',\n",
       " 'M2024',\n",
       " 'M2025',\n",
       " 'M2026',\n",
       " 'M2027',\n",
       " 'M2028',\n",
       " 'M2029',\n",
       " 'M2030',\n",
       " 'M2031',\n",
       " 'M2032',\n",
       " 'M2033',\n",
       " 'M2034',\n",
       " 'M2035',\n",
       " 'M2036',\n",
       " 'M2037',\n",
       " 'M2038',\n",
       " 'M2039',\n",
       " 'M2040',\n",
       " 'M2041',\n",
       " 'M2042',\n",
       " 'M2043',\n",
       " 'M2044',\n",
       " 'M2045',\n",
       " 'M2046',\n",
       " 'M2047',\n",
       " 'M2048',\n",
       " 'M2049',\n",
       " 'M2050',\n",
       " 'M2051',\n",
       " 'M2052',\n",
       " 'M2053',\n",
       " 'M2054',\n",
       " 'M2055',\n",
       " 'M2056',\n",
       " 'M2057',\n",
       " 'M2058',\n",
       " 'M2059',\n",
       " 'M2060',\n",
       " 'M2061',\n",
       " 'M2062',\n",
       " 'M3001',\n",
       " 'M3002',\n",
       " 'M3003',\n",
       " 'M3004',\n",
       " 'M3005',\n",
       " 'M3006',\n",
       " 'M3007',\n",
       " 'M3008',\n",
       " 'M3009',\n",
       " 'M3010',\n",
       " 'M3011',\n",
       " 'M3012',\n",
       " 'M3013',\n",
       " 'M3014',\n",
       " 'M3015',\n",
       " 'M3016',\n",
       " 'M3017',\n",
       " 'M3018',\n",
       " 'M3019',\n",
       " 'M3020',\n",
       " 'M3021',\n",
       " 'M3022',\n",
       " 'M3023',\n",
       " 'M3024',\n",
       " 'M3025',\n",
       " 'M3026',\n",
       " 'M3027',\n",
       " 'M3028',\n",
       " 'M3029',\n",
       " 'M3030',\n",
       " 'M3031',\n",
       " 'M3032',\n",
       " 'M3033',\n",
       " 'M3034',\n",
       " 'M3035',\n",
       " 'M3036',\n",
       " 'M3037',\n",
       " 'M3038',\n",
       " 'M3039',\n",
       " 'M3040',\n",
       " 'M3041',\n",
       " 'M3042',\n",
       " 'M3043',\n",
       " 'M3044',\n",
       " 'M3045',\n",
       " 'M3046',\n",
       " 'M3047',\n",
       " 'M3048',\n",
       " 'M3049',\n",
       " 'M3050',\n",
       " 'M3051',\n",
       " 'M3052',\n",
       " 'M3053',\n",
       " 'M3054',\n",
       " 'M3055',\n",
       " 'M3056',\n",
       " 'M3057',\n",
       " 'M3058',\n",
       " 'M3059',\n",
       " 'M3060',\n",
       " 'M3061',\n",
       " 'M3062',\n",
       " 'M3063',\n",
       " 'M3064',\n",
       " 'M3065',\n",
       " 'M3066',\n",
       " 'M3067',\n",
       " 'M3068',\n",
       " 'M3069',\n",
       " 'M3070',\n",
       " 'M4001',\n",
       " 'M4002',\n",
       " 'M4003',\n",
       " 'M4004',\n",
       " 'M4005',\n",
       " 'M4006',\n",
       " 'M4007',\n",
       " 'M4008',\n",
       " 'M4009',\n",
       " 'M4010',\n",
       " 'M4011',\n",
       " 'M4012',\n",
       " 'M4013',\n",
       " 'M4014',\n",
       " 'M4015',\n",
       " 'M4016',\n",
       " 'M4017',\n",
       " 'M4018',\n",
       " 'M4019',\n",
       " 'M4020',\n",
       " 'M4021',\n",
       " 'M4022',\n",
       " 'M4023',\n",
       " 'M4024',\n",
       " 'M4025',\n",
       " 'M4026',\n",
       " 'M4027',\n",
       " 'M4028',\n",
       " 'M4029',\n",
       " 'M4030',\n",
       " 'M4031',\n",
       " 'M4032',\n",
       " 'M4033',\n",
       " 'M4034',\n",
       " 'M4035',\n",
       " 'M4036',\n",
       " 'M4037',\n",
       " 'M4038',\n",
       " 'M4039',\n",
       " 'M4040',\n",
       " 'M4041',\n",
       " 'M4042',\n",
       " 'M4043',\n",
       " 'M4044',\n",
       " 'M4045',\n",
       " 'M4046',\n",
       " 'M4047',\n",
       " 'M4048',\n",
       " 'M4049',\n",
       " 'M4050',\n",
       " 'M4051',\n",
       " 'M4052',\n",
       " 'M4053',\n",
       " 'M4054',\n",
       " 'M4055',\n",
       " 'M4056',\n",
       " 'M4057',\n",
       " 'M4058',\n",
       " 'M4059',\n",
       " 'M5001',\n",
       " 'M5002',\n",
       " 'M5003',\n",
       " 'M5004',\n",
       " 'M5005',\n",
       " 'M5006',\n",
       " 'M5007',\n",
       " 'M5008',\n",
       " 'M5009',\n",
       " 'M5010',\n",
       " 'M5011',\n",
       " 'M5012',\n",
       " 'M5013',\n",
       " 'M5014',\n",
       " 'M5015',\n",
       " 'M5016',\n",
       " 'M5017',\n",
       " 'M5018',\n",
       " 'M5019',\n",
       " 'M5020',\n",
       " 'M5021',\n",
       " 'M5022',\n",
       " 'M5023',\n",
       " 'M5024',\n",
       " 'M5025',\n",
       " 'M5026',\n",
       " 'M5027',\n",
       " 'M5028',\n",
       " 'M5029',\n",
       " 'M5030',\n",
       " 'M5031',\n",
       " 'M5032',\n",
       " 'M5033',\n",
       " 'M5034',\n",
       " 'M5035',\n",
       " 'M5036',\n",
       " 'M5037',\n",
       " 'M5038',\n",
       " 'M5039',\n",
       " 'M5040',\n",
       " 'M5041',\n",
       " 'M5042',\n",
       " 'M5043',\n",
       " 'M5044',\n",
       " 'M5045',\n",
       " 'M5046',\n",
       " 'M5047',\n",
       " 'M5048',\n",
       " 'M5049',\n",
       " 'M5050',\n",
       " 'M5051',\n",
       " 'M5052',\n",
       " 'M5053',\n",
       " 'M5054',\n",
       " 'M5055',\n",
       " 'M5056',\n",
       " 'M5057',\n",
       " 'M6001',\n",
       " 'M6002',\n",
       " 'M6003']"
      ]
     },
     "execution_count": 30,
     "metadata": {},
     "output_type": "execute_result"
    }
   ],
   "source": [
    "dir_names"
   ]
  },
  {
   "cell_type": "code",
   "execution_count": 31,
   "id": "da65a6e2-30d5-4c5d-a6e3-b5d1dd4ae62c",
   "metadata": {},
   "outputs": [],
   "source": [
    "# 파일 경로 저장할 초기 list 생성\n",
    "file_paths = []\n",
    "\n",
    "for dir_name in dir_names:\n",
    "    # 파일 경로 담기\n",
    "    wav_file = f'/mnt/gcs-bucket/data/{dir_name}/'\n",
    "    # 해당 경로를 통해 파일 찾기\n",
    "    file_paths.extend(sorted(glob(os.path.join(wav_file, '*'))))"
   ]
  },
  {
   "cell_type": "code",
   "execution_count": 32,
   "id": "10706865-eff2-4a05-a3a9-0cf2b0944e0b",
   "metadata": {
    "scrolled": true
   },
   "outputs": [
    {
     "data": {
      "text/plain": [
       "['/mnt/gcs-bucket/data/F2001/F2001_000001.wav',\n",
       " '/mnt/gcs-bucket/data/F2001/F2001_000002.wav',\n",
       " '/mnt/gcs-bucket/data/F2001/F2001_000003.wav',\n",
       " '/mnt/gcs-bucket/data/F2001/F2001_000004.wav',\n",
       " '/mnt/gcs-bucket/data/F2001/F2001_000005.wav',\n",
       " '/mnt/gcs-bucket/data/F2001/F2001_000006.wav',\n",
       " '/mnt/gcs-bucket/data/F2001/F2001_000007.wav',\n",
       " '/mnt/gcs-bucket/data/F2001/F2001_000008.wav',\n",
       " '/mnt/gcs-bucket/data/F2001/F2001_000009.wav',\n",
       " '/mnt/gcs-bucket/data/F2001/F2001_000010.wav',\n",
       " '/mnt/gcs-bucket/data/F2001/F2001_000011.wav',\n",
       " '/mnt/gcs-bucket/data/F2001/F2001_000012.wav',\n",
       " '/mnt/gcs-bucket/data/F2001/F2001_000013.wav',\n",
       " '/mnt/gcs-bucket/data/F2001/F2001_000014.wav',\n",
       " '/mnt/gcs-bucket/data/F2001/F2001_000015.wav',\n",
       " '/mnt/gcs-bucket/data/F2001/F2001_000016.wav',\n",
       " '/mnt/gcs-bucket/data/F2001/F2001_000017.wav',\n",
       " '/mnt/gcs-bucket/data/F2001/F2001_000018.wav',\n",
       " '/mnt/gcs-bucket/data/F2001/F2001_000019.wav',\n",
       " '/mnt/gcs-bucket/data/F2001/F2001_000020.wav',\n",
       " '/mnt/gcs-bucket/data/F2001/F2001_000021.wav',\n",
       " '/mnt/gcs-bucket/data/F2001/F2001_000022.wav',\n",
       " '/mnt/gcs-bucket/data/F2001/F2001_000023.wav',\n",
       " '/mnt/gcs-bucket/data/F2001/F2001_000024.wav',\n",
       " '/mnt/gcs-bucket/data/F2001/F2001_000025.wav',\n",
       " '/mnt/gcs-bucket/data/F2001/F2001_000026.wav',\n",
       " '/mnt/gcs-bucket/data/F2001/F2001_000027.wav',\n",
       " '/mnt/gcs-bucket/data/F2001/F2001_000028.wav',\n",
       " '/mnt/gcs-bucket/data/F2001/F2001_000029.wav',\n",
       " '/mnt/gcs-bucket/data/F2001/F2001_000030.wav',\n",
       " '/mnt/gcs-bucket/data/F2001/F2001_000031.wav',\n",
       " '/mnt/gcs-bucket/data/F2001/F2001_000032.wav',\n",
       " '/mnt/gcs-bucket/data/F2001/F2001_000033.wav',\n",
       " '/mnt/gcs-bucket/data/F2001/F2001_000034.wav',\n",
       " '/mnt/gcs-bucket/data/F2001/F2001_000035.wav',\n",
       " '/mnt/gcs-bucket/data/F2001/F2001_000036.wav',\n",
       " '/mnt/gcs-bucket/data/F2001/F2001_000037.wav',\n",
       " '/mnt/gcs-bucket/data/F2001/F2001_000038.wav',\n",
       " '/mnt/gcs-bucket/data/F2001/F2001_000039.wav',\n",
       " '/mnt/gcs-bucket/data/F2001/F2001_000040.wav',\n",
       " '/mnt/gcs-bucket/data/F2001/F2001_000041.wav',\n",
       " '/mnt/gcs-bucket/data/F2001/F2001_000042.wav',\n",
       " '/mnt/gcs-bucket/data/F2001/F2001_000043.wav',\n",
       " '/mnt/gcs-bucket/data/F2001/F2001_000044.wav',\n",
       " '/mnt/gcs-bucket/data/F2001/F2001_000045.wav',\n",
       " '/mnt/gcs-bucket/data/F2001/F2001_000046.wav',\n",
       " '/mnt/gcs-bucket/data/F2001/F2001_000047.wav',\n",
       " '/mnt/gcs-bucket/data/F2001/F2001_000048.wav',\n",
       " '/mnt/gcs-bucket/data/F2001/F2001_000049.wav',\n",
       " '/mnt/gcs-bucket/data/F2001/F2001_000050.wav',\n",
       " '/mnt/gcs-bucket/data/F2001/F2001_000051.wav',\n",
       " '/mnt/gcs-bucket/data/F2001/F2001_000052.wav',\n",
       " '/mnt/gcs-bucket/data/F2001/F2001_000053.wav',\n",
       " '/mnt/gcs-bucket/data/F2001/F2001_000054.wav',\n",
       " '/mnt/gcs-bucket/data/F2001/F2001_000055.wav',\n",
       " '/mnt/gcs-bucket/data/F2001/F2001_000056.wav',\n",
       " '/mnt/gcs-bucket/data/F2001/F2001_000057.wav',\n",
       " '/mnt/gcs-bucket/data/F2001/F2001_000058.wav',\n",
       " '/mnt/gcs-bucket/data/F2001/F2001_000059.wav',\n",
       " '/mnt/gcs-bucket/data/F2001/F2001_000060.wav',\n",
       " '/mnt/gcs-bucket/data/F2001/F2001_000061.wav',\n",
       " '/mnt/gcs-bucket/data/F2001/F2001_000062.wav',\n",
       " '/mnt/gcs-bucket/data/F2001/F2001_000063.wav',\n",
       " '/mnt/gcs-bucket/data/F2001/F2001_000064.wav',\n",
       " '/mnt/gcs-bucket/data/F2001/F2001_000065.wav',\n",
       " '/mnt/gcs-bucket/data/F2001/F2001_000066.wav',\n",
       " '/mnt/gcs-bucket/data/F2001/F2001_000067.wav',\n",
       " '/mnt/gcs-bucket/data/F2001/F2001_000068.wav',\n",
       " '/mnt/gcs-bucket/data/F2001/F2001_000069.wav',\n",
       " '/mnt/gcs-bucket/data/F2001/F2001_000070.wav',\n",
       " '/mnt/gcs-bucket/data/F2001/F2001_000071.wav',\n",
       " '/mnt/gcs-bucket/data/F2001/F2001_000072.wav',\n",
       " '/mnt/gcs-bucket/data/F2001/F2001_000073.wav',\n",
       " '/mnt/gcs-bucket/data/F2001/F2001_000074.wav',\n",
       " '/mnt/gcs-bucket/data/F2001/F2001_000075.wav',\n",
       " '/mnt/gcs-bucket/data/F2001/F2001_000076.wav',\n",
       " '/mnt/gcs-bucket/data/F2001/F2001_000077.wav',\n",
       " '/mnt/gcs-bucket/data/F2001/F2001_000078.wav',\n",
       " '/mnt/gcs-bucket/data/F2001/F2001_000079.wav',\n",
       " '/mnt/gcs-bucket/data/F2001/F2001_000080.wav',\n",
       " '/mnt/gcs-bucket/data/F2001/F2001_000081.wav',\n",
       " '/mnt/gcs-bucket/data/F2001/F2001_000082.wav',\n",
       " '/mnt/gcs-bucket/data/F2001/F2001_000083.wav',\n",
       " '/mnt/gcs-bucket/data/F2001/F2001_000084.wav',\n",
       " '/mnt/gcs-bucket/data/F2001/F2001_000085.wav',\n",
       " '/mnt/gcs-bucket/data/F2001/F2001_000086.wav',\n",
       " '/mnt/gcs-bucket/data/F2001/F2001_000087.wav',\n",
       " '/mnt/gcs-bucket/data/F2001/F2001_000088.wav',\n",
       " '/mnt/gcs-bucket/data/F2001/F2001_000089.wav',\n",
       " '/mnt/gcs-bucket/data/F2001/F2001_000090.wav',\n",
       " '/mnt/gcs-bucket/data/F2001/F2001_000091.wav',\n",
       " '/mnt/gcs-bucket/data/F2001/F2001_000092.wav',\n",
       " '/mnt/gcs-bucket/data/F2001/F2001_000093.wav',\n",
       " '/mnt/gcs-bucket/data/F2001/F2001_000094.wav',\n",
       " '/mnt/gcs-bucket/data/F2001/F2001_000095.wav',\n",
       " '/mnt/gcs-bucket/data/F2001/F2001_000096.wav',\n",
       " '/mnt/gcs-bucket/data/F2001/F2001_000097.wav',\n",
       " '/mnt/gcs-bucket/data/F2001/F2001_000098.wav',\n",
       " '/mnt/gcs-bucket/data/F2001/F2001_000099.wav',\n",
       " '/mnt/gcs-bucket/data/F2001/F2001_000100.wav',\n",
       " '/mnt/gcs-bucket/data/F2001/F2001_000101.wav',\n",
       " '/mnt/gcs-bucket/data/F2001/F2001_000102.wav',\n",
       " '/mnt/gcs-bucket/data/F2001/F2001_000103.wav',\n",
       " '/mnt/gcs-bucket/data/F2001/F2001_000104.wav',\n",
       " '/mnt/gcs-bucket/data/F2001/F2001_000105.wav',\n",
       " '/mnt/gcs-bucket/data/F2001/F2001_000106.wav',\n",
       " '/mnt/gcs-bucket/data/F2001/F2001_000107.wav',\n",
       " '/mnt/gcs-bucket/data/F2001/F2001_000108.wav',\n",
       " '/mnt/gcs-bucket/data/F2001/F2001_000109.wav',\n",
       " '/mnt/gcs-bucket/data/F2001/F2001_000110.wav',\n",
       " '/mnt/gcs-bucket/data/F2001/F2001_000111.wav',\n",
       " '/mnt/gcs-bucket/data/F2001/F2001_000112.wav',\n",
       " '/mnt/gcs-bucket/data/F2001/F2001_000113.wav',\n",
       " '/mnt/gcs-bucket/data/F2001/F2001_000114.wav',\n",
       " '/mnt/gcs-bucket/data/F2001/F2001_000115.wav',\n",
       " '/mnt/gcs-bucket/data/F2001/F2001_000116.wav',\n",
       " '/mnt/gcs-bucket/data/F2001/F2001_000117.wav',\n",
       " '/mnt/gcs-bucket/data/F2001/F2001_000118.wav',\n",
       " '/mnt/gcs-bucket/data/F2001/F2001_000119.wav',\n",
       " '/mnt/gcs-bucket/data/F2001/F2001_000120.wav',\n",
       " '/mnt/gcs-bucket/data/F2001/F2001_000121.wav',\n",
       " '/mnt/gcs-bucket/data/F2001/F2001_000122.wav',\n",
       " '/mnt/gcs-bucket/data/F2001/F2001_000123.wav',\n",
       " '/mnt/gcs-bucket/data/F2001/F2001_000124.wav',\n",
       " '/mnt/gcs-bucket/data/F2001/F2001_000125.wav',\n",
       " '/mnt/gcs-bucket/data/F2001/F2001_000126.wav',\n",
       " '/mnt/gcs-bucket/data/F2001/F2001_000127.wav',\n",
       " '/mnt/gcs-bucket/data/F2001/F2001_000128.wav',\n",
       " '/mnt/gcs-bucket/data/F2001/F2001_000129.wav',\n",
       " '/mnt/gcs-bucket/data/F2001/F2001_000130.wav',\n",
       " '/mnt/gcs-bucket/data/F2001/F2001_000131.wav',\n",
       " '/mnt/gcs-bucket/data/F2001/F2001_000132.wav',\n",
       " '/mnt/gcs-bucket/data/F2001/F2001_000133.wav',\n",
       " '/mnt/gcs-bucket/data/F2001/F2001_000134.wav',\n",
       " '/mnt/gcs-bucket/data/F2001/F2001_000135.wav',\n",
       " '/mnt/gcs-bucket/data/F2001/F2001_000136.wav',\n",
       " '/mnt/gcs-bucket/data/F2001/F2001_000137.wav',\n",
       " '/mnt/gcs-bucket/data/F2001/F2001_000138.wav',\n",
       " '/mnt/gcs-bucket/data/F2001/F2001_000139.wav',\n",
       " '/mnt/gcs-bucket/data/F2001/F2001_000140.wav',\n",
       " '/mnt/gcs-bucket/data/F2001/F2001_000141.wav',\n",
       " '/mnt/gcs-bucket/data/F2001/F2001_000142.wav',\n",
       " '/mnt/gcs-bucket/data/F2001/F2001_000143.wav',\n",
       " '/mnt/gcs-bucket/data/F2001/F2001_000144.wav',\n",
       " '/mnt/gcs-bucket/data/F2001/F2001_000145.wav',\n",
       " '/mnt/gcs-bucket/data/F2001/F2001_000146.wav',\n",
       " '/mnt/gcs-bucket/data/F2001/F2001_000147.wav',\n",
       " '/mnt/gcs-bucket/data/F2001/F2001_000148.wav',\n",
       " '/mnt/gcs-bucket/data/F2001/F2001_000149.wav',\n",
       " '/mnt/gcs-bucket/data/F2001/F2001_000150.wav',\n",
       " '/mnt/gcs-bucket/data/F2001/F2001_000151.wav',\n",
       " '/mnt/gcs-bucket/data/F2001/F2001_000152.wav',\n",
       " '/mnt/gcs-bucket/data/F2001/F2001_000153.wav',\n",
       " '/mnt/gcs-bucket/data/F2001/F2001_000154.wav',\n",
       " '/mnt/gcs-bucket/data/F2001/F2001_000155.wav',\n",
       " '/mnt/gcs-bucket/data/F2001/F2001_000156.wav',\n",
       " '/mnt/gcs-bucket/data/F2001/F2001_000157.wav',\n",
       " '/mnt/gcs-bucket/data/F2001/F2001_000158.wav',\n",
       " '/mnt/gcs-bucket/data/F2001/F2001_000159.wav',\n",
       " '/mnt/gcs-bucket/data/F2001/F2001_000160.wav',\n",
       " '/mnt/gcs-bucket/data/F2002/F2002_000001.wav',\n",
       " '/mnt/gcs-bucket/data/F2002/F2002_000002.wav',\n",
       " '/mnt/gcs-bucket/data/F2002/F2002_000003.wav',\n",
       " '/mnt/gcs-bucket/data/F2002/F2002_000004.wav',\n",
       " '/mnt/gcs-bucket/data/F2002/F2002_000005.wav',\n",
       " '/mnt/gcs-bucket/data/F2002/F2002_000006.wav',\n",
       " '/mnt/gcs-bucket/data/F2002/F2002_000007.wav',\n",
       " '/mnt/gcs-bucket/data/F2002/F2002_000008.wav',\n",
       " '/mnt/gcs-bucket/data/F2002/F2002_000009.wav',\n",
       " '/mnt/gcs-bucket/data/F2002/F2002_000010.wav',\n",
       " '/mnt/gcs-bucket/data/F2002/F2002_000011.wav',\n",
       " '/mnt/gcs-bucket/data/F2002/F2002_000012.wav',\n",
       " '/mnt/gcs-bucket/data/F2002/F2002_000013.wav',\n",
       " '/mnt/gcs-bucket/data/F2002/F2002_000014.wav',\n",
       " '/mnt/gcs-bucket/data/F2002/F2002_000015.wav',\n",
       " '/mnt/gcs-bucket/data/F2002/F2002_000016.wav',\n",
       " '/mnt/gcs-bucket/data/F2002/F2002_000017.wav',\n",
       " '/mnt/gcs-bucket/data/F2002/F2002_000018.wav',\n",
       " '/mnt/gcs-bucket/data/F2002/F2002_000019.wav',\n",
       " '/mnt/gcs-bucket/data/F2002/F2002_000020.wav',\n",
       " '/mnt/gcs-bucket/data/F2002/F2002_000021.wav',\n",
       " '/mnt/gcs-bucket/data/F2002/F2002_000022.wav',\n",
       " '/mnt/gcs-bucket/data/F2002/F2002_000023.wav',\n",
       " '/mnt/gcs-bucket/data/F2002/F2002_000024.wav',\n",
       " '/mnt/gcs-bucket/data/F2002/F2002_000025.wav',\n",
       " '/mnt/gcs-bucket/data/F2002/F2002_000026.wav',\n",
       " '/mnt/gcs-bucket/data/F2002/F2002_000027.wav',\n",
       " '/mnt/gcs-bucket/data/F2002/F2002_000028.wav',\n",
       " '/mnt/gcs-bucket/data/F2002/F2002_000029.wav',\n",
       " '/mnt/gcs-bucket/data/F2002/F2002_000030.wav',\n",
       " '/mnt/gcs-bucket/data/F2002/F2002_000031.wav',\n",
       " '/mnt/gcs-bucket/data/F2002/F2002_000032.wav',\n",
       " '/mnt/gcs-bucket/data/F2002/F2002_000033.wav',\n",
       " '/mnt/gcs-bucket/data/F2002/F2002_000034.wav',\n",
       " '/mnt/gcs-bucket/data/F2002/F2002_000035.wav',\n",
       " '/mnt/gcs-bucket/data/F2002/F2002_000036.wav',\n",
       " '/mnt/gcs-bucket/data/F2002/F2002_000037.wav',\n",
       " '/mnt/gcs-bucket/data/F2002/F2002_000038.wav',\n",
       " '/mnt/gcs-bucket/data/F2002/F2002_000039.wav',\n",
       " '/mnt/gcs-bucket/data/F2002/F2002_000040.wav',\n",
       " '/mnt/gcs-bucket/data/F2002/F2002_000041.wav',\n",
       " '/mnt/gcs-bucket/data/F2002/F2002_000042.wav',\n",
       " '/mnt/gcs-bucket/data/F2002/F2002_000043.wav',\n",
       " '/mnt/gcs-bucket/data/F2002/F2002_000044.wav',\n",
       " '/mnt/gcs-bucket/data/F2002/F2002_000045.wav',\n",
       " '/mnt/gcs-bucket/data/F2002/F2002_000046.wav',\n",
       " '/mnt/gcs-bucket/data/F2002/F2002_000047.wav',\n",
       " '/mnt/gcs-bucket/data/F2002/F2002_000048.wav',\n",
       " '/mnt/gcs-bucket/data/F2002/F2002_000049.wav',\n",
       " '/mnt/gcs-bucket/data/F2002/F2002_000050.wav',\n",
       " '/mnt/gcs-bucket/data/F2002/F2002_000051.wav',\n",
       " '/mnt/gcs-bucket/data/F2002/F2002_000052.wav',\n",
       " '/mnt/gcs-bucket/data/F2002/F2002_000053.wav',\n",
       " '/mnt/gcs-bucket/data/F2002/F2002_000054.wav',\n",
       " '/mnt/gcs-bucket/data/F2002/F2002_000055.wav',\n",
       " '/mnt/gcs-bucket/data/F2002/F2002_000056.wav',\n",
       " '/mnt/gcs-bucket/data/F2002/F2002_000057.wav',\n",
       " '/mnt/gcs-bucket/data/F2002/F2002_000058.wav',\n",
       " '/mnt/gcs-bucket/data/F2002/F2002_000059.wav',\n",
       " '/mnt/gcs-bucket/data/F2002/F2002_000060.wav',\n",
       " '/mnt/gcs-bucket/data/F2002/F2002_000061.wav',\n",
       " '/mnt/gcs-bucket/data/F2002/F2002_000062.wav',\n",
       " '/mnt/gcs-bucket/data/F2002/F2002_000063.wav',\n",
       " '/mnt/gcs-bucket/data/F2002/F2002_000064.wav',\n",
       " '/mnt/gcs-bucket/data/F2002/F2002_000065.wav',\n",
       " '/mnt/gcs-bucket/data/F2002/F2002_000066.wav',\n",
       " '/mnt/gcs-bucket/data/F2002/F2002_000067.wav',\n",
       " '/mnt/gcs-bucket/data/F2002/F2002_000068.wav',\n",
       " '/mnt/gcs-bucket/data/F2002/F2002_000069.wav',\n",
       " '/mnt/gcs-bucket/data/F2002/F2002_000070.wav',\n",
       " '/mnt/gcs-bucket/data/F2002/F2002_000071.wav',\n",
       " '/mnt/gcs-bucket/data/F2002/F2002_000072.wav',\n",
       " '/mnt/gcs-bucket/data/F2002/F2002_000073.wav',\n",
       " '/mnt/gcs-bucket/data/F2002/F2002_000074.wav',\n",
       " '/mnt/gcs-bucket/data/F2002/F2002_000075.wav',\n",
       " '/mnt/gcs-bucket/data/F2002/F2002_000076.wav',\n",
       " '/mnt/gcs-bucket/data/F2002/F2002_000077.wav',\n",
       " '/mnt/gcs-bucket/data/F2002/F2002_000078.wav',\n",
       " '/mnt/gcs-bucket/data/F2002/F2002_000079.wav',\n",
       " '/mnt/gcs-bucket/data/F2002/F2002_000080.wav',\n",
       " '/mnt/gcs-bucket/data/F2002/F2002_000081.wav',\n",
       " '/mnt/gcs-bucket/data/F2002/F2002_000082.wav',\n",
       " '/mnt/gcs-bucket/data/F2002/F2002_000083.wav',\n",
       " '/mnt/gcs-bucket/data/F2002/F2002_000084.wav',\n",
       " '/mnt/gcs-bucket/data/F2002/F2002_000085.wav',\n",
       " '/mnt/gcs-bucket/data/F2002/F2002_000086.wav',\n",
       " '/mnt/gcs-bucket/data/F2002/F2002_000087.wav',\n",
       " '/mnt/gcs-bucket/data/F2002/F2002_000088.wav',\n",
       " '/mnt/gcs-bucket/data/F2002/F2002_000089.wav',\n",
       " '/mnt/gcs-bucket/data/F2002/F2002_000090.wav',\n",
       " '/mnt/gcs-bucket/data/F2002/F2002_000091.wav',\n",
       " '/mnt/gcs-bucket/data/F2002/F2002_000092.wav',\n",
       " '/mnt/gcs-bucket/data/F2002/F2002_000093.wav',\n",
       " '/mnt/gcs-bucket/data/F2002/F2002_000094.wav',\n",
       " '/mnt/gcs-bucket/data/F2002/F2002_000095.wav',\n",
       " '/mnt/gcs-bucket/data/F2002/F2002_000096.wav',\n",
       " '/mnt/gcs-bucket/data/F2002/F2002_000097.wav',\n",
       " '/mnt/gcs-bucket/data/F2002/F2002_000098.wav',\n",
       " '/mnt/gcs-bucket/data/F2002/F2002_000099.wav',\n",
       " '/mnt/gcs-bucket/data/F2002/F2002_000100.wav',\n",
       " '/mnt/gcs-bucket/data/F2002/F2002_000101.wav',\n",
       " '/mnt/gcs-bucket/data/F2002/F2002_000102.wav',\n",
       " '/mnt/gcs-bucket/data/F2002/F2002_000103.wav',\n",
       " '/mnt/gcs-bucket/data/F2002/F2002_000104.wav',\n",
       " '/mnt/gcs-bucket/data/F2002/F2002_000105.wav',\n",
       " '/mnt/gcs-bucket/data/F2002/F2002_000106.wav',\n",
       " '/mnt/gcs-bucket/data/F2002/F2002_000107.wav',\n",
       " '/mnt/gcs-bucket/data/F2002/F2002_000108.wav',\n",
       " '/mnt/gcs-bucket/data/F2002/F2002_000109.wav',\n",
       " '/mnt/gcs-bucket/data/F2002/F2002_000110.wav',\n",
       " '/mnt/gcs-bucket/data/F2002/F2002_000111.wav',\n",
       " '/mnt/gcs-bucket/data/F2002/F2002_000112.wav',\n",
       " '/mnt/gcs-bucket/data/F2002/F2002_000113.wav',\n",
       " '/mnt/gcs-bucket/data/F2002/F2002_000114.wav',\n",
       " '/mnt/gcs-bucket/data/F2002/F2002_000115.wav',\n",
       " '/mnt/gcs-bucket/data/F2002/F2002_000116.wav',\n",
       " '/mnt/gcs-bucket/data/F2002/F2002_000117.wav',\n",
       " '/mnt/gcs-bucket/data/F2002/F2002_000118.wav',\n",
       " '/mnt/gcs-bucket/data/F2002/F2002_000119.wav',\n",
       " '/mnt/gcs-bucket/data/F2002/F2002_000120.wav',\n",
       " '/mnt/gcs-bucket/data/F2002/F2002_000121.wav',\n",
       " '/mnt/gcs-bucket/data/F2002/F2002_000122.wav',\n",
       " '/mnt/gcs-bucket/data/F2002/F2002_000123.wav',\n",
       " '/mnt/gcs-bucket/data/F2002/F2002_000124.wav',\n",
       " '/mnt/gcs-bucket/data/F2002/F2002_000125.wav',\n",
       " '/mnt/gcs-bucket/data/F2002/F2002_000126.wav',\n",
       " '/mnt/gcs-bucket/data/F2002/F2002_000127.wav',\n",
       " '/mnt/gcs-bucket/data/F2002/F2002_000128.wav',\n",
       " '/mnt/gcs-bucket/data/F2002/F2002_000129.wav',\n",
       " '/mnt/gcs-bucket/data/F2002/F2002_000130.wav',\n",
       " '/mnt/gcs-bucket/data/F2002/F2002_000131.wav',\n",
       " '/mnt/gcs-bucket/data/F2002/F2002_000132.wav',\n",
       " '/mnt/gcs-bucket/data/F2002/F2002_000133.wav',\n",
       " '/mnt/gcs-bucket/data/F2002/F2002_000134.wav',\n",
       " '/mnt/gcs-bucket/data/F2002/F2002_000135.wav',\n",
       " '/mnt/gcs-bucket/data/F2002/F2002_000136.wav',\n",
       " '/mnt/gcs-bucket/data/F2002/F2002_000137.wav',\n",
       " '/mnt/gcs-bucket/data/F2002/F2002_000138.wav',\n",
       " '/mnt/gcs-bucket/data/F2002/F2002_000139.wav',\n",
       " '/mnt/gcs-bucket/data/F2002/F2002_000140.wav',\n",
       " '/mnt/gcs-bucket/data/F2002/F2002_000141.wav',\n",
       " '/mnt/gcs-bucket/data/F2002/F2002_000142.wav',\n",
       " '/mnt/gcs-bucket/data/F2002/F2002_000143.wav',\n",
       " '/mnt/gcs-bucket/data/F2002/F2002_000144.wav',\n",
       " '/mnt/gcs-bucket/data/F2002/F2002_000145.wav',\n",
       " '/mnt/gcs-bucket/data/F2002/F2002_000146.wav',\n",
       " '/mnt/gcs-bucket/data/F2002/F2002_000147.wav',\n",
       " '/mnt/gcs-bucket/data/F2002/F2002_000148.wav',\n",
       " '/mnt/gcs-bucket/data/F2002/F2002_000149.wav',\n",
       " '/mnt/gcs-bucket/data/F2002/F2002_000150.wav',\n",
       " '/mnt/gcs-bucket/data/F2002/F2002_000151.wav',\n",
       " '/mnt/gcs-bucket/data/F2002/F2002_000152.wav',\n",
       " '/mnt/gcs-bucket/data/F2002/F2002_000153.wav',\n",
       " '/mnt/gcs-bucket/data/F2002/F2002_000154.wav',\n",
       " '/mnt/gcs-bucket/data/F2002/F2002_000155.wav',\n",
       " '/mnt/gcs-bucket/data/F2002/F2002_000156.wav',\n",
       " '/mnt/gcs-bucket/data/F2002/F2002_000157.wav',\n",
       " '/mnt/gcs-bucket/data/F2002/F2002_000158.wav',\n",
       " '/mnt/gcs-bucket/data/F2002/F2002_000159.wav',\n",
       " '/mnt/gcs-bucket/data/F2002/F2002_000160.wav',\n",
       " '/mnt/gcs-bucket/data/F2003/F2003_000001.wav',\n",
       " '/mnt/gcs-bucket/data/F2003/F2003_000002.wav',\n",
       " '/mnt/gcs-bucket/data/F2003/F2003_000003.wav',\n",
       " '/mnt/gcs-bucket/data/F2003/F2003_000004.wav',\n",
       " '/mnt/gcs-bucket/data/F2003/F2003_000005.wav',\n",
       " '/mnt/gcs-bucket/data/F2003/F2003_000006.wav',\n",
       " '/mnt/gcs-bucket/data/F2003/F2003_000007.wav',\n",
       " '/mnt/gcs-bucket/data/F2003/F2003_000008.wav',\n",
       " '/mnt/gcs-bucket/data/F2003/F2003_000009.wav',\n",
       " '/mnt/gcs-bucket/data/F2003/F2003_000010.wav',\n",
       " '/mnt/gcs-bucket/data/F2003/F2003_000011.wav',\n",
       " '/mnt/gcs-bucket/data/F2003/F2003_000012.wav',\n",
       " '/mnt/gcs-bucket/data/F2003/F2003_000013.wav',\n",
       " '/mnt/gcs-bucket/data/F2003/F2003_000014.wav',\n",
       " '/mnt/gcs-bucket/data/F2003/F2003_000015.wav',\n",
       " '/mnt/gcs-bucket/data/F2003/F2003_000016.wav',\n",
       " '/mnt/gcs-bucket/data/F2003/F2003_000017.wav',\n",
       " '/mnt/gcs-bucket/data/F2003/F2003_000018.wav',\n",
       " '/mnt/gcs-bucket/data/F2003/F2003_000019.wav',\n",
       " '/mnt/gcs-bucket/data/F2003/F2003_000020.wav',\n",
       " '/mnt/gcs-bucket/data/F2003/F2003_000021.wav',\n",
       " '/mnt/gcs-bucket/data/F2003/F2003_000022.wav',\n",
       " '/mnt/gcs-bucket/data/F2003/F2003_000023.wav',\n",
       " '/mnt/gcs-bucket/data/F2003/F2003_000024.wav',\n",
       " '/mnt/gcs-bucket/data/F2003/F2003_000025.wav',\n",
       " '/mnt/gcs-bucket/data/F2003/F2003_000026.wav',\n",
       " '/mnt/gcs-bucket/data/F2003/F2003_000027.wav',\n",
       " '/mnt/gcs-bucket/data/F2003/F2003_000028.wav',\n",
       " '/mnt/gcs-bucket/data/F2003/F2003_000029.wav',\n",
       " '/mnt/gcs-bucket/data/F2003/F2003_000030.wav',\n",
       " '/mnt/gcs-bucket/data/F2003/F2003_000031.wav',\n",
       " '/mnt/gcs-bucket/data/F2003/F2003_000032.wav',\n",
       " '/mnt/gcs-bucket/data/F2003/F2003_000033.wav',\n",
       " '/mnt/gcs-bucket/data/F2003/F2003_000034.wav',\n",
       " '/mnt/gcs-bucket/data/F2003/F2003_000035.wav',\n",
       " '/mnt/gcs-bucket/data/F2003/F2003_000036.wav',\n",
       " '/mnt/gcs-bucket/data/F2003/F2003_000037.wav',\n",
       " '/mnt/gcs-bucket/data/F2003/F2003_000038.wav',\n",
       " '/mnt/gcs-bucket/data/F2003/F2003_000039.wav',\n",
       " '/mnt/gcs-bucket/data/F2003/F2003_000040.wav',\n",
       " '/mnt/gcs-bucket/data/F2003/F2003_000041.wav',\n",
       " '/mnt/gcs-bucket/data/F2003/F2003_000042.wav',\n",
       " '/mnt/gcs-bucket/data/F2003/F2003_000043.wav',\n",
       " '/mnt/gcs-bucket/data/F2003/F2003_000044.wav',\n",
       " '/mnt/gcs-bucket/data/F2003/F2003_000045.wav',\n",
       " '/mnt/gcs-bucket/data/F2003/F2003_000046.wav',\n",
       " '/mnt/gcs-bucket/data/F2003/F2003_000047.wav',\n",
       " '/mnt/gcs-bucket/data/F2003/F2003_000048.wav',\n",
       " '/mnt/gcs-bucket/data/F2003/F2003_000049.wav',\n",
       " '/mnt/gcs-bucket/data/F2003/F2003_000050.wav',\n",
       " '/mnt/gcs-bucket/data/F2003/F2003_000051.wav',\n",
       " '/mnt/gcs-bucket/data/F2003/F2003_000052.wav',\n",
       " '/mnt/gcs-bucket/data/F2003/F2003_000053.wav',\n",
       " '/mnt/gcs-bucket/data/F2003/F2003_000054.wav',\n",
       " '/mnt/gcs-bucket/data/F2003/F2003_000055.wav',\n",
       " '/mnt/gcs-bucket/data/F2003/F2003_000056.wav',\n",
       " '/mnt/gcs-bucket/data/F2003/F2003_000057.wav',\n",
       " '/mnt/gcs-bucket/data/F2003/F2003_000058.wav',\n",
       " '/mnt/gcs-bucket/data/F2003/F2003_000059.wav',\n",
       " '/mnt/gcs-bucket/data/F2003/F2003_000060.wav',\n",
       " '/mnt/gcs-bucket/data/F2003/F2003_000061.wav',\n",
       " '/mnt/gcs-bucket/data/F2003/F2003_000062.wav',\n",
       " '/mnt/gcs-bucket/data/F2003/F2003_000063.wav',\n",
       " '/mnt/gcs-bucket/data/F2003/F2003_000064.wav',\n",
       " '/mnt/gcs-bucket/data/F2003/F2003_000065.wav',\n",
       " '/mnt/gcs-bucket/data/F2003/F2003_000066.wav',\n",
       " '/mnt/gcs-bucket/data/F2003/F2003_000067.wav',\n",
       " '/mnt/gcs-bucket/data/F2003/F2003_000068.wav',\n",
       " '/mnt/gcs-bucket/data/F2003/F2003_000069.wav',\n",
       " '/mnt/gcs-bucket/data/F2003/F2003_000070.wav',\n",
       " '/mnt/gcs-bucket/data/F2003/F2003_000071.wav',\n",
       " '/mnt/gcs-bucket/data/F2003/F2003_000072.wav',\n",
       " '/mnt/gcs-bucket/data/F2003/F2003_000073.wav',\n",
       " '/mnt/gcs-bucket/data/F2003/F2003_000074.wav',\n",
       " '/mnt/gcs-bucket/data/F2003/F2003_000075.wav',\n",
       " '/mnt/gcs-bucket/data/F2003/F2003_000076.wav',\n",
       " '/mnt/gcs-bucket/data/F2003/F2003_000077.wav',\n",
       " '/mnt/gcs-bucket/data/F2003/F2003_000078.wav',\n",
       " '/mnt/gcs-bucket/data/F2003/F2003_000079.wav',\n",
       " '/mnt/gcs-bucket/data/F2003/F2003_000080.wav',\n",
       " '/mnt/gcs-bucket/data/F2003/F2003_000081.wav',\n",
       " '/mnt/gcs-bucket/data/F2003/F2003_000082.wav',\n",
       " '/mnt/gcs-bucket/data/F2003/F2003_000083.wav',\n",
       " '/mnt/gcs-bucket/data/F2003/F2003_000084.wav',\n",
       " '/mnt/gcs-bucket/data/F2003/F2003_000085.wav',\n",
       " '/mnt/gcs-bucket/data/F2003/F2003_000086.wav',\n",
       " '/mnt/gcs-bucket/data/F2003/F2003_000087.wav',\n",
       " '/mnt/gcs-bucket/data/F2003/F2003_000088.wav',\n",
       " '/mnt/gcs-bucket/data/F2003/F2003_000089.wav',\n",
       " '/mnt/gcs-bucket/data/F2003/F2003_000090.wav',\n",
       " '/mnt/gcs-bucket/data/F2003/F2003_000091.wav',\n",
       " '/mnt/gcs-bucket/data/F2003/F2003_000092.wav',\n",
       " '/mnt/gcs-bucket/data/F2003/F2003_000093.wav',\n",
       " '/mnt/gcs-bucket/data/F2003/F2003_000094.wav',\n",
       " '/mnt/gcs-bucket/data/F2003/F2003_000095.wav',\n",
       " '/mnt/gcs-bucket/data/F2003/F2003_000096.wav',\n",
       " '/mnt/gcs-bucket/data/F2003/F2003_000097.wav',\n",
       " '/mnt/gcs-bucket/data/F2003/F2003_000098.wav',\n",
       " '/mnt/gcs-bucket/data/F2003/F2003_000099.wav',\n",
       " '/mnt/gcs-bucket/data/F2003/F2003_000100.wav',\n",
       " '/mnt/gcs-bucket/data/F2003/F2003_000101.wav',\n",
       " '/mnt/gcs-bucket/data/F2003/F2003_000102.wav',\n",
       " '/mnt/gcs-bucket/data/F2003/F2003_000103.wav',\n",
       " '/mnt/gcs-bucket/data/F2003/F2003_000104.wav',\n",
       " '/mnt/gcs-bucket/data/F2003/F2003_000105.wav',\n",
       " '/mnt/gcs-bucket/data/F2003/F2003_000106.wav',\n",
       " '/mnt/gcs-bucket/data/F2003/F2003_000107.wav',\n",
       " '/mnt/gcs-bucket/data/F2003/F2003_000108.wav',\n",
       " '/mnt/gcs-bucket/data/F2003/F2003_000109.wav',\n",
       " '/mnt/gcs-bucket/data/F2003/F2003_000110.wav',\n",
       " '/mnt/gcs-bucket/data/F2003/F2003_000111.wav',\n",
       " '/mnt/gcs-bucket/data/F2003/F2003_000112.wav',\n",
       " '/mnt/gcs-bucket/data/F2003/F2003_000113.wav',\n",
       " '/mnt/gcs-bucket/data/F2003/F2003_000114.wav',\n",
       " '/mnt/gcs-bucket/data/F2003/F2003_000115.wav',\n",
       " '/mnt/gcs-bucket/data/F2003/F2003_000116.wav',\n",
       " '/mnt/gcs-bucket/data/F2003/F2003_000117.wav',\n",
       " '/mnt/gcs-bucket/data/F2003/F2003_000118.wav',\n",
       " '/mnt/gcs-bucket/data/F2003/F2003_000119.wav',\n",
       " '/mnt/gcs-bucket/data/F2003/F2003_000120.wav',\n",
       " '/mnt/gcs-bucket/data/F2003/F2003_000121.wav',\n",
       " '/mnt/gcs-bucket/data/F2003/F2003_000122.wav',\n",
       " '/mnt/gcs-bucket/data/F2003/F2003_000123.wav',\n",
       " '/mnt/gcs-bucket/data/F2003/F2003_000124.wav',\n",
       " '/mnt/gcs-bucket/data/F2003/F2003_000125.wav',\n",
       " '/mnt/gcs-bucket/data/F2003/F2003_000126.wav',\n",
       " '/mnt/gcs-bucket/data/F2003/F2003_000127.wav',\n",
       " '/mnt/gcs-bucket/data/F2003/F2003_000128.wav',\n",
       " '/mnt/gcs-bucket/data/F2003/F2003_000129.wav',\n",
       " '/mnt/gcs-bucket/data/F2003/F2003_000130.wav',\n",
       " '/mnt/gcs-bucket/data/F2003/F2003_000131.wav',\n",
       " '/mnt/gcs-bucket/data/F2003/F2003_000132.wav',\n",
       " '/mnt/gcs-bucket/data/F2003/F2003_000133.wav',\n",
       " '/mnt/gcs-bucket/data/F2003/F2003_000134.wav',\n",
       " '/mnt/gcs-bucket/data/F2003/F2003_000135.wav',\n",
       " '/mnt/gcs-bucket/data/F2003/F2003_000136.wav',\n",
       " '/mnt/gcs-bucket/data/F2003/F2003_000137.wav',\n",
       " '/mnt/gcs-bucket/data/F2003/F2003_000138.wav',\n",
       " '/mnt/gcs-bucket/data/F2003/F2003_000139.wav',\n",
       " '/mnt/gcs-bucket/data/F2003/F2003_000140.wav',\n",
       " '/mnt/gcs-bucket/data/F2003/F2003_000141.wav',\n",
       " '/mnt/gcs-bucket/data/F2003/F2003_000142.wav',\n",
       " '/mnt/gcs-bucket/data/F2003/F2003_000143.wav',\n",
       " '/mnt/gcs-bucket/data/F2003/F2003_000144.wav',\n",
       " '/mnt/gcs-bucket/data/F2003/F2003_000145.wav',\n",
       " '/mnt/gcs-bucket/data/F2003/F2003_000146.wav',\n",
       " '/mnt/gcs-bucket/data/F2003/F2003_000147.wav',\n",
       " '/mnt/gcs-bucket/data/F2003/F2003_000148.wav',\n",
       " '/mnt/gcs-bucket/data/F2003/F2003_000149.wav',\n",
       " '/mnt/gcs-bucket/data/F2003/F2003_000150.wav',\n",
       " '/mnt/gcs-bucket/data/F2003/F2003_000151.wav',\n",
       " '/mnt/gcs-bucket/data/F2003/F2003_000152.wav',\n",
       " '/mnt/gcs-bucket/data/F2003/F2003_000153.wav',\n",
       " '/mnt/gcs-bucket/data/F2003/F2003_000154.wav',\n",
       " '/mnt/gcs-bucket/data/F2003/F2003_000155.wav',\n",
       " '/mnt/gcs-bucket/data/F2003/F2003_000156.wav',\n",
       " '/mnt/gcs-bucket/data/F2003/F2003_000157.wav',\n",
       " '/mnt/gcs-bucket/data/F2003/F2003_000158.wav',\n",
       " '/mnt/gcs-bucket/data/F2003/F2003_000159.wav',\n",
       " '/mnt/gcs-bucket/data/F2003/F2003_000160.wav',\n",
       " '/mnt/gcs-bucket/data/F2004/F2004_000001.wav',\n",
       " '/mnt/gcs-bucket/data/F2004/F2004_000002.wav',\n",
       " '/mnt/gcs-bucket/data/F2004/F2004_000003.wav',\n",
       " '/mnt/gcs-bucket/data/F2004/F2004_000004.wav',\n",
       " '/mnt/gcs-bucket/data/F2004/F2004_000005.wav',\n",
       " '/mnt/gcs-bucket/data/F2004/F2004_000006.wav',\n",
       " '/mnt/gcs-bucket/data/F2004/F2004_000007.wav',\n",
       " '/mnt/gcs-bucket/data/F2004/F2004_000008.wav',\n",
       " '/mnt/gcs-bucket/data/F2004/F2004_000009.wav',\n",
       " '/mnt/gcs-bucket/data/F2004/F2004_000010.wav',\n",
       " '/mnt/gcs-bucket/data/F2004/F2004_000011.wav',\n",
       " '/mnt/gcs-bucket/data/F2004/F2004_000012.wav',\n",
       " '/mnt/gcs-bucket/data/F2004/F2004_000013.wav',\n",
       " '/mnt/gcs-bucket/data/F2004/F2004_000014.wav',\n",
       " '/mnt/gcs-bucket/data/F2004/F2004_000015.wav',\n",
       " '/mnt/gcs-bucket/data/F2004/F2004_000016.wav',\n",
       " '/mnt/gcs-bucket/data/F2004/F2004_000017.wav',\n",
       " '/mnt/gcs-bucket/data/F2004/F2004_000018.wav',\n",
       " '/mnt/gcs-bucket/data/F2004/F2004_000019.wav',\n",
       " '/mnt/gcs-bucket/data/F2004/F2004_000020.wav',\n",
       " '/mnt/gcs-bucket/data/F2004/F2004_000021.wav',\n",
       " '/mnt/gcs-bucket/data/F2004/F2004_000022.wav',\n",
       " '/mnt/gcs-bucket/data/F2004/F2004_000023.wav',\n",
       " '/mnt/gcs-bucket/data/F2004/F2004_000024.wav',\n",
       " '/mnt/gcs-bucket/data/F2004/F2004_000025.wav',\n",
       " '/mnt/gcs-bucket/data/F2004/F2004_000026.wav',\n",
       " '/mnt/gcs-bucket/data/F2004/F2004_000027.wav',\n",
       " '/mnt/gcs-bucket/data/F2004/F2004_000028.wav',\n",
       " '/mnt/gcs-bucket/data/F2004/F2004_000029.wav',\n",
       " '/mnt/gcs-bucket/data/F2004/F2004_000030.wav',\n",
       " '/mnt/gcs-bucket/data/F2004/F2004_000031.wav',\n",
       " '/mnt/gcs-bucket/data/F2004/F2004_000032.wav',\n",
       " '/mnt/gcs-bucket/data/F2004/F2004_000033.wav',\n",
       " '/mnt/gcs-bucket/data/F2004/F2004_000034.wav',\n",
       " '/mnt/gcs-bucket/data/F2004/F2004_000035.wav',\n",
       " '/mnt/gcs-bucket/data/F2004/F2004_000036.wav',\n",
       " '/mnt/gcs-bucket/data/F2004/F2004_000037.wav',\n",
       " '/mnt/gcs-bucket/data/F2004/F2004_000038.wav',\n",
       " '/mnt/gcs-bucket/data/F2004/F2004_000039.wav',\n",
       " '/mnt/gcs-bucket/data/F2004/F2004_000040.wav',\n",
       " '/mnt/gcs-bucket/data/F2004/F2004_000041.wav',\n",
       " '/mnt/gcs-bucket/data/F2004/F2004_000042.wav',\n",
       " '/mnt/gcs-bucket/data/F2004/F2004_000043.wav',\n",
       " '/mnt/gcs-bucket/data/F2004/F2004_000044.wav',\n",
       " '/mnt/gcs-bucket/data/F2004/F2004_000045.wav',\n",
       " '/mnt/gcs-bucket/data/F2004/F2004_000046.wav',\n",
       " '/mnt/gcs-bucket/data/F2004/F2004_000047.wav',\n",
       " '/mnt/gcs-bucket/data/F2004/F2004_000048.wav',\n",
       " '/mnt/gcs-bucket/data/F2004/F2004_000049.wav',\n",
       " '/mnt/gcs-bucket/data/F2004/F2004_000050.wav',\n",
       " '/mnt/gcs-bucket/data/F2004/F2004_000051.wav',\n",
       " '/mnt/gcs-bucket/data/F2004/F2004_000052.wav',\n",
       " '/mnt/gcs-bucket/data/F2004/F2004_000053.wav',\n",
       " '/mnt/gcs-bucket/data/F2004/F2004_000054.wav',\n",
       " '/mnt/gcs-bucket/data/F2004/F2004_000055.wav',\n",
       " '/mnt/gcs-bucket/data/F2004/F2004_000056.wav',\n",
       " '/mnt/gcs-bucket/data/F2004/F2004_000057.wav',\n",
       " '/mnt/gcs-bucket/data/F2004/F2004_000058.wav',\n",
       " '/mnt/gcs-bucket/data/F2004/F2004_000059.wav',\n",
       " '/mnt/gcs-bucket/data/F2004/F2004_000060.wav',\n",
       " '/mnt/gcs-bucket/data/F2004/F2004_000061.wav',\n",
       " '/mnt/gcs-bucket/data/F2004/F2004_000062.wav',\n",
       " '/mnt/gcs-bucket/data/F2004/F2004_000063.wav',\n",
       " '/mnt/gcs-bucket/data/F2004/F2004_000064.wav',\n",
       " '/mnt/gcs-bucket/data/F2004/F2004_000065.wav',\n",
       " '/mnt/gcs-bucket/data/F2004/F2004_000066.wav',\n",
       " '/mnt/gcs-bucket/data/F2004/F2004_000067.wav',\n",
       " '/mnt/gcs-bucket/data/F2004/F2004_000068.wav',\n",
       " '/mnt/gcs-bucket/data/F2004/F2004_000069.wav',\n",
       " '/mnt/gcs-bucket/data/F2004/F2004_000070.wav',\n",
       " '/mnt/gcs-bucket/data/F2004/F2004_000071.wav',\n",
       " '/mnt/gcs-bucket/data/F2004/F2004_000072.wav',\n",
       " '/mnt/gcs-bucket/data/F2004/F2004_000073.wav',\n",
       " '/mnt/gcs-bucket/data/F2004/F2004_000074.wav',\n",
       " '/mnt/gcs-bucket/data/F2004/F2004_000075.wav',\n",
       " '/mnt/gcs-bucket/data/F2004/F2004_000076.wav',\n",
       " '/mnt/gcs-bucket/data/F2004/F2004_000077.wav',\n",
       " '/mnt/gcs-bucket/data/F2004/F2004_000078.wav',\n",
       " '/mnt/gcs-bucket/data/F2004/F2004_000079.wav',\n",
       " '/mnt/gcs-bucket/data/F2004/F2004_000080.wav',\n",
       " '/mnt/gcs-bucket/data/F2004/F2004_000081.wav',\n",
       " '/mnt/gcs-bucket/data/F2004/F2004_000082.wav',\n",
       " '/mnt/gcs-bucket/data/F2004/F2004_000083.wav',\n",
       " '/mnt/gcs-bucket/data/F2004/F2004_000084.wav',\n",
       " '/mnt/gcs-bucket/data/F2004/F2004_000085.wav',\n",
       " '/mnt/gcs-bucket/data/F2004/F2004_000086.wav',\n",
       " '/mnt/gcs-bucket/data/F2004/F2004_000087.wav',\n",
       " '/mnt/gcs-bucket/data/F2004/F2004_000088.wav',\n",
       " '/mnt/gcs-bucket/data/F2004/F2004_000089.wav',\n",
       " '/mnt/gcs-bucket/data/F2004/F2004_000090.wav',\n",
       " '/mnt/gcs-bucket/data/F2004/F2004_000091.wav',\n",
       " '/mnt/gcs-bucket/data/F2004/F2004_000092.wav',\n",
       " '/mnt/gcs-bucket/data/F2004/F2004_000093.wav',\n",
       " '/mnt/gcs-bucket/data/F2004/F2004_000094.wav',\n",
       " '/mnt/gcs-bucket/data/F2004/F2004_000095.wav',\n",
       " '/mnt/gcs-bucket/data/F2004/F2004_000096.wav',\n",
       " '/mnt/gcs-bucket/data/F2004/F2004_000097.wav',\n",
       " '/mnt/gcs-bucket/data/F2004/F2004_000098.wav',\n",
       " '/mnt/gcs-bucket/data/F2004/F2004_000099.wav',\n",
       " '/mnt/gcs-bucket/data/F2004/F2004_000100.wav',\n",
       " '/mnt/gcs-bucket/data/F2004/F2004_000101.wav',\n",
       " '/mnt/gcs-bucket/data/F2004/F2004_000102.wav',\n",
       " '/mnt/gcs-bucket/data/F2004/F2004_000103.wav',\n",
       " '/mnt/gcs-bucket/data/F2004/F2004_000104.wav',\n",
       " '/mnt/gcs-bucket/data/F2004/F2004_000105.wav',\n",
       " '/mnt/gcs-bucket/data/F2004/F2004_000106.wav',\n",
       " '/mnt/gcs-bucket/data/F2004/F2004_000107.wav',\n",
       " '/mnt/gcs-bucket/data/F2004/F2004_000108.wav',\n",
       " '/mnt/gcs-bucket/data/F2004/F2004_000109.wav',\n",
       " '/mnt/gcs-bucket/data/F2004/F2004_000110.wav',\n",
       " '/mnt/gcs-bucket/data/F2004/F2004_000111.wav',\n",
       " '/mnt/gcs-bucket/data/F2004/F2004_000112.wav',\n",
       " '/mnt/gcs-bucket/data/F2004/F2004_000113.wav',\n",
       " '/mnt/gcs-bucket/data/F2004/F2004_000114.wav',\n",
       " '/mnt/gcs-bucket/data/F2004/F2004_000115.wav',\n",
       " '/mnt/gcs-bucket/data/F2004/F2004_000116.wav',\n",
       " '/mnt/gcs-bucket/data/F2004/F2004_000117.wav',\n",
       " '/mnt/gcs-bucket/data/F2004/F2004_000118.wav',\n",
       " '/mnt/gcs-bucket/data/F2004/F2004_000119.wav',\n",
       " '/mnt/gcs-bucket/data/F2004/F2004_000120.wav',\n",
       " '/mnt/gcs-bucket/data/F2004/F2004_000121.wav',\n",
       " '/mnt/gcs-bucket/data/F2004/F2004_000122.wav',\n",
       " '/mnt/gcs-bucket/data/F2004/F2004_000123.wav',\n",
       " '/mnt/gcs-bucket/data/F2004/F2004_000124.wav',\n",
       " '/mnt/gcs-bucket/data/F2004/F2004_000125.wav',\n",
       " '/mnt/gcs-bucket/data/F2004/F2004_000126.wav',\n",
       " '/mnt/gcs-bucket/data/F2004/F2004_000127.wav',\n",
       " '/mnt/gcs-bucket/data/F2004/F2004_000128.wav',\n",
       " '/mnt/gcs-bucket/data/F2004/F2004_000129.wav',\n",
       " '/mnt/gcs-bucket/data/F2004/F2004_000130.wav',\n",
       " '/mnt/gcs-bucket/data/F2004/F2004_000131.wav',\n",
       " '/mnt/gcs-bucket/data/F2004/F2004_000132.wav',\n",
       " '/mnt/gcs-bucket/data/F2004/F2004_000133.wav',\n",
       " '/mnt/gcs-bucket/data/F2004/F2004_000134.wav',\n",
       " '/mnt/gcs-bucket/data/F2004/F2004_000135.wav',\n",
       " '/mnt/gcs-bucket/data/F2004/F2004_000136.wav',\n",
       " '/mnt/gcs-bucket/data/F2004/F2004_000137.wav',\n",
       " '/mnt/gcs-bucket/data/F2004/F2004_000138.wav',\n",
       " '/mnt/gcs-bucket/data/F2004/F2004_000139.wav',\n",
       " '/mnt/gcs-bucket/data/F2004/F2004_000140.wav',\n",
       " '/mnt/gcs-bucket/data/F2004/F2004_000141.wav',\n",
       " '/mnt/gcs-bucket/data/F2004/F2004_000142.wav',\n",
       " '/mnt/gcs-bucket/data/F2004/F2004_000143.wav',\n",
       " '/mnt/gcs-bucket/data/F2004/F2004_000144.wav',\n",
       " '/mnt/gcs-bucket/data/F2004/F2004_000145.wav',\n",
       " '/mnt/gcs-bucket/data/F2004/F2004_000146.wav',\n",
       " '/mnt/gcs-bucket/data/F2004/F2004_000147.wav',\n",
       " '/mnt/gcs-bucket/data/F2004/F2004_000148.wav',\n",
       " '/mnt/gcs-bucket/data/F2004/F2004_000149.wav',\n",
       " '/mnt/gcs-bucket/data/F2004/F2004_000150.wav',\n",
       " '/mnt/gcs-bucket/data/F2004/F2004_000151.wav',\n",
       " '/mnt/gcs-bucket/data/F2004/F2004_000152.wav',\n",
       " '/mnt/gcs-bucket/data/F2004/F2004_000153.wav',\n",
       " '/mnt/gcs-bucket/data/F2004/F2004_000154.wav',\n",
       " '/mnt/gcs-bucket/data/F2004/F2004_000155.wav',\n",
       " '/mnt/gcs-bucket/data/F2004/F2004_000156.wav',\n",
       " '/mnt/gcs-bucket/data/F2004/F2004_000157.wav',\n",
       " '/mnt/gcs-bucket/data/F2004/F2004_000158.wav',\n",
       " '/mnt/gcs-bucket/data/F2004/F2004_000159.wav',\n",
       " '/mnt/gcs-bucket/data/F2004/F2004_000160.wav',\n",
       " '/mnt/gcs-bucket/data/F2005/F2005_000001.wav',\n",
       " '/mnt/gcs-bucket/data/F2005/F2005_000002.wav',\n",
       " '/mnt/gcs-bucket/data/F2005/F2005_000003.wav',\n",
       " '/mnt/gcs-bucket/data/F2005/F2005_000004.wav',\n",
       " '/mnt/gcs-bucket/data/F2005/F2005_000005.wav',\n",
       " '/mnt/gcs-bucket/data/F2005/F2005_000006.wav',\n",
       " '/mnt/gcs-bucket/data/F2005/F2005_000007.wav',\n",
       " '/mnt/gcs-bucket/data/F2005/F2005_000008.wav',\n",
       " '/mnt/gcs-bucket/data/F2005/F2005_000009.wav',\n",
       " '/mnt/gcs-bucket/data/F2005/F2005_000010.wav',\n",
       " '/mnt/gcs-bucket/data/F2005/F2005_000011.wav',\n",
       " '/mnt/gcs-bucket/data/F2005/F2005_000012.wav',\n",
       " '/mnt/gcs-bucket/data/F2005/F2005_000013.wav',\n",
       " '/mnt/gcs-bucket/data/F2005/F2005_000014.wav',\n",
       " '/mnt/gcs-bucket/data/F2005/F2005_000015.wav',\n",
       " '/mnt/gcs-bucket/data/F2005/F2005_000016.wav',\n",
       " '/mnt/gcs-bucket/data/F2005/F2005_000017.wav',\n",
       " '/mnt/gcs-bucket/data/F2005/F2005_000018.wav',\n",
       " '/mnt/gcs-bucket/data/F2005/F2005_000019.wav',\n",
       " '/mnt/gcs-bucket/data/F2005/F2005_000020.wav',\n",
       " '/mnt/gcs-bucket/data/F2005/F2005_000021.wav',\n",
       " '/mnt/gcs-bucket/data/F2005/F2005_000022.wav',\n",
       " '/mnt/gcs-bucket/data/F2005/F2005_000023.wav',\n",
       " '/mnt/gcs-bucket/data/F2005/F2005_000024.wav',\n",
       " '/mnt/gcs-bucket/data/F2005/F2005_000025.wav',\n",
       " '/mnt/gcs-bucket/data/F2005/F2005_000026.wav',\n",
       " '/mnt/gcs-bucket/data/F2005/F2005_000027.wav',\n",
       " '/mnt/gcs-bucket/data/F2005/F2005_000028.wav',\n",
       " '/mnt/gcs-bucket/data/F2005/F2005_000029.wav',\n",
       " '/mnt/gcs-bucket/data/F2005/F2005_000030.wav',\n",
       " '/mnt/gcs-bucket/data/F2005/F2005_000031.wav',\n",
       " '/mnt/gcs-bucket/data/F2005/F2005_000032.wav',\n",
       " '/mnt/gcs-bucket/data/F2005/F2005_000033.wav',\n",
       " '/mnt/gcs-bucket/data/F2005/F2005_000034.wav',\n",
       " '/mnt/gcs-bucket/data/F2005/F2005_000035.wav',\n",
       " '/mnt/gcs-bucket/data/F2005/F2005_000036.wav',\n",
       " '/mnt/gcs-bucket/data/F2005/F2005_000037.wav',\n",
       " '/mnt/gcs-bucket/data/F2005/F2005_000038.wav',\n",
       " '/mnt/gcs-bucket/data/F2005/F2005_000039.wav',\n",
       " '/mnt/gcs-bucket/data/F2005/F2005_000040.wav',\n",
       " '/mnt/gcs-bucket/data/F2005/F2005_000041.wav',\n",
       " '/mnt/gcs-bucket/data/F2005/F2005_000042.wav',\n",
       " '/mnt/gcs-bucket/data/F2005/F2005_000043.wav',\n",
       " '/mnt/gcs-bucket/data/F2005/F2005_000044.wav',\n",
       " '/mnt/gcs-bucket/data/F2005/F2005_000045.wav',\n",
       " '/mnt/gcs-bucket/data/F2005/F2005_000046.wav',\n",
       " '/mnt/gcs-bucket/data/F2005/F2005_000047.wav',\n",
       " '/mnt/gcs-bucket/data/F2005/F2005_000048.wav',\n",
       " '/mnt/gcs-bucket/data/F2005/F2005_000049.wav',\n",
       " '/mnt/gcs-bucket/data/F2005/F2005_000050.wav',\n",
       " '/mnt/gcs-bucket/data/F2005/F2005_000051.wav',\n",
       " '/mnt/gcs-bucket/data/F2005/F2005_000052.wav',\n",
       " '/mnt/gcs-bucket/data/F2005/F2005_000053.wav',\n",
       " '/mnt/gcs-bucket/data/F2005/F2005_000054.wav',\n",
       " '/mnt/gcs-bucket/data/F2005/F2005_000055.wav',\n",
       " '/mnt/gcs-bucket/data/F2005/F2005_000056.wav',\n",
       " '/mnt/gcs-bucket/data/F2005/F2005_000057.wav',\n",
       " '/mnt/gcs-bucket/data/F2005/F2005_000058.wav',\n",
       " '/mnt/gcs-bucket/data/F2005/F2005_000059.wav',\n",
       " '/mnt/gcs-bucket/data/F2005/F2005_000060.wav',\n",
       " '/mnt/gcs-bucket/data/F2005/F2005_000061.wav',\n",
       " '/mnt/gcs-bucket/data/F2005/F2005_000062.wav',\n",
       " '/mnt/gcs-bucket/data/F2005/F2005_000063.wav',\n",
       " '/mnt/gcs-bucket/data/F2005/F2005_000064.wav',\n",
       " '/mnt/gcs-bucket/data/F2005/F2005_000065.wav',\n",
       " '/mnt/gcs-bucket/data/F2005/F2005_000066.wav',\n",
       " '/mnt/gcs-bucket/data/F2005/F2005_000067.wav',\n",
       " '/mnt/gcs-bucket/data/F2005/F2005_000068.wav',\n",
       " '/mnt/gcs-bucket/data/F2005/F2005_000069.wav',\n",
       " '/mnt/gcs-bucket/data/F2005/F2005_000070.wav',\n",
       " '/mnt/gcs-bucket/data/F2005/F2005_000071.wav',\n",
       " '/mnt/gcs-bucket/data/F2005/F2005_000072.wav',\n",
       " '/mnt/gcs-bucket/data/F2005/F2005_000073.wav',\n",
       " '/mnt/gcs-bucket/data/F2005/F2005_000074.wav',\n",
       " '/mnt/gcs-bucket/data/F2005/F2005_000075.wav',\n",
       " '/mnt/gcs-bucket/data/F2005/F2005_000076.wav',\n",
       " '/mnt/gcs-bucket/data/F2005/F2005_000077.wav',\n",
       " '/mnt/gcs-bucket/data/F2005/F2005_000078.wav',\n",
       " '/mnt/gcs-bucket/data/F2005/F2005_000079.wav',\n",
       " '/mnt/gcs-bucket/data/F2005/F2005_000080.wav',\n",
       " '/mnt/gcs-bucket/data/F2005/F2005_000081.wav',\n",
       " '/mnt/gcs-bucket/data/F2005/F2005_000082.wav',\n",
       " '/mnt/gcs-bucket/data/F2005/F2005_000083.wav',\n",
       " '/mnt/gcs-bucket/data/F2005/F2005_000084.wav',\n",
       " '/mnt/gcs-bucket/data/F2005/F2005_000085.wav',\n",
       " '/mnt/gcs-bucket/data/F2005/F2005_000086.wav',\n",
       " '/mnt/gcs-bucket/data/F2005/F2005_000087.wav',\n",
       " '/mnt/gcs-bucket/data/F2005/F2005_000088.wav',\n",
       " '/mnt/gcs-bucket/data/F2005/F2005_000089.wav',\n",
       " '/mnt/gcs-bucket/data/F2005/F2005_000090.wav',\n",
       " '/mnt/gcs-bucket/data/F2005/F2005_000091.wav',\n",
       " '/mnt/gcs-bucket/data/F2005/F2005_000092.wav',\n",
       " '/mnt/gcs-bucket/data/F2005/F2005_000093.wav',\n",
       " '/mnt/gcs-bucket/data/F2005/F2005_000094.wav',\n",
       " '/mnt/gcs-bucket/data/F2005/F2005_000095.wav',\n",
       " '/mnt/gcs-bucket/data/F2005/F2005_000096.wav',\n",
       " '/mnt/gcs-bucket/data/F2005/F2005_000097.wav',\n",
       " '/mnt/gcs-bucket/data/F2005/F2005_000098.wav',\n",
       " '/mnt/gcs-bucket/data/F2005/F2005_000099.wav',\n",
       " '/mnt/gcs-bucket/data/F2005/F2005_000100.wav',\n",
       " '/mnt/gcs-bucket/data/F2005/F2005_000101.wav',\n",
       " '/mnt/gcs-bucket/data/F2005/F2005_000102.wav',\n",
       " '/mnt/gcs-bucket/data/F2005/F2005_000103.wav',\n",
       " '/mnt/gcs-bucket/data/F2005/F2005_000104.wav',\n",
       " '/mnt/gcs-bucket/data/F2005/F2005_000105.wav',\n",
       " '/mnt/gcs-bucket/data/F2005/F2005_000106.wav',\n",
       " '/mnt/gcs-bucket/data/F2005/F2005_000107.wav',\n",
       " '/mnt/gcs-bucket/data/F2005/F2005_000108.wav',\n",
       " '/mnt/gcs-bucket/data/F2005/F2005_000109.wav',\n",
       " '/mnt/gcs-bucket/data/F2005/F2005_000110.wav',\n",
       " '/mnt/gcs-bucket/data/F2005/F2005_000111.wav',\n",
       " '/mnt/gcs-bucket/data/F2005/F2005_000112.wav',\n",
       " '/mnt/gcs-bucket/data/F2005/F2005_000113.wav',\n",
       " '/mnt/gcs-bucket/data/F2005/F2005_000114.wav',\n",
       " '/mnt/gcs-bucket/data/F2005/F2005_000115.wav',\n",
       " '/mnt/gcs-bucket/data/F2005/F2005_000116.wav',\n",
       " '/mnt/gcs-bucket/data/F2005/F2005_000117.wav',\n",
       " '/mnt/gcs-bucket/data/F2005/F2005_000118.wav',\n",
       " '/mnt/gcs-bucket/data/F2005/F2005_000119.wav',\n",
       " '/mnt/gcs-bucket/data/F2005/F2005_000120.wav',\n",
       " '/mnt/gcs-bucket/data/F2005/F2005_000121.wav',\n",
       " '/mnt/gcs-bucket/data/F2005/F2005_000122.wav',\n",
       " '/mnt/gcs-bucket/data/F2005/F2005_000123.wav',\n",
       " '/mnt/gcs-bucket/data/F2005/F2005_000124.wav',\n",
       " '/mnt/gcs-bucket/data/F2005/F2005_000125.wav',\n",
       " '/mnt/gcs-bucket/data/F2005/F2005_000126.wav',\n",
       " '/mnt/gcs-bucket/data/F2005/F2005_000127.wav',\n",
       " '/mnt/gcs-bucket/data/F2005/F2005_000128.wav',\n",
       " '/mnt/gcs-bucket/data/F2005/F2005_000129.wav',\n",
       " '/mnt/gcs-bucket/data/F2005/F2005_000130.wav',\n",
       " '/mnt/gcs-bucket/data/F2005/F2005_000131.wav',\n",
       " '/mnt/gcs-bucket/data/F2005/F2005_000132.wav',\n",
       " '/mnt/gcs-bucket/data/F2005/F2005_000133.wav',\n",
       " '/mnt/gcs-bucket/data/F2005/F2005_000134.wav',\n",
       " '/mnt/gcs-bucket/data/F2005/F2005_000135.wav',\n",
       " '/mnt/gcs-bucket/data/F2005/F2005_000136.wav',\n",
       " '/mnt/gcs-bucket/data/F2005/F2005_000137.wav',\n",
       " '/mnt/gcs-bucket/data/F2005/F2005_000138.wav',\n",
       " '/mnt/gcs-bucket/data/F2005/F2005_000139.wav',\n",
       " '/mnt/gcs-bucket/data/F2005/F2005_000140.wav',\n",
       " '/mnt/gcs-bucket/data/F2005/F2005_000141.wav',\n",
       " '/mnt/gcs-bucket/data/F2005/F2005_000142.wav',\n",
       " '/mnt/gcs-bucket/data/F2005/F2005_000143.wav',\n",
       " '/mnt/gcs-bucket/data/F2005/F2005_000144.wav',\n",
       " '/mnt/gcs-bucket/data/F2005/F2005_000145.wav',\n",
       " '/mnt/gcs-bucket/data/F2005/F2005_000146.wav',\n",
       " '/mnt/gcs-bucket/data/F2005/F2005_000147.wav',\n",
       " '/mnt/gcs-bucket/data/F2005/F2005_000148.wav',\n",
       " '/mnt/gcs-bucket/data/F2005/F2005_000149.wav',\n",
       " '/mnt/gcs-bucket/data/F2005/F2005_000150.wav',\n",
       " '/mnt/gcs-bucket/data/F2005/F2005_000151.wav',\n",
       " '/mnt/gcs-bucket/data/F2005/F2005_000152.wav',\n",
       " '/mnt/gcs-bucket/data/F2005/F2005_000153.wav',\n",
       " '/mnt/gcs-bucket/data/F2005/F2005_000154.wav',\n",
       " '/mnt/gcs-bucket/data/F2005/F2005_000155.wav',\n",
       " '/mnt/gcs-bucket/data/F2005/F2005_000156.wav',\n",
       " '/mnt/gcs-bucket/data/F2005/F2005_000157.wav',\n",
       " '/mnt/gcs-bucket/data/F2005/F2005_000158.wav',\n",
       " '/mnt/gcs-bucket/data/F2005/F2005_000159.wav',\n",
       " '/mnt/gcs-bucket/data/F2005/F2005_000160.wav',\n",
       " '/mnt/gcs-bucket/data/F2006/F2006_000001.wav',\n",
       " '/mnt/gcs-bucket/data/F2006/F2006_000002.wav',\n",
       " '/mnt/gcs-bucket/data/F2006/F2006_000003.wav',\n",
       " '/mnt/gcs-bucket/data/F2006/F2006_000004.wav',\n",
       " '/mnt/gcs-bucket/data/F2006/F2006_000005.wav',\n",
       " '/mnt/gcs-bucket/data/F2006/F2006_000006.wav',\n",
       " '/mnt/gcs-bucket/data/F2006/F2006_000007.wav',\n",
       " '/mnt/gcs-bucket/data/F2006/F2006_000008.wav',\n",
       " '/mnt/gcs-bucket/data/F2006/F2006_000009.wav',\n",
       " '/mnt/gcs-bucket/data/F2006/F2006_000010.wav',\n",
       " '/mnt/gcs-bucket/data/F2006/F2006_000011.wav',\n",
       " '/mnt/gcs-bucket/data/F2006/F2006_000012.wav',\n",
       " '/mnt/gcs-bucket/data/F2006/F2006_000013.wav',\n",
       " '/mnt/gcs-bucket/data/F2006/F2006_000014.wav',\n",
       " '/mnt/gcs-bucket/data/F2006/F2006_000015.wav',\n",
       " '/mnt/gcs-bucket/data/F2006/F2006_000016.wav',\n",
       " '/mnt/gcs-bucket/data/F2006/F2006_000017.wav',\n",
       " '/mnt/gcs-bucket/data/F2006/F2006_000018.wav',\n",
       " '/mnt/gcs-bucket/data/F2006/F2006_000019.wav',\n",
       " '/mnt/gcs-bucket/data/F2006/F2006_000020.wav',\n",
       " '/mnt/gcs-bucket/data/F2006/F2006_000021.wav',\n",
       " '/mnt/gcs-bucket/data/F2006/F2006_000022.wav',\n",
       " '/mnt/gcs-bucket/data/F2006/F2006_000023.wav',\n",
       " '/mnt/gcs-bucket/data/F2006/F2006_000024.wav',\n",
       " '/mnt/gcs-bucket/data/F2006/F2006_000025.wav',\n",
       " '/mnt/gcs-bucket/data/F2006/F2006_000026.wav',\n",
       " '/mnt/gcs-bucket/data/F2006/F2006_000027.wav',\n",
       " '/mnt/gcs-bucket/data/F2006/F2006_000028.wav',\n",
       " '/mnt/gcs-bucket/data/F2006/F2006_000029.wav',\n",
       " '/mnt/gcs-bucket/data/F2006/F2006_000030.wav',\n",
       " '/mnt/gcs-bucket/data/F2006/F2006_000031.wav',\n",
       " '/mnt/gcs-bucket/data/F2006/F2006_000032.wav',\n",
       " '/mnt/gcs-bucket/data/F2006/F2006_000033.wav',\n",
       " '/mnt/gcs-bucket/data/F2006/F2006_000034.wav',\n",
       " '/mnt/gcs-bucket/data/F2006/F2006_000035.wav',\n",
       " '/mnt/gcs-bucket/data/F2006/F2006_000036.wav',\n",
       " '/mnt/gcs-bucket/data/F2006/F2006_000037.wav',\n",
       " '/mnt/gcs-bucket/data/F2006/F2006_000038.wav',\n",
       " '/mnt/gcs-bucket/data/F2006/F2006_000039.wav',\n",
       " '/mnt/gcs-bucket/data/F2006/F2006_000040.wav',\n",
       " '/mnt/gcs-bucket/data/F2006/F2006_000041.wav',\n",
       " '/mnt/gcs-bucket/data/F2006/F2006_000042.wav',\n",
       " '/mnt/gcs-bucket/data/F2006/F2006_000043.wav',\n",
       " '/mnt/gcs-bucket/data/F2006/F2006_000044.wav',\n",
       " '/mnt/gcs-bucket/data/F2006/F2006_000045.wav',\n",
       " '/mnt/gcs-bucket/data/F2006/F2006_000046.wav',\n",
       " '/mnt/gcs-bucket/data/F2006/F2006_000047.wav',\n",
       " '/mnt/gcs-bucket/data/F2006/F2006_000048.wav',\n",
       " '/mnt/gcs-bucket/data/F2006/F2006_000049.wav',\n",
       " '/mnt/gcs-bucket/data/F2006/F2006_000050.wav',\n",
       " '/mnt/gcs-bucket/data/F2006/F2006_000051.wav',\n",
       " '/mnt/gcs-bucket/data/F2006/F2006_000052.wav',\n",
       " '/mnt/gcs-bucket/data/F2006/F2006_000053.wav',\n",
       " '/mnt/gcs-bucket/data/F2006/F2006_000054.wav',\n",
       " '/mnt/gcs-bucket/data/F2006/F2006_000055.wav',\n",
       " '/mnt/gcs-bucket/data/F2006/F2006_000056.wav',\n",
       " '/mnt/gcs-bucket/data/F2006/F2006_000057.wav',\n",
       " '/mnt/gcs-bucket/data/F2006/F2006_000058.wav',\n",
       " '/mnt/gcs-bucket/data/F2006/F2006_000059.wav',\n",
       " '/mnt/gcs-bucket/data/F2006/F2006_000060.wav',\n",
       " '/mnt/gcs-bucket/data/F2006/F2006_000061.wav',\n",
       " '/mnt/gcs-bucket/data/F2006/F2006_000062.wav',\n",
       " '/mnt/gcs-bucket/data/F2006/F2006_000063.wav',\n",
       " '/mnt/gcs-bucket/data/F2006/F2006_000064.wav',\n",
       " '/mnt/gcs-bucket/data/F2006/F2006_000065.wav',\n",
       " '/mnt/gcs-bucket/data/F2006/F2006_000066.wav',\n",
       " '/mnt/gcs-bucket/data/F2006/F2006_000067.wav',\n",
       " '/mnt/gcs-bucket/data/F2006/F2006_000068.wav',\n",
       " '/mnt/gcs-bucket/data/F2006/F2006_000069.wav',\n",
       " '/mnt/gcs-bucket/data/F2006/F2006_000070.wav',\n",
       " '/mnt/gcs-bucket/data/F2006/F2006_000071.wav',\n",
       " '/mnt/gcs-bucket/data/F2006/F2006_000072.wav',\n",
       " '/mnt/gcs-bucket/data/F2006/F2006_000073.wav',\n",
       " '/mnt/gcs-bucket/data/F2006/F2006_000074.wav',\n",
       " '/mnt/gcs-bucket/data/F2006/F2006_000075.wav',\n",
       " '/mnt/gcs-bucket/data/F2006/F2006_000076.wav',\n",
       " '/mnt/gcs-bucket/data/F2006/F2006_000077.wav',\n",
       " '/mnt/gcs-bucket/data/F2006/F2006_000078.wav',\n",
       " '/mnt/gcs-bucket/data/F2006/F2006_000079.wav',\n",
       " '/mnt/gcs-bucket/data/F2006/F2006_000080.wav',\n",
       " '/mnt/gcs-bucket/data/F2006/F2006_000081.wav',\n",
       " '/mnt/gcs-bucket/data/F2006/F2006_000082.wav',\n",
       " '/mnt/gcs-bucket/data/F2006/F2006_000083.wav',\n",
       " '/mnt/gcs-bucket/data/F2006/F2006_000084.wav',\n",
       " '/mnt/gcs-bucket/data/F2006/F2006_000085.wav',\n",
       " '/mnt/gcs-bucket/data/F2006/F2006_000086.wav',\n",
       " '/mnt/gcs-bucket/data/F2006/F2006_000087.wav',\n",
       " '/mnt/gcs-bucket/data/F2006/F2006_000088.wav',\n",
       " '/mnt/gcs-bucket/data/F2006/F2006_000089.wav',\n",
       " '/mnt/gcs-bucket/data/F2006/F2006_000090.wav',\n",
       " '/mnt/gcs-bucket/data/F2006/F2006_000091.wav',\n",
       " '/mnt/gcs-bucket/data/F2006/F2006_000092.wav',\n",
       " '/mnt/gcs-bucket/data/F2006/F2006_000093.wav',\n",
       " '/mnt/gcs-bucket/data/F2006/F2006_000094.wav',\n",
       " '/mnt/gcs-bucket/data/F2006/F2006_000095.wav',\n",
       " '/mnt/gcs-bucket/data/F2006/F2006_000096.wav',\n",
       " '/mnt/gcs-bucket/data/F2006/F2006_000097.wav',\n",
       " '/mnt/gcs-bucket/data/F2006/F2006_000098.wav',\n",
       " '/mnt/gcs-bucket/data/F2006/F2006_000099.wav',\n",
       " '/mnt/gcs-bucket/data/F2006/F2006_000100.wav',\n",
       " '/mnt/gcs-bucket/data/F2006/F2006_000101.wav',\n",
       " '/mnt/gcs-bucket/data/F2006/F2006_000102.wav',\n",
       " '/mnt/gcs-bucket/data/F2006/F2006_000103.wav',\n",
       " '/mnt/gcs-bucket/data/F2006/F2006_000104.wav',\n",
       " '/mnt/gcs-bucket/data/F2006/F2006_000105.wav',\n",
       " '/mnt/gcs-bucket/data/F2006/F2006_000106.wav',\n",
       " '/mnt/gcs-bucket/data/F2006/F2006_000107.wav',\n",
       " '/mnt/gcs-bucket/data/F2006/F2006_000108.wav',\n",
       " '/mnt/gcs-bucket/data/F2006/F2006_000109.wav',\n",
       " '/mnt/gcs-bucket/data/F2006/F2006_000110.wav',\n",
       " '/mnt/gcs-bucket/data/F2006/F2006_000111.wav',\n",
       " '/mnt/gcs-bucket/data/F2006/F2006_000112.wav',\n",
       " '/mnt/gcs-bucket/data/F2006/F2006_000113.wav',\n",
       " '/mnt/gcs-bucket/data/F2006/F2006_000114.wav',\n",
       " '/mnt/gcs-bucket/data/F2006/F2006_000115.wav',\n",
       " '/mnt/gcs-bucket/data/F2006/F2006_000116.wav',\n",
       " '/mnt/gcs-bucket/data/F2006/F2006_000117.wav',\n",
       " '/mnt/gcs-bucket/data/F2006/F2006_000118.wav',\n",
       " '/mnt/gcs-bucket/data/F2006/F2006_000119.wav',\n",
       " '/mnt/gcs-bucket/data/F2006/F2006_000120.wav',\n",
       " '/mnt/gcs-bucket/data/F2006/F2006_000121.wav',\n",
       " '/mnt/gcs-bucket/data/F2006/F2006_000122.wav',\n",
       " '/mnt/gcs-bucket/data/F2006/F2006_000123.wav',\n",
       " '/mnt/gcs-bucket/data/F2006/F2006_000124.wav',\n",
       " '/mnt/gcs-bucket/data/F2006/F2006_000125.wav',\n",
       " '/mnt/gcs-bucket/data/F2006/F2006_000126.wav',\n",
       " '/mnt/gcs-bucket/data/F2006/F2006_000127.wav',\n",
       " '/mnt/gcs-bucket/data/F2006/F2006_000128.wav',\n",
       " '/mnt/gcs-bucket/data/F2006/F2006_000129.wav',\n",
       " '/mnt/gcs-bucket/data/F2006/F2006_000130.wav',\n",
       " '/mnt/gcs-bucket/data/F2006/F2006_000131.wav',\n",
       " '/mnt/gcs-bucket/data/F2006/F2006_000132.wav',\n",
       " '/mnt/gcs-bucket/data/F2006/F2006_000133.wav',\n",
       " '/mnt/gcs-bucket/data/F2006/F2006_000134.wav',\n",
       " '/mnt/gcs-bucket/data/F2006/F2006_000135.wav',\n",
       " '/mnt/gcs-bucket/data/F2006/F2006_000136.wav',\n",
       " '/mnt/gcs-bucket/data/F2006/F2006_000137.wav',\n",
       " '/mnt/gcs-bucket/data/F2006/F2006_000138.wav',\n",
       " '/mnt/gcs-bucket/data/F2006/F2006_000139.wav',\n",
       " '/mnt/gcs-bucket/data/F2006/F2006_000140.wav',\n",
       " '/mnt/gcs-bucket/data/F2006/F2006_000141.wav',\n",
       " '/mnt/gcs-bucket/data/F2006/F2006_000142.wav',\n",
       " '/mnt/gcs-bucket/data/F2006/F2006_000143.wav',\n",
       " '/mnt/gcs-bucket/data/F2006/F2006_000144.wav',\n",
       " '/mnt/gcs-bucket/data/F2006/F2006_000145.wav',\n",
       " '/mnt/gcs-bucket/data/F2006/F2006_000146.wav',\n",
       " '/mnt/gcs-bucket/data/F2006/F2006_000147.wav',\n",
       " '/mnt/gcs-bucket/data/F2006/F2006_000148.wav',\n",
       " '/mnt/gcs-bucket/data/F2006/F2006_000149.wav',\n",
       " '/mnt/gcs-bucket/data/F2006/F2006_000150.wav',\n",
       " '/mnt/gcs-bucket/data/F2006/F2006_000151.wav',\n",
       " '/mnt/gcs-bucket/data/F2006/F2006_000152.wav',\n",
       " '/mnt/gcs-bucket/data/F2006/F2006_000153.wav',\n",
       " '/mnt/gcs-bucket/data/F2006/F2006_000154.wav',\n",
       " '/mnt/gcs-bucket/data/F2006/F2006_000155.wav',\n",
       " '/mnt/gcs-bucket/data/F2006/F2006_000156.wav',\n",
       " '/mnt/gcs-bucket/data/F2006/F2006_000157.wav',\n",
       " '/mnt/gcs-bucket/data/F2006/F2006_000158.wav',\n",
       " '/mnt/gcs-bucket/data/F2006/F2006_000159.wav',\n",
       " '/mnt/gcs-bucket/data/F2006/F2006_000160.wav',\n",
       " '/mnt/gcs-bucket/data/F2007/F2007_000001.wav',\n",
       " '/mnt/gcs-bucket/data/F2007/F2007_000002.wav',\n",
       " '/mnt/gcs-bucket/data/F2007/F2007_000003.wav',\n",
       " '/mnt/gcs-bucket/data/F2007/F2007_000004.wav',\n",
       " '/mnt/gcs-bucket/data/F2007/F2007_000005.wav',\n",
       " '/mnt/gcs-bucket/data/F2007/F2007_000006.wav',\n",
       " '/mnt/gcs-bucket/data/F2007/F2007_000007.wav',\n",
       " '/mnt/gcs-bucket/data/F2007/F2007_000008.wav',\n",
       " '/mnt/gcs-bucket/data/F2007/F2007_000009.wav',\n",
       " '/mnt/gcs-bucket/data/F2007/F2007_000010.wav',\n",
       " '/mnt/gcs-bucket/data/F2007/F2007_000011.wav',\n",
       " '/mnt/gcs-bucket/data/F2007/F2007_000012.wav',\n",
       " '/mnt/gcs-bucket/data/F2007/F2007_000013.wav',\n",
       " '/mnt/gcs-bucket/data/F2007/F2007_000014.wav',\n",
       " '/mnt/gcs-bucket/data/F2007/F2007_000015.wav',\n",
       " '/mnt/gcs-bucket/data/F2007/F2007_000016.wav',\n",
       " '/mnt/gcs-bucket/data/F2007/F2007_000017.wav',\n",
       " '/mnt/gcs-bucket/data/F2007/F2007_000018.wav',\n",
       " '/mnt/gcs-bucket/data/F2007/F2007_000019.wav',\n",
       " '/mnt/gcs-bucket/data/F2007/F2007_000020.wav',\n",
       " '/mnt/gcs-bucket/data/F2007/F2007_000021.wav',\n",
       " '/mnt/gcs-bucket/data/F2007/F2007_000022.wav',\n",
       " '/mnt/gcs-bucket/data/F2007/F2007_000023.wav',\n",
       " '/mnt/gcs-bucket/data/F2007/F2007_000024.wav',\n",
       " '/mnt/gcs-bucket/data/F2007/F2007_000025.wav',\n",
       " '/mnt/gcs-bucket/data/F2007/F2007_000026.wav',\n",
       " '/mnt/gcs-bucket/data/F2007/F2007_000027.wav',\n",
       " '/mnt/gcs-bucket/data/F2007/F2007_000028.wav',\n",
       " '/mnt/gcs-bucket/data/F2007/F2007_000029.wav',\n",
       " '/mnt/gcs-bucket/data/F2007/F2007_000030.wav',\n",
       " '/mnt/gcs-bucket/data/F2007/F2007_000031.wav',\n",
       " '/mnt/gcs-bucket/data/F2007/F2007_000032.wav',\n",
       " '/mnt/gcs-bucket/data/F2007/F2007_000033.wav',\n",
       " '/mnt/gcs-bucket/data/F2007/F2007_000034.wav',\n",
       " '/mnt/gcs-bucket/data/F2007/F2007_000035.wav',\n",
       " '/mnt/gcs-bucket/data/F2007/F2007_000036.wav',\n",
       " '/mnt/gcs-bucket/data/F2007/F2007_000037.wav',\n",
       " '/mnt/gcs-bucket/data/F2007/F2007_000038.wav',\n",
       " '/mnt/gcs-bucket/data/F2007/F2007_000039.wav',\n",
       " '/mnt/gcs-bucket/data/F2007/F2007_000040.wav',\n",
       " ...]"
      ]
     },
     "execution_count": 32,
     "metadata": {},
     "output_type": "execute_result"
    }
   ],
   "source": [
    "file_paths"
   ]
  },
  {
   "cell_type": "code",
   "execution_count": 33,
   "id": "6734c36e-4b5b-4933-8f82-8eb24eabee09",
   "metadata": {},
   "outputs": [],
   "source": [
    "# 파일 이름 저장할 초기 list 생성\n",
    "file_names = []\n",
    "\n",
    "for file_path in file_paths:\n",
    "    # 파일 이름 저장\n",
    "    file_names.append(os.path.basename(file_path))"
   ]
  },
  {
   "cell_type": "code",
   "execution_count": 34,
   "id": "da273f67-4646-4755-a562-d4e4e5e55ad4",
   "metadata": {},
   "outputs": [],
   "source": [
    "# 폴더 이름 추출\n",
    "folder_names = [f.split('_')[0] for f in file_names]"
   ]
  },
  {
   "cell_type": "code",
   "execution_count": 35,
   "id": "67ce86c9-cfff-4469-9e3f-d9e90a7e0d90",
   "metadata": {},
   "outputs": [],
   "source": [
    "# 성별을 분류하는 코드\n",
    "gender_labels = ['F' if name.startswith('F') else 'M' for name in folder_names]"
   ]
  },
  {
   "cell_type": "code",
   "execution_count": 36,
   "id": "f1deee64-6309-434f-870b-24622f01c65c",
   "metadata": {},
   "outputs": [],
   "source": [
    "# 라벨링 데이터 로드\n",
    "labeling = pd.read_csv('./data/csv/labeling.csv', low_memory=False)\n",
    "\n",
    "# 감정 데이터 길이 확장\n",
    "repeated_emotion = labeling['감정'].tolist() * (len(file_paths) // len(labeling) + 1)\n",
    "repeated_emotion = repeated_emotion[:len(file_paths)]  # 파일 수에 맞게 자르기"
   ]
  },
  {
   "cell_type": "code",
   "execution_count": 37,
   "id": "b66bee10-5105-4b07-81d1-b388275b9f41",
   "metadata": {},
   "outputs": [],
   "source": [
    "# 데이터프레임 생성\n",
    "label_df = pd.DataFrame({\n",
    "    'folder_name': folder_names,\n",
    "    'file_name': file_names,\n",
    "    'file_path': file_paths,\n",
    "    'gender': gender_labels,\n",
    "    'emotion': repeated_emotion,\n",
    "})"
   ]
  },
  {
   "cell_type": "code",
   "execution_count": 38,
   "id": "20512b77-d6a5-4192-9454-82182408223c",
   "metadata": {},
   "outputs": [
    {
     "data": {
      "text/plain": [
       "folder_name        0\n",
       "file_name          0\n",
       "file_path          0\n",
       "gender             0\n",
       "emotion        20000\n",
       "dtype: int64"
      ]
     },
     "execution_count": 38,
     "metadata": {},
     "output_type": "execute_result"
    }
   ],
   "source": [
    "# 결측치 확인(사용하지 않는 감정 데이터 확인)\n",
    "label_df.isnull().sum()"
   ]
  },
  {
   "cell_type": "code",
   "execution_count": 39,
   "id": "44e34782-2caf-4bbd-b099-f4ea0ded3d0d",
   "metadata": {},
   "outputs": [
    {
     "data": {
      "text/plain": [
       "folder_name    0\n",
       "file_name      0\n",
       "file_path      0\n",
       "gender         0\n",
       "emotion        0\n",
       "dtype: int64"
      ]
     },
     "execution_count": 39,
     "metadata": {},
     "output_type": "execute_result"
    }
   ],
   "source": [
    "# 데이터 프레임 복제\n",
    "labeling_df = label_df.copy()\n",
    "\n",
    "# 결측치 제거 (사용하지 않는 감정 데이터 제거)\n",
    "labeling_df.dropna(inplace=True)\n",
    "\n",
    "# 제거 확인\n",
    "labeling_df.isnull().sum()"
   ]
  },
  {
   "cell_type": "code",
   "execution_count": 40,
   "id": "ec59206b-bc7c-4f9f-a373-8c74ed29ded0",
   "metadata": {},
   "outputs": [
    {
     "data": {
      "text/html": [
       "<div>\n",
       "<style scoped>\n",
       "    .dataframe tbody tr th:only-of-type {\n",
       "        vertical-align: middle;\n",
       "    }\n",
       "\n",
       "    .dataframe tbody tr th {\n",
       "        vertical-align: top;\n",
       "    }\n",
       "\n",
       "    .dataframe thead th {\n",
       "        text-align: right;\n",
       "    }\n",
       "</style>\n",
       "<table border=\"1\" class=\"dataframe\">\n",
       "  <thead>\n",
       "    <tr style=\"text-align: right;\">\n",
       "      <th></th>\n",
       "      <th>folder_name</th>\n",
       "      <th>file_name</th>\n",
       "      <th>file_path</th>\n",
       "      <th>gender</th>\n",
       "      <th>emotion</th>\n",
       "    </tr>\n",
       "  </thead>\n",
       "  <tbody>\n",
       "    <tr>\n",
       "      <th>0</th>\n",
       "      <td>F2001</td>\n",
       "      <td>F2001_000001.wav</td>\n",
       "      <td>/mnt/gcs-bucket/...</td>\n",
       "      <td>F</td>\n",
       "      <td>Sad</td>\n",
       "    </tr>\n",
       "    <tr>\n",
       "      <th>1</th>\n",
       "      <td>F2001</td>\n",
       "      <td>F2001_000002.wav</td>\n",
       "      <td>/mnt/gcs-bucket/...</td>\n",
       "      <td>F</td>\n",
       "      <td>Sad</td>\n",
       "    </tr>\n",
       "    <tr>\n",
       "      <th>2</th>\n",
       "      <td>F2001</td>\n",
       "      <td>F2001_000003.wav</td>\n",
       "      <td>/mnt/gcs-bucket/...</td>\n",
       "      <td>F</td>\n",
       "      <td>Sad</td>\n",
       "    </tr>\n",
       "    <tr>\n",
       "      <th>3</th>\n",
       "      <td>F2001</td>\n",
       "      <td>F2001_000004.wav</td>\n",
       "      <td>/mnt/gcs-bucket/...</td>\n",
       "      <td>F</td>\n",
       "      <td>Sad</td>\n",
       "    </tr>\n",
       "    <tr>\n",
       "      <th>4</th>\n",
       "      <td>F2001</td>\n",
       "      <td>F2001_000005.wav</td>\n",
       "      <td>/mnt/gcs-bucket/...</td>\n",
       "      <td>F</td>\n",
       "      <td>Sad</td>\n",
       "    </tr>\n",
       "    <tr>\n",
       "      <th>...</th>\n",
       "      <td>...</td>\n",
       "      <td>...</td>\n",
       "      <td>...</td>\n",
       "      <td>...</td>\n",
       "      <td>...</td>\n",
       "    </tr>\n",
       "    <tr>\n",
       "      <th>79995</th>\n",
       "      <td>M6003</td>\n",
       "      <td>M6003_000156.wav</td>\n",
       "      <td>/mnt/gcs-bucket/...</td>\n",
       "      <td>M</td>\n",
       "      <td>Calm</td>\n",
       "    </tr>\n",
       "    <tr>\n",
       "      <th>79996</th>\n",
       "      <td>M6003</td>\n",
       "      <td>M6003_000157.wav</td>\n",
       "      <td>/mnt/gcs-bucket/...</td>\n",
       "      <td>M</td>\n",
       "      <td>Calm</td>\n",
       "    </tr>\n",
       "    <tr>\n",
       "      <th>79997</th>\n",
       "      <td>M6003</td>\n",
       "      <td>M6003_000158.wav</td>\n",
       "      <td>/mnt/gcs-bucket/...</td>\n",
       "      <td>M</td>\n",
       "      <td>Calm</td>\n",
       "    </tr>\n",
       "    <tr>\n",
       "      <th>79998</th>\n",
       "      <td>M6003</td>\n",
       "      <td>M6003_000159.wav</td>\n",
       "      <td>/mnt/gcs-bucket/...</td>\n",
       "      <td>M</td>\n",
       "      <td>Calm</td>\n",
       "    </tr>\n",
       "    <tr>\n",
       "      <th>79999</th>\n",
       "      <td>M6003</td>\n",
       "      <td>M6003_000160.wav</td>\n",
       "      <td>/mnt/gcs-bucket/...</td>\n",
       "      <td>M</td>\n",
       "      <td>Calm</td>\n",
       "    </tr>\n",
       "  </tbody>\n",
       "</table>\n",
       "<p>60000 rows × 5 columns</p>\n",
       "</div>"
      ],
      "text/plain": [
       "      folder_name         file_name            file_path gender emotion\n",
       "0           F2001  F2001_000001.wav  /mnt/gcs-bucket/...      F     Sad\n",
       "1           F2001  F2001_000002.wav  /mnt/gcs-bucket/...      F     Sad\n",
       "2           F2001  F2001_000003.wav  /mnt/gcs-bucket/...      F     Sad\n",
       "3           F2001  F2001_000004.wav  /mnt/gcs-bucket/...      F     Sad\n",
       "4           F2001  F2001_000005.wav  /mnt/gcs-bucket/...      F     Sad\n",
       "...           ...               ...                  ...    ...     ...\n",
       "79995       M6003  M6003_000156.wav  /mnt/gcs-bucket/...      M    Calm\n",
       "79996       M6003  M6003_000157.wav  /mnt/gcs-bucket/...      M    Calm\n",
       "79997       M6003  M6003_000158.wav  /mnt/gcs-bucket/...      M    Calm\n",
       "79998       M6003  M6003_000159.wav  /mnt/gcs-bucket/...      M    Calm\n",
       "79999       M6003  M6003_000160.wav  /mnt/gcs-bucket/...      M    Calm\n",
       "\n",
       "[60000 rows x 5 columns]"
      ]
     },
     "execution_count": 40,
     "metadata": {},
     "output_type": "execute_result"
    }
   ],
   "source": [
    "labeling_df"
   ]
  },
  {
   "cell_type": "markdown",
   "id": "121756d9-236c-49d7-b568-69be06eab413",
   "metadata": {},
   "source": [
    "# 데이터 분석"
   ]
  },
  {
   "cell_type": "markdown",
   "id": "3fccb6d8-890e-45f9-88bf-eaacc76ffa96",
   "metadata": {},
   "source": [
    "## 1. csv 데이터 분석"
   ]
  },
  {
   "cell_type": "code",
   "execution_count": 41,
   "id": "2238f9ce-f3d4-4d93-b275-8dd696b1e0e4",
   "metadata": {},
   "outputs": [
    {
     "name": "stdout",
     "output_type": "stream",
     "text": [
      "<class 'pandas.core.frame.DataFrame'>\n",
      "Index: 60000 entries, 0 to 79999\n",
      "Data columns (total 5 columns):\n",
      " #   Column       Non-Null Count  Dtype \n",
      "---  ------       --------------  ----- \n",
      " 0   folder_name  60000 non-null  object\n",
      " 1   file_name    60000 non-null  object\n",
      " 2   file_path    60000 non-null  object\n",
      " 3   gender       60000 non-null  object\n",
      " 4   emotion      60000 non-null  object\n",
      "dtypes: object(5)\n",
      "memory usage: 2.7+ MB\n"
     ]
    }
   ],
   "source": [
    "# 데이터 정보\n",
    "labeling_df.info()"
   ]
  },
  {
   "cell_type": "code",
   "execution_count": 42,
   "id": "7c49711d-b7aa-4bb2-9101-161d776b1caf",
   "metadata": {},
   "outputs": [
    {
     "data": {
      "text/html": [
       "<div>\n",
       "<style scoped>\n",
       "    .dataframe tbody tr th:only-of-type {\n",
       "        vertical-align: middle;\n",
       "    }\n",
       "\n",
       "    .dataframe tbody tr th {\n",
       "        vertical-align: top;\n",
       "    }\n",
       "\n",
       "    .dataframe thead th {\n",
       "        text-align: right;\n",
       "    }\n",
       "</style>\n",
       "<table border=\"1\" class=\"dataframe\">\n",
       "  <thead>\n",
       "    <tr style=\"text-align: right;\">\n",
       "      <th></th>\n",
       "      <th>folder_name</th>\n",
       "      <th>file_name</th>\n",
       "      <th>file_path</th>\n",
       "      <th>gender</th>\n",
       "      <th>emotion</th>\n",
       "    </tr>\n",
       "  </thead>\n",
       "  <tbody>\n",
       "    <tr>\n",
       "      <th>0</th>\n",
       "      <td>F2001</td>\n",
       "      <td>F2001_000001.wav</td>\n",
       "      <td>/mnt/gcs-bucket/...</td>\n",
       "      <td>F</td>\n",
       "      <td>Sad</td>\n",
       "    </tr>\n",
       "    <tr>\n",
       "      <th>1</th>\n",
       "      <td>F2001</td>\n",
       "      <td>F2001_000002.wav</td>\n",
       "      <td>/mnt/gcs-bucket/...</td>\n",
       "      <td>F</td>\n",
       "      <td>Sad</td>\n",
       "    </tr>\n",
       "    <tr>\n",
       "      <th>2</th>\n",
       "      <td>F2001</td>\n",
       "      <td>F2001_000003.wav</td>\n",
       "      <td>/mnt/gcs-bucket/...</td>\n",
       "      <td>F</td>\n",
       "      <td>Sad</td>\n",
       "    </tr>\n",
       "    <tr>\n",
       "      <th>3</th>\n",
       "      <td>F2001</td>\n",
       "      <td>F2001_000004.wav</td>\n",
       "      <td>/mnt/gcs-bucket/...</td>\n",
       "      <td>F</td>\n",
       "      <td>Sad</td>\n",
       "    </tr>\n",
       "    <tr>\n",
       "      <th>4</th>\n",
       "      <td>F2001</td>\n",
       "      <td>F2001_000005.wav</td>\n",
       "      <td>/mnt/gcs-bucket/...</td>\n",
       "      <td>F</td>\n",
       "      <td>Sad</td>\n",
       "    </tr>\n",
       "  </tbody>\n",
       "</table>\n",
       "</div>"
      ],
      "text/plain": [
       "  folder_name         file_name            file_path gender emotion\n",
       "0       F2001  F2001_000001.wav  /mnt/gcs-bucket/...      F     Sad\n",
       "1       F2001  F2001_000002.wav  /mnt/gcs-bucket/...      F     Sad\n",
       "2       F2001  F2001_000003.wav  /mnt/gcs-bucket/...      F     Sad\n",
       "3       F2001  F2001_000004.wav  /mnt/gcs-bucket/...      F     Sad\n",
       "4       F2001  F2001_000005.wav  /mnt/gcs-bucket/...      F     Sad"
      ]
     },
     "execution_count": 42,
     "metadata": {},
     "output_type": "execute_result"
    }
   ],
   "source": [
    "# 상위 5개 데이터 추출\n",
    "labeling_df.head()"
   ]
  },
  {
   "cell_type": "code",
   "execution_count": 43,
   "id": "f43b2bf4-7ae2-4b38-ae88-5e6e37d38cbc",
   "metadata": {},
   "outputs": [
    {
     "data": {
      "text/html": [
       "<div>\n",
       "<style scoped>\n",
       "    .dataframe tbody tr th:only-of-type {\n",
       "        vertical-align: middle;\n",
       "    }\n",
       "\n",
       "    .dataframe tbody tr th {\n",
       "        vertical-align: top;\n",
       "    }\n",
       "\n",
       "    .dataframe thead th {\n",
       "        text-align: right;\n",
       "    }\n",
       "</style>\n",
       "<table border=\"1\" class=\"dataframe\">\n",
       "  <thead>\n",
       "    <tr style=\"text-align: right;\">\n",
       "      <th></th>\n",
       "      <th>folder_name</th>\n",
       "      <th>file_name</th>\n",
       "      <th>file_path</th>\n",
       "      <th>gender</th>\n",
       "      <th>emotion</th>\n",
       "    </tr>\n",
       "  </thead>\n",
       "  <tbody>\n",
       "    <tr>\n",
       "      <th>79995</th>\n",
       "      <td>M6003</td>\n",
       "      <td>M6003_000156.wav</td>\n",
       "      <td>/mnt/gcs-bucket/...</td>\n",
       "      <td>M</td>\n",
       "      <td>Calm</td>\n",
       "    </tr>\n",
       "    <tr>\n",
       "      <th>79996</th>\n",
       "      <td>M6003</td>\n",
       "      <td>M6003_000157.wav</td>\n",
       "      <td>/mnt/gcs-bucket/...</td>\n",
       "      <td>M</td>\n",
       "      <td>Calm</td>\n",
       "    </tr>\n",
       "    <tr>\n",
       "      <th>79997</th>\n",
       "      <td>M6003</td>\n",
       "      <td>M6003_000158.wav</td>\n",
       "      <td>/mnt/gcs-bucket/...</td>\n",
       "      <td>M</td>\n",
       "      <td>Calm</td>\n",
       "    </tr>\n",
       "    <tr>\n",
       "      <th>79998</th>\n",
       "      <td>M6003</td>\n",
       "      <td>M6003_000159.wav</td>\n",
       "      <td>/mnt/gcs-bucket/...</td>\n",
       "      <td>M</td>\n",
       "      <td>Calm</td>\n",
       "    </tr>\n",
       "    <tr>\n",
       "      <th>79999</th>\n",
       "      <td>M6003</td>\n",
       "      <td>M6003_000160.wav</td>\n",
       "      <td>/mnt/gcs-bucket/...</td>\n",
       "      <td>M</td>\n",
       "      <td>Calm</td>\n",
       "    </tr>\n",
       "  </tbody>\n",
       "</table>\n",
       "</div>"
      ],
      "text/plain": [
       "      folder_name         file_name            file_path gender emotion\n",
       "79995       M6003  M6003_000156.wav  /mnt/gcs-bucket/...      M    Calm\n",
       "79996       M6003  M6003_000157.wav  /mnt/gcs-bucket/...      M    Calm\n",
       "79997       M6003  M6003_000158.wav  /mnt/gcs-bucket/...      M    Calm\n",
       "79998       M6003  M6003_000159.wav  /mnt/gcs-bucket/...      M    Calm\n",
       "79999       M6003  M6003_000160.wav  /mnt/gcs-bucket/...      M    Calm"
      ]
     },
     "execution_count": 43,
     "metadata": {},
     "output_type": "execute_result"
    }
   ],
   "source": [
    "# 상위 5개 데이터 추출\n",
    "labeling_df.tail()"
   ]
  },
  {
   "cell_type": "code",
   "execution_count": 44,
   "id": "942edb8d-4cc6-45a9-88d4-7ba3bcf600f6",
   "metadata": {},
   "outputs": [
    {
     "data": {
      "text/plain": [
       "0"
      ]
     },
     "execution_count": 44,
     "metadata": {},
     "output_type": "execute_result"
    }
   ],
   "source": [
    "# 중복행 확인\n",
    "labeling_df.duplicated().sum()"
   ]
  },
  {
   "cell_type": "code",
   "execution_count": 45,
   "id": "c9f0cc7d-11f8-49ee-a82a-9fbbcbaf99f3",
   "metadata": {},
   "outputs": [
    {
     "data": {
      "text/plain": [
       "folder_name    0\n",
       "file_name      0\n",
       "file_path      0\n",
       "gender         0\n",
       "emotion        0\n",
       "dtype: int64"
      ]
     },
     "execution_count": 45,
     "metadata": {},
     "output_type": "execute_result"
    }
   ],
   "source": [
    "# 결측치 확인\n",
    "labeling_df.isnull().sum()"
   ]
  },
  {
   "cell_type": "code",
   "execution_count": 46,
   "id": "5d860631-f08f-4734-b4a5-0affb41b2bbe",
   "metadata": {},
   "outputs": [
    {
     "data": {
      "text/plain": [
       "folder_name    0\n",
       "file_name      0\n",
       "file_path      0\n",
       "gender         0\n",
       "emotion        0\n",
       "dtype: int64"
      ]
     },
     "execution_count": 46,
     "metadata": {},
     "output_type": "execute_result"
    }
   ],
   "source": [
    "# 결측치 확인\n",
    "labeling_df.isna().sum()"
   ]
  },
  {
   "cell_type": "code",
   "execution_count": 47,
   "id": "8024906c-a3da-4e86-964f-b3a93ea22047",
   "metadata": {},
   "outputs": [
    {
     "data": {
      "text/html": [
       "<div>\n",
       "<style scoped>\n",
       "    .dataframe tbody tr th:only-of-type {\n",
       "        vertical-align: middle;\n",
       "    }\n",
       "\n",
       "    .dataframe tbody tr th {\n",
       "        vertical-align: top;\n",
       "    }\n",
       "\n",
       "    .dataframe thead th {\n",
       "        text-align: right;\n",
       "    }\n",
       "</style>\n",
       "<table border=\"1\" class=\"dataframe\">\n",
       "  <thead>\n",
       "    <tr style=\"text-align: right;\">\n",
       "      <th></th>\n",
       "      <th>emotion</th>\n",
       "      <th>count</th>\n",
       "    </tr>\n",
       "  </thead>\n",
       "  <tbody>\n",
       "    <tr>\n",
       "      <th>0</th>\n",
       "      <td>Sad</td>\n",
       "      <td>10000</td>\n",
       "    </tr>\n",
       "    <tr>\n",
       "      <th>1</th>\n",
       "      <td>Happiness</td>\n",
       "      <td>10000</td>\n",
       "    </tr>\n",
       "    <tr>\n",
       "      <th>2</th>\n",
       "      <td>Angry</td>\n",
       "      <td>10000</td>\n",
       "    </tr>\n",
       "    <tr>\n",
       "      <th>3</th>\n",
       "      <td>Surprise</td>\n",
       "      <td>10000</td>\n",
       "    </tr>\n",
       "    <tr>\n",
       "      <th>4</th>\n",
       "      <td>Fear</td>\n",
       "      <td>10000</td>\n",
       "    </tr>\n",
       "    <tr>\n",
       "      <th>5</th>\n",
       "      <td>Calm</td>\n",
       "      <td>10000</td>\n",
       "    </tr>\n",
       "  </tbody>\n",
       "</table>\n",
       "</div>"
      ],
      "text/plain": [
       "     emotion  count\n",
       "0        Sad  10000\n",
       "1  Happiness  10000\n",
       "2      Angry  10000\n",
       "3   Surprise  10000\n",
       "4       Fear  10000\n",
       "5       Calm  10000"
      ]
     },
     "execution_count": 47,
     "metadata": {},
     "output_type": "execute_result"
    }
   ],
   "source": [
    "# 타겟 데이터 개수 확인\n",
    "label_counts = labeling_df.emotion.value_counts().reset_index()\n",
    "label_counts"
   ]
  },
  {
   "cell_type": "code",
   "execution_count": 48,
   "id": "58e4a3a7-ffca-4b73-b0e1-3e7a48c36133",
   "metadata": {},
   "outputs": [
    {
     "data": {
      "image/png": "[encoded data removed]",
      "text/plain": [
       "<Figure size 2000x600 with 1 Axes>"
      ]
     },
     "metadata": {},
     "output_type": "display_data"
    }
   ],
   "source": [
    "# 타겟 데이터 분포 확인\n",
    "\n",
    "# 부채꼴 스타일\n",
    "wedgeprops = {'width': 0.7, 'edgecolor': 'w', 'linewidth': 1}\n",
    "\n",
    "counts = label_counts['count']\n",
    "labels = label_counts['emotion']\n",
    "\n",
    "# 그래프 크기 설정\n",
    "plt.figure(figsize=(20, 6))\n",
    "\n",
    "# 그래프 그리기\n",
    "plt.pie(counts, labels=labels, colors=outer_colors, autopct='%1.1f%%', startangle=90, wedgeprops=wedgeprops)\n",
    "plt.title('타겟 데이터 분포')\n",
    "\n",
    "# 범례를 그래프 오른쪽에 배치\n",
    "plt.legend(bbox_to_anchor=(1.05, 1), loc='upper left')\n",
    "\n",
    "plt.tight_layout()\n",
    "plt.show()"
   ]
  },
  {
   "cell_type": "markdown",
   "id": "5bf8ceb1-968e-4404-bbdb-216ec52d1a8f",
   "metadata": {},
   "source": [
    "## 2. 음성 데이터 분석"
   ]
  },
  {
   "cell_type": "code",
   "execution_count": 49,
   "id": "09219e42-e865-4e2b-961f-a05fd4267322",
   "metadata": {},
   "outputs": [],
   "source": [
    "import librosa\n",
    "import librosa.display"
   ]
  },
  {
   "cell_type": "code",
   "execution_count": 50,
   "id": "1fb149ce-90b3-47ef-afa7-0a48ecf490b9",
   "metadata": {},
   "outputs": [],
   "source": [
    "# # 발화 시간을 저장할 리스트\n",
    "# durations = []\n",
    "\n",
    "# for index, row in labeling_df.iterrows():\n",
    "#     y, sr = librosa.load(row['file_path'])\n",
    "#     duration = librosa.get_duration(y=y, sr=sr)\n",
    "#     durations.append(duration)\n",
    "\n",
    "# # 발화 시간 분포 시각화\n",
    "# plt.figure(figsize=(10, 6))\n",
    "\n",
    "# plt.hist(durations, colors=outer_colors[0], bins=30, edgecolor='black')\n",
    "# plt.title(\"Distribution of Speech Durations\")\n",
    "# plt.xlabel(\"Duration (seconds)\")\n",
    "# plt.ylabel(\"Frequency\")\n",
    "# plt.show()"
   ]
  },
  {
   "cell_type": "code",
   "execution_count": 51,
   "id": "e0c769c4-3c71-4aa3-93c4-daad86667a44",
   "metadata": {
    "scrolled": true
   },
   "outputs": [],
   "source": [
    "# for index, row in random_sad.iterrows():\n",
    "#     # file_path에 해당하는 blob 객체 생성\n",
    "#     blob = bucket.blob(row['file_path'])\n",
    "\n",
    "#     # 음성 파일 메모리에 로드\n",
    "#     data = blob.download_as_bytes()\n",
    "\n",
    "#     # 메모리에서 직접 로드하여 librosa로 처리\n",
    "#     with BytesIO(data) as audio_file:\n",
    "#         y, sr = librosa.load(audio_file)\n",
    "\n",
    "\n",
    "#     # 파형 그래프 그리기\n",
    "#     plt.figure(figsize=(10, 4))\n",
    "#     librosa.display.waveshow(y, sr=sr)\n",
    "#     plt.title(f\"{row['file_path']}\")\n",
    "#     plt.show()"
   ]
  },
  {
   "cell_type": "code",
   "execution_count": 52,
   "id": "3223d673-1cf3-47aa-a9ea-07cb0c466eb1",
   "metadata": {},
   "outputs": [],
   "source": [
    "# import librosa\n",
    "# import matplotlib.pyplot as plt\n",
    "\n",
    "# # 마운트된 GCS 파일 경로를 바로 사용\n",
    "# file_path = '/mnt/gcs-bucket/data/F2001/F2001_000001.wav'\n",
    "# y, sr = librosa.load(file_path)\n",
    "\n",
    "# # 파형 그래프 그리기\n",
    "# plt.figure(figsize=(10, 4))\n",
    "# librosa.display.waveshow(y, sr=sr)\n",
    "# plt.title(\"Waveform\")\n",
    "# plt.show()"
   ]
  },
  {
   "cell_type": "markdown",
   "id": "b568a3f9-8738-46f1-93ea-f60407418ad2",
   "metadata": {},
   "source": [
    "# 모델 훈련"
   ]
  },
  {
   "cell_type": "markdown",
   "id": "9cf282a0-5a11-4167-bf69-7536ab52eb29",
   "metadata": {},
   "source": [
    "## 1. 레이블 인코딩"
   ]
  },
  {
   "cell_type": "code",
   "execution_count": 53,
   "id": "2f29a1c8-fe15-46ff-9dd1-95f732251130",
   "metadata": {},
   "outputs": [
    {
     "data": {
      "text/html": [
       "<div>\n",
       "<style scoped>\n",
       "    .dataframe tbody tr th:only-of-type {\n",
       "        vertical-align: middle;\n",
       "    }\n",
       "\n",
       "    .dataframe tbody tr th {\n",
       "        vertical-align: top;\n",
       "    }\n",
       "\n",
       "    .dataframe thead th {\n",
       "        text-align: right;\n",
       "    }\n",
       "</style>\n",
       "<table border=\"1\" class=\"dataframe\">\n",
       "  <thead>\n",
       "    <tr style=\"text-align: right;\">\n",
       "      <th></th>\n",
       "      <th>folder_name</th>\n",
       "      <th>file_name</th>\n",
       "      <th>file_path</th>\n",
       "      <th>gender</th>\n",
       "      <th>emotion</th>\n",
       "    </tr>\n",
       "  </thead>\n",
       "  <tbody>\n",
       "    <tr>\n",
       "      <th>0</th>\n",
       "      <td>F2001</td>\n",
       "      <td>F2001_000001.wav</td>\n",
       "      <td>/mnt/gcs-bucket/...</td>\n",
       "      <td>F</td>\n",
       "      <td>Sad</td>\n",
       "    </tr>\n",
       "    <tr>\n",
       "      <th>1</th>\n",
       "      <td>F2001</td>\n",
       "      <td>F2001_000002.wav</td>\n",
       "      <td>/mnt/gcs-bucket/...</td>\n",
       "      <td>F</td>\n",
       "      <td>Sad</td>\n",
       "    </tr>\n",
       "    <tr>\n",
       "      <th>2</th>\n",
       "      <td>F2001</td>\n",
       "      <td>F2001_000003.wav</td>\n",
       "      <td>/mnt/gcs-bucket/...</td>\n",
       "      <td>F</td>\n",
       "      <td>Sad</td>\n",
       "    </tr>\n",
       "    <tr>\n",
       "      <th>3</th>\n",
       "      <td>F2001</td>\n",
       "      <td>F2001_000004.wav</td>\n",
       "      <td>/mnt/gcs-bucket/...</td>\n",
       "      <td>F</td>\n",
       "      <td>Sad</td>\n",
       "    </tr>\n",
       "    <tr>\n",
       "      <th>4</th>\n",
       "      <td>F2001</td>\n",
       "      <td>F2001_000005.wav</td>\n",
       "      <td>/mnt/gcs-bucket/...</td>\n",
       "      <td>F</td>\n",
       "      <td>Sad</td>\n",
       "    </tr>\n",
       "    <tr>\n",
       "      <th>...</th>\n",
       "      <td>...</td>\n",
       "      <td>...</td>\n",
       "      <td>...</td>\n",
       "      <td>...</td>\n",
       "      <td>...</td>\n",
       "    </tr>\n",
       "    <tr>\n",
       "      <th>79995</th>\n",
       "      <td>M6003</td>\n",
       "      <td>M6003_000156.wav</td>\n",
       "      <td>/mnt/gcs-bucket/...</td>\n",
       "      <td>M</td>\n",
       "      <td>Calm</td>\n",
       "    </tr>\n",
       "    <tr>\n",
       "      <th>79996</th>\n",
       "      <td>M6003</td>\n",
       "      <td>M6003_000157.wav</td>\n",
       "      <td>/mnt/gcs-bucket/...</td>\n",
       "      <td>M</td>\n",
       "      <td>Calm</td>\n",
       "    </tr>\n",
       "    <tr>\n",
       "      <th>79997</th>\n",
       "      <td>M6003</td>\n",
       "      <td>M6003_000158.wav</td>\n",
       "      <td>/mnt/gcs-bucket/...</td>\n",
       "      <td>M</td>\n",
       "      <td>Calm</td>\n",
       "    </tr>\n",
       "    <tr>\n",
       "      <th>79998</th>\n",
       "      <td>M6003</td>\n",
       "      <td>M6003_000159.wav</td>\n",
       "      <td>/mnt/gcs-bucket/...</td>\n",
       "      <td>M</td>\n",
       "      <td>Calm</td>\n",
       "    </tr>\n",
       "    <tr>\n",
       "      <th>79999</th>\n",
       "      <td>M6003</td>\n",
       "      <td>M6003_000160.wav</td>\n",
       "      <td>/mnt/gcs-bucket/...</td>\n",
       "      <td>M</td>\n",
       "      <td>Calm</td>\n",
       "    </tr>\n",
       "  </tbody>\n",
       "</table>\n",
       "<p>60000 rows × 5 columns</p>\n",
       "</div>"
      ],
      "text/plain": [
       "      folder_name         file_name            file_path gender emotion\n",
       "0           F2001  F2001_000001.wav  /mnt/gcs-bucket/...      F     Sad\n",
       "1           F2001  F2001_000002.wav  /mnt/gcs-bucket/...      F     Sad\n",
       "2           F2001  F2001_000003.wav  /mnt/gcs-bucket/...      F     Sad\n",
       "3           F2001  F2001_000004.wav  /mnt/gcs-bucket/...      F     Sad\n",
       "4           F2001  F2001_000005.wav  /mnt/gcs-bucket/...      F     Sad\n",
       "...           ...               ...                  ...    ...     ...\n",
       "79995       M6003  M6003_000156.wav  /mnt/gcs-bucket/...      M    Calm\n",
       "79996       M6003  M6003_000157.wav  /mnt/gcs-bucket/...      M    Calm\n",
       "79997       M6003  M6003_000158.wav  /mnt/gcs-bucket/...      M    Calm\n",
       "79998       M6003  M6003_000159.wav  /mnt/gcs-bucket/...      M    Calm\n",
       "79999       M6003  M6003_000160.wav  /mnt/gcs-bucket/...      M    Calm\n",
       "\n",
       "[60000 rows x 5 columns]"
      ]
     },
     "execution_count": 53,
     "metadata": {},
     "output_type": "execute_result"
    }
   ],
   "source": [
    "labeling_label_df = labeling_df.copy()\n",
    "labeling_label_df"
   ]
  },
  {
   "cell_type": "markdown",
   "id": "01ea0b8e-efc6-47f1-8e76-eff99ad24848",
   "metadata": {},
   "source": [
    "### ○ gender"
   ]
  },
  {
   "cell_type": "code",
   "execution_count": 54,
   "id": "27ff64d5-46d4-4be9-8b1c-13454d9953f9",
   "metadata": {},
   "outputs": [],
   "source": [
    "# gender 컬럼에서 고유 감정 레이블 추출\n",
    "unique_gender = labeling_label_df['gender'].unique()"
   ]
  },
  {
   "cell_type": "code",
   "execution_count": 55,
   "id": "e1c20376-f6d6-4b2c-9a61-85aee5ef1cf1",
   "metadata": {},
   "outputs": [
    {
     "data": {
      "text/plain": [
       "array(['F', 'M'], dtype=object)"
      ]
     },
     "execution_count": 55,
     "metadata": {},
     "output_type": "execute_result"
    }
   ],
   "source": [
    "unique_gender"
   ]
  },
  {
   "cell_type": "code",
   "execution_count": 56,
   "id": "43cc7051-f3d4-455c-87a8-e9e0f4a460cd",
   "metadata": {},
   "outputs": [],
   "source": [
    "# 레이블과 숫자를 매핑하는 딕셔너리 생성\n",
    "gen_label2id = {gender: idx for idx, gender in enumerate(unique_gender)}\n",
    "gen_id2label = {idx: gender for idx, gender in enumerate(unique_gender)}"
   ]
  },
  {
   "cell_type": "code",
   "execution_count": 57,
   "id": "33f35cf8-38c7-4474-aa62-47c43bd6f1d8",
   "metadata": {},
   "outputs": [
    {
     "data": {
      "text/plain": [
       "{0: 'F', 1: 'M'}"
      ]
     },
     "execution_count": 57,
     "metadata": {},
     "output_type": "execute_result"
    }
   ],
   "source": [
    "gen_id2label"
   ]
  },
  {
   "cell_type": "code",
   "execution_count": 58,
   "id": "6d7c1db1-6018-497f-b2a4-78a75e24fd9e",
   "metadata": {},
   "outputs": [],
   "source": [
    "# gender 컬럼을 숫자로 변환 (벡터로 매핑)\n",
    "labeling_label_df['gender'] = labeling_label_df['gender'].map(gen_label2id)"
   ]
  },
  {
   "cell_type": "markdown",
   "id": "513b6d37-8329-4a93-8f17-5757d3c75fea",
   "metadata": {},
   "source": [
    "### ○ emotion"
   ]
  },
  {
   "cell_type": "code",
   "execution_count": 59,
   "id": "823b9e98-9b31-42df-ba87-42ef23de49a4",
   "metadata": {},
   "outputs": [],
   "source": [
    "# emotion 컬럼에서 고유 감정 레이블 추출\n",
    "unique_emotions = labeling_label_df['emotion'].unique()"
   ]
  },
  {
   "cell_type": "code",
   "execution_count": 60,
   "id": "561f9cdc-4798-44e3-ac91-eabb960aa091",
   "metadata": {},
   "outputs": [
    {
     "data": {
      "text/plain": [
       "array(['Sad', 'Happiness', 'Angry', 'Surprise', 'Fear', 'Calm'],\n",
       "      dtype=object)"
      ]
     },
     "execution_count": 60,
     "metadata": {},
     "output_type": "execute_result"
    }
   ],
   "source": [
    "unique_emotions"
   ]
  },
  {
   "cell_type": "code",
   "execution_count": 61,
   "id": "6573d57d-157b-456a-8a12-32f5e3739254",
   "metadata": {},
   "outputs": [],
   "source": [
    "# 레이블과 숫자를 매핑하는 딕셔너리 생성\n",
    "emo_label2id = {emotion: idx for idx, emotion in enumerate(unique_emotions)}\n",
    "emo_id2label = {idx: emotion for idx, emotion in enumerate(unique_emotions)}"
   ]
  },
  {
   "cell_type": "code",
   "execution_count": 62,
   "id": "330df4f4-87a2-4958-865e-d58a155e79f7",
   "metadata": {},
   "outputs": [
    {
     "data": {
      "text/plain": [
       "{0: 'Sad', 1: 'Happiness', 2: 'Angry', 3: 'Surprise', 4: 'Fear', 5: 'Calm'}"
      ]
     },
     "execution_count": 62,
     "metadata": {},
     "output_type": "execute_result"
    }
   ],
   "source": [
    "emo_id2label"
   ]
  },
  {
   "cell_type": "code",
   "execution_count": 63,
   "id": "5b669486-c6f2-427a-939d-da18420eeb22",
   "metadata": {},
   "outputs": [],
   "source": [
    "# emotion 컬럼을 숫자로 변환 (벡터로 매핑)\n",
    "labeling_label_df['emotion'] = labeling_label_df['emotion'].map(emo_label2id)"
   ]
  },
  {
   "cell_type": "code",
   "execution_count": 64,
   "id": "c7e83d57-7de0-4abe-ad7c-583ec22d5061",
   "metadata": {},
   "outputs": [
    {
     "data": {
      "text/html": [
       "<div>\n",
       "<style scoped>\n",
       "    .dataframe tbody tr th:only-of-type {\n",
       "        vertical-align: middle;\n",
       "    }\n",
       "\n",
       "    .dataframe tbody tr th {\n",
       "        vertical-align: top;\n",
       "    }\n",
       "\n",
       "    .dataframe thead th {\n",
       "        text-align: right;\n",
       "    }\n",
       "</style>\n",
       "<table border=\"1\" class=\"dataframe\">\n",
       "  <thead>\n",
       "    <tr style=\"text-align: right;\">\n",
       "      <th></th>\n",
       "      <th>folder_name</th>\n",
       "      <th>file_name</th>\n",
       "      <th>file_path</th>\n",
       "      <th>gender</th>\n",
       "      <th>emotion</th>\n",
       "    </tr>\n",
       "  </thead>\n",
       "  <tbody>\n",
       "    <tr>\n",
       "      <th>0</th>\n",
       "      <td>F2001</td>\n",
       "      <td>F2001_000001.wav</td>\n",
       "      <td>/mnt/gcs-bucket/...</td>\n",
       "      <td>0</td>\n",
       "      <td>0</td>\n",
       "    </tr>\n",
       "    <tr>\n",
       "      <th>1</th>\n",
       "      <td>F2001</td>\n",
       "      <td>F2001_000002.wav</td>\n",
       "      <td>/mnt/gcs-bucket/...</td>\n",
       "      <td>0</td>\n",
       "      <td>0</td>\n",
       "    </tr>\n",
       "    <tr>\n",
       "      <th>2</th>\n",
       "      <td>F2001</td>\n",
       "      <td>F2001_000003.wav</td>\n",
       "      <td>/mnt/gcs-bucket/...</td>\n",
       "      <td>0</td>\n",
       "      <td>0</td>\n",
       "    </tr>\n",
       "    <tr>\n",
       "      <th>3</th>\n",
       "      <td>F2001</td>\n",
       "      <td>F2001_000004.wav</td>\n",
       "      <td>/mnt/gcs-bucket/...</td>\n",
       "      <td>0</td>\n",
       "      <td>0</td>\n",
       "    </tr>\n",
       "    <tr>\n",
       "      <th>4</th>\n",
       "      <td>F2001</td>\n",
       "      <td>F2001_000005.wav</td>\n",
       "      <td>/mnt/gcs-bucket/...</td>\n",
       "      <td>0</td>\n",
       "      <td>0</td>\n",
       "    </tr>\n",
       "    <tr>\n",
       "      <th>...</th>\n",
       "      <td>...</td>\n",
       "      <td>...</td>\n",
       "      <td>...</td>\n",
       "      <td>...</td>\n",
       "      <td>...</td>\n",
       "    </tr>\n",
       "    <tr>\n",
       "      <th>79995</th>\n",
       "      <td>M6003</td>\n",
       "      <td>M6003_000156.wav</td>\n",
       "      <td>/mnt/gcs-bucket/...</td>\n",
       "      <td>1</td>\n",
       "      <td>5</td>\n",
       "    </tr>\n",
       "    <tr>\n",
       "      <th>79996</th>\n",
       "      <td>M6003</td>\n",
       "      <td>M6003_000157.wav</td>\n",
       "      <td>/mnt/gcs-bucket/...</td>\n",
       "      <td>1</td>\n",
       "      <td>5</td>\n",
       "    </tr>\n",
       "    <tr>\n",
       "      <th>79997</th>\n",
       "      <td>M6003</td>\n",
       "      <td>M6003_000158.wav</td>\n",
       "      <td>/mnt/gcs-bucket/...</td>\n",
       "      <td>1</td>\n",
       "      <td>5</td>\n",
       "    </tr>\n",
       "    <tr>\n",
       "      <th>79998</th>\n",
       "      <td>M6003</td>\n",
       "      <td>M6003_000159.wav</td>\n",
       "      <td>/mnt/gcs-bucket/...</td>\n",
       "      <td>1</td>\n",
       "      <td>5</td>\n",
       "    </tr>\n",
       "    <tr>\n",
       "      <th>79999</th>\n",
       "      <td>M6003</td>\n",
       "      <td>M6003_000160.wav</td>\n",
       "      <td>/mnt/gcs-bucket/...</td>\n",
       "      <td>1</td>\n",
       "      <td>5</td>\n",
       "    </tr>\n",
       "  </tbody>\n",
       "</table>\n",
       "<p>60000 rows × 5 columns</p>\n",
       "</div>"
      ],
      "text/plain": [
       "      folder_name         file_name            file_path  gender  emotion\n",
       "0           F2001  F2001_000001.wav  /mnt/gcs-bucket/...       0        0\n",
       "1           F2001  F2001_000002.wav  /mnt/gcs-bucket/...       0        0\n",
       "2           F2001  F2001_000003.wav  /mnt/gcs-bucket/...       0        0\n",
       "3           F2001  F2001_000004.wav  /mnt/gcs-bucket/...       0        0\n",
       "4           F2001  F2001_000005.wav  /mnt/gcs-bucket/...       0        0\n",
       "...           ...               ...                  ...     ...      ...\n",
       "79995       M6003  M6003_000156.wav  /mnt/gcs-bucket/...       1        5\n",
       "79996       M6003  M6003_000157.wav  /mnt/gcs-bucket/...       1        5\n",
       "79997       M6003  M6003_000158.wav  /mnt/gcs-bucket/...       1        5\n",
       "79998       M6003  M6003_000159.wav  /mnt/gcs-bucket/...       1        5\n",
       "79999       M6003  M6003_000160.wav  /mnt/gcs-bucket/...       1        5\n",
       "\n",
       "[60000 rows x 5 columns]"
      ]
     },
     "execution_count": 64,
     "metadata": {},
     "output_type": "execute_result"
    }
   ],
   "source": [
    "labeling_label_df"
   ]
  },
  {
   "cell_type": "code",
   "execution_count": 65,
   "id": "8b9df2da-3562-4385-bb4f-4ce78be395aa",
   "metadata": {},
   "outputs": [
    {
     "data": {
      "text/html": [
       "<div>\n",
       "<style scoped>\n",
       "    .dataframe tbody tr th:only-of-type {\n",
       "        vertical-align: middle;\n",
       "    }\n",
       "\n",
       "    .dataframe tbody tr th {\n",
       "        vertical-align: top;\n",
       "    }\n",
       "\n",
       "    .dataframe thead th {\n",
       "        text-align: right;\n",
       "    }\n",
       "</style>\n",
       "<table border=\"1\" class=\"dataframe\">\n",
       "  <thead>\n",
       "    <tr style=\"text-align: right;\">\n",
       "      <th></th>\n",
       "      <th>file_path</th>\n",
       "      <th>gender</th>\n",
       "      <th>emotion</th>\n",
       "    </tr>\n",
       "  </thead>\n",
       "  <tbody>\n",
       "    <tr>\n",
       "      <th>0</th>\n",
       "      <td>/mnt/gcs-bucket/...</td>\n",
       "      <td>0</td>\n",
       "      <td>0</td>\n",
       "    </tr>\n",
       "    <tr>\n",
       "      <th>1</th>\n",
       "      <td>/mnt/gcs-bucket/...</td>\n",
       "      <td>0</td>\n",
       "      <td>0</td>\n",
       "    </tr>\n",
       "    <tr>\n",
       "      <th>2</th>\n",
       "      <td>/mnt/gcs-bucket/...</td>\n",
       "      <td>0</td>\n",
       "      <td>0</td>\n",
       "    </tr>\n",
       "    <tr>\n",
       "      <th>3</th>\n",
       "      <td>/mnt/gcs-bucket/...</td>\n",
       "      <td>0</td>\n",
       "      <td>0</td>\n",
       "    </tr>\n",
       "    <tr>\n",
       "      <th>4</th>\n",
       "      <td>/mnt/gcs-bucket/...</td>\n",
       "      <td>0</td>\n",
       "      <td>0</td>\n",
       "    </tr>\n",
       "    <tr>\n",
       "      <th>...</th>\n",
       "      <td>...</td>\n",
       "      <td>...</td>\n",
       "      <td>...</td>\n",
       "    </tr>\n",
       "    <tr>\n",
       "      <th>79995</th>\n",
       "      <td>/mnt/gcs-bucket/...</td>\n",
       "      <td>1</td>\n",
       "      <td>5</td>\n",
       "    </tr>\n",
       "    <tr>\n",
       "      <th>79996</th>\n",
       "      <td>/mnt/gcs-bucket/...</td>\n",
       "      <td>1</td>\n",
       "      <td>5</td>\n",
       "    </tr>\n",
       "    <tr>\n",
       "      <th>79997</th>\n",
       "      <td>/mnt/gcs-bucket/...</td>\n",
       "      <td>1</td>\n",
       "      <td>5</td>\n",
       "    </tr>\n",
       "    <tr>\n",
       "      <th>79998</th>\n",
       "      <td>/mnt/gcs-bucket/...</td>\n",
       "      <td>1</td>\n",
       "      <td>5</td>\n",
       "    </tr>\n",
       "    <tr>\n",
       "      <th>79999</th>\n",
       "      <td>/mnt/gcs-bucket/...</td>\n",
       "      <td>1</td>\n",
       "      <td>5</td>\n",
       "    </tr>\n",
       "  </tbody>\n",
       "</table>\n",
       "<p>60000 rows × 3 columns</p>\n",
       "</div>"
      ],
      "text/plain": [
       "                 file_path  gender  emotion\n",
       "0      /mnt/gcs-bucket/...       0        0\n",
       "1      /mnt/gcs-bucket/...       0        0\n",
       "2      /mnt/gcs-bucket/...       0        0\n",
       "3      /mnt/gcs-bucket/...       0        0\n",
       "4      /mnt/gcs-bucket/...       0        0\n",
       "...                    ...     ...      ...\n",
       "79995  /mnt/gcs-bucket/...       1        5\n",
       "79996  /mnt/gcs-bucket/...       1        5\n",
       "79997  /mnt/gcs-bucket/...       1        5\n",
       "79998  /mnt/gcs-bucket/...       1        5\n",
       "79999  /mnt/gcs-bucket/...       1        5\n",
       "\n",
       "[60000 rows x 3 columns]"
      ]
     },
     "execution_count": 65,
     "metadata": {},
     "output_type": "execute_result"
    }
   ],
   "source": [
    "labeling_label_df = labeling_label_df[['file_path', 'gender', 'emotion']]\n",
    "labeling_label_df"
   ]
  },
  {
   "cell_type": "markdown",
   "id": "a7f5c568-dda7-438d-a256-cfdb05de16ba",
   "metadata": {},
   "source": [
    "## 2. 데이터 분리"
   ]
  },
  {
   "cell_type": "code",
   "execution_count": 66,
   "id": "d3aa6849-d598-440c-a7b5-eebb91c245bc",
   "metadata": {},
   "outputs": [],
   "source": [
    "# from sklearn.model_selection import train_test_split"
   ]
  },
  {
   "cell_type": "code",
   "execution_count": 67,
   "id": "32f3aa54-6367-4bdc-9e67-8436ab7dc6f8",
   "metadata": {},
   "outputs": [],
   "source": [
    "# # 훈련/테스트 데이터 분리\n",
    "# train_co_df, test_df = \\\n",
    "# train_test_split(labeling_label_df, test_size=0.2, stratify=labeling_label_df['emotion'], random_state=42)\n",
    "\n",
    "# # 훈련/검증 데이터 분리\n",
    "# train_df, val_df = \\\n",
    "# train_test_split(train_co_df, test_size=0.2, stratify=train_co_df['emotion'], random_state=42)\n",
    "\n",
    "# # stratify=labeling_label_df['emotion'] : emotion 기준으로 각 데이터 셋에 고르게 분포"
   ]
  },
  {
   "cell_type": "code",
   "execution_count": 68,
   "id": "b7db3a86-831a-4fbb-9ce5-111ee7b2c847",
   "metadata": {},
   "outputs": [],
   "source": [
    "# train_df.to_csv('./data/csv/train_df.csv', index=True, encoding='utf-8')\n",
    "# val_df.to_csv('./data/csv/val_df.csv', index=True, encoding='utf-8')\n",
    "# test_df.to_csv('./data/csv/test_df.csv', index=True, encoding='utf-8')"
   ]
  },
  {
   "cell_type": "code",
   "execution_count": 69,
   "id": "49905c0f-efab-42ff-994c-6aae70584f00",
   "metadata": {},
   "outputs": [],
   "source": [
    "train_df = pd.read_csv('./data/csv/train_df.csv', encoding='utf-8', index_col=0)\n",
    "val_df = pd.read_csv('./data/csv/val_df.csv', encoding='utf-8', index_col=0)\n",
    "test_df = pd.read_csv('./data/csv/test_df.csv', encoding='utf-8', index_col=0)"
   ]
  },
  {
   "cell_type": "code",
   "execution_count": 70,
   "id": "b7593166-6c2a-431b-8866-0ce8fc3f7bf8",
   "metadata": {},
   "outputs": [
    {
     "data": {
      "text/html": [
       "<div>\n",
       "<style scoped>\n",
       "    .dataframe tbody tr th:only-of-type {\n",
       "        vertical-align: middle;\n",
       "    }\n",
       "\n",
       "    .dataframe tbody tr th {\n",
       "        vertical-align: top;\n",
       "    }\n",
       "\n",
       "    .dataframe thead th {\n",
       "        text-align: right;\n",
       "    }\n",
       "</style>\n",
       "<table border=\"1\" class=\"dataframe\">\n",
       "  <thead>\n",
       "    <tr style=\"text-align: right;\">\n",
       "      <th></th>\n",
       "      <th>file_path</th>\n",
       "      <th>gender</th>\n",
       "      <th>emotion</th>\n",
       "    </tr>\n",
       "  </thead>\n",
       "  <tbody>\n",
       "    <tr>\n",
       "      <th>49636</th>\n",
       "      <td>/mnt/gcs-bucket/...</td>\n",
       "      <td>1</td>\n",
       "      <td>1</td>\n",
       "    </tr>\n",
       "    <tr>\n",
       "      <th>24108</th>\n",
       "      <td>/mnt/gcs-bucket/...</td>\n",
       "      <td>0</td>\n",
       "      <td>4</td>\n",
       "    </tr>\n",
       "    <tr>\n",
       "      <th>27702</th>\n",
       "      <td>/mnt/gcs-bucket/...</td>\n",
       "      <td>0</td>\n",
       "      <td>0</td>\n",
       "    </tr>\n",
       "    <tr>\n",
       "      <th>36984</th>\n",
       "      <td>/mnt/gcs-bucket/...</td>\n",
       "      <td>0</td>\n",
       "      <td>0</td>\n",
       "    </tr>\n",
       "    <tr>\n",
       "      <th>55404</th>\n",
       "      <td>/mnt/gcs-bucket/...</td>\n",
       "      <td>1</td>\n",
       "      <td>2</td>\n",
       "    </tr>\n",
       "    <tr>\n",
       "      <th>...</th>\n",
       "      <td>...</td>\n",
       "      <td>...</td>\n",
       "      <td>...</td>\n",
       "    </tr>\n",
       "    <tr>\n",
       "      <th>21193</th>\n",
       "      <td>/mnt/gcs-bucket/...</td>\n",
       "      <td>0</td>\n",
       "      <td>3</td>\n",
       "    </tr>\n",
       "    <tr>\n",
       "      <th>36126</th>\n",
       "      <td>/mnt/gcs-bucket/...</td>\n",
       "      <td>0</td>\n",
       "      <td>3</td>\n",
       "    </tr>\n",
       "    <tr>\n",
       "      <th>53100</th>\n",
       "      <td>/mnt/gcs-bucket/...</td>\n",
       "      <td>1</td>\n",
       "      <td>5</td>\n",
       "    </tr>\n",
       "    <tr>\n",
       "      <th>4269</th>\n",
       "      <td>/mnt/gcs-bucket/...</td>\n",
       "      <td>0</td>\n",
       "      <td>4</td>\n",
       "    </tr>\n",
       "    <tr>\n",
       "      <th>9853</th>\n",
       "      <td>/mnt/gcs-bucket/...</td>\n",
       "      <td>0</td>\n",
       "      <td>4</td>\n",
       "    </tr>\n",
       "  </tbody>\n",
       "</table>\n",
       "<p>38400 rows × 3 columns</p>\n",
       "</div>"
      ],
      "text/plain": [
       "                 file_path  gender  emotion\n",
       "49636  /mnt/gcs-bucket/...       1        1\n",
       "24108  /mnt/gcs-bucket/...       0        4\n",
       "27702  /mnt/gcs-bucket/...       0        0\n",
       "36984  /mnt/gcs-bucket/...       0        0\n",
       "55404  /mnt/gcs-bucket/...       1        2\n",
       "...                    ...     ...      ...\n",
       "21193  /mnt/gcs-bucket/...       0        3\n",
       "36126  /mnt/gcs-bucket/...       0        3\n",
       "53100  /mnt/gcs-bucket/...       1        5\n",
       "4269   /mnt/gcs-bucket/...       0        4\n",
       "9853   /mnt/gcs-bucket/...       0        4\n",
       "\n",
       "[38400 rows x 3 columns]"
      ]
     },
     "execution_count": 70,
     "metadata": {},
     "output_type": "execute_result"
    }
   ],
   "source": [
    "train_df"
   ]
  },
  {
   "cell_type": "code",
   "execution_count": 71,
   "id": "e3d532e3-6d43-4622-ac9e-2c45d754a3f9",
   "metadata": {},
   "outputs": [
    {
     "data": {
      "text/html": [
       "<div>\n",
       "<style scoped>\n",
       "    .dataframe tbody tr th:only-of-type {\n",
       "        vertical-align: middle;\n",
       "    }\n",
       "\n",
       "    .dataframe tbody tr th {\n",
       "        vertical-align: top;\n",
       "    }\n",
       "\n",
       "    .dataframe thead th {\n",
       "        text-align: right;\n",
       "    }\n",
       "</style>\n",
       "<table border=\"1\" class=\"dataframe\">\n",
       "  <thead>\n",
       "    <tr style=\"text-align: right;\">\n",
       "      <th></th>\n",
       "      <th>file_path</th>\n",
       "      <th>gender</th>\n",
       "      <th>emotion</th>\n",
       "    </tr>\n",
       "  </thead>\n",
       "  <tbody>\n",
       "    <tr>\n",
       "      <th>29587</th>\n",
       "      <td>/mnt/gcs-bucket/...</td>\n",
       "      <td>0</td>\n",
       "      <td>5</td>\n",
       "    </tr>\n",
       "    <tr>\n",
       "      <th>72413</th>\n",
       "      <td>/mnt/gcs-bucket/...</td>\n",
       "      <td>1</td>\n",
       "      <td>4</td>\n",
       "    </tr>\n",
       "    <tr>\n",
       "      <th>5009</th>\n",
       "      <td>/mnt/gcs-bucket/...</td>\n",
       "      <td>0</td>\n",
       "      <td>2</td>\n",
       "    </tr>\n",
       "    <tr>\n",
       "      <th>66710</th>\n",
       "      <td>/mnt/gcs-bucket/...</td>\n",
       "      <td>1</td>\n",
       "      <td>5</td>\n",
       "    </tr>\n",
       "    <tr>\n",
       "      <th>27456</th>\n",
       "      <td>/mnt/gcs-bucket/...</td>\n",
       "      <td>0</td>\n",
       "      <td>4</td>\n",
       "    </tr>\n",
       "    <tr>\n",
       "      <th>...</th>\n",
       "      <td>...</td>\n",
       "      <td>...</td>\n",
       "      <td>...</td>\n",
       "    </tr>\n",
       "    <tr>\n",
       "      <th>36955</th>\n",
       "      <td>/mnt/gcs-bucket/...</td>\n",
       "      <td>0</td>\n",
       "      <td>5</td>\n",
       "    </tr>\n",
       "    <tr>\n",
       "      <th>71524</th>\n",
       "      <td>/mnt/gcs-bucket/...</td>\n",
       "      <td>1</td>\n",
       "      <td>0</td>\n",
       "    </tr>\n",
       "    <tr>\n",
       "      <th>13833</th>\n",
       "      <td>/mnt/gcs-bucket/...</td>\n",
       "      <td>0</td>\n",
       "      <td>3</td>\n",
       "    </tr>\n",
       "    <tr>\n",
       "      <th>5164</th>\n",
       "      <td>/mnt/gcs-bucket/...</td>\n",
       "      <td>0</td>\n",
       "      <td>2</td>\n",
       "    </tr>\n",
       "    <tr>\n",
       "      <th>9217</th>\n",
       "      <td>/mnt/gcs-bucket/...</td>\n",
       "      <td>0</td>\n",
       "      <td>4</td>\n",
       "    </tr>\n",
       "  </tbody>\n",
       "</table>\n",
       "<p>9600 rows × 3 columns</p>\n",
       "</div>"
      ],
      "text/plain": [
       "                 file_path  gender  emotion\n",
       "29587  /mnt/gcs-bucket/...       0        5\n",
       "72413  /mnt/gcs-bucket/...       1        4\n",
       "5009   /mnt/gcs-bucket/...       0        2\n",
       "66710  /mnt/gcs-bucket/...       1        5\n",
       "27456  /mnt/gcs-bucket/...       0        4\n",
       "...                    ...     ...      ...\n",
       "36955  /mnt/gcs-bucket/...       0        5\n",
       "71524  /mnt/gcs-bucket/...       1        0\n",
       "13833  /mnt/gcs-bucket/...       0        3\n",
       "5164   /mnt/gcs-bucket/...       0        2\n",
       "9217   /mnt/gcs-bucket/...       0        4\n",
       "\n",
       "[9600 rows x 3 columns]"
      ]
     },
     "execution_count": 71,
     "metadata": {},
     "output_type": "execute_result"
    }
   ],
   "source": [
    "val_df"
   ]
  },
  {
   "cell_type": "code",
   "execution_count": 72,
   "id": "1a5c68f6-3ff7-42f2-83bb-bbbc353aaec1",
   "metadata": {},
   "outputs": [
    {
     "data": {
      "text/html": [
       "<div>\n",
       "<style scoped>\n",
       "    .dataframe tbody tr th:only-of-type {\n",
       "        vertical-align: middle;\n",
       "    }\n",
       "\n",
       "    .dataframe tbody tr th {\n",
       "        vertical-align: top;\n",
       "    }\n",
       "\n",
       "    .dataframe thead th {\n",
       "        text-align: right;\n",
       "    }\n",
       "</style>\n",
       "<table border=\"1\" class=\"dataframe\">\n",
       "  <thead>\n",
       "    <tr style=\"text-align: right;\">\n",
       "      <th></th>\n",
       "      <th>file_path</th>\n",
       "      <th>gender</th>\n",
       "      <th>emotion</th>\n",
       "    </tr>\n",
       "  </thead>\n",
       "  <tbody>\n",
       "    <tr>\n",
       "      <th>52716</th>\n",
       "      <td>/mnt/gcs-bucket/...</td>\n",
       "      <td>1</td>\n",
       "      <td>3</td>\n",
       "    </tr>\n",
       "    <tr>\n",
       "      <th>75048</th>\n",
       "      <td>/mnt/gcs-bucket/...</td>\n",
       "      <td>1</td>\n",
       "      <td>0</td>\n",
       "    </tr>\n",
       "    <tr>\n",
       "      <th>49424</th>\n",
       "      <td>/mnt/gcs-bucket/...</td>\n",
       "      <td>1</td>\n",
       "      <td>5</td>\n",
       "    </tr>\n",
       "    <tr>\n",
       "      <th>57388</th>\n",
       "      <td>/mnt/gcs-bucket/...</td>\n",
       "      <td>1</td>\n",
       "      <td>4</td>\n",
       "    </tr>\n",
       "    <tr>\n",
       "      <th>16787</th>\n",
       "      <td>/mnt/gcs-bucket/...</td>\n",
       "      <td>0</td>\n",
       "      <td>5</td>\n",
       "    </tr>\n",
       "    <tr>\n",
       "      <th>...</th>\n",
       "      <td>...</td>\n",
       "      <td>...</td>\n",
       "      <td>...</td>\n",
       "    </tr>\n",
       "    <tr>\n",
       "      <th>60092</th>\n",
       "      <td>/mnt/gcs-bucket/...</td>\n",
       "      <td>1</td>\n",
       "      <td>4</td>\n",
       "    </tr>\n",
       "    <tr>\n",
       "      <th>40785</th>\n",
       "      <td>/mnt/gcs-bucket/...</td>\n",
       "      <td>1</td>\n",
       "      <td>5</td>\n",
       "    </tr>\n",
       "    <tr>\n",
       "      <th>5315</th>\n",
       "      <td>/mnt/gcs-bucket/...</td>\n",
       "      <td>0</td>\n",
       "      <td>1</td>\n",
       "    </tr>\n",
       "    <tr>\n",
       "      <th>77723</th>\n",
       "      <td>/mnt/gcs-bucket/...</td>\n",
       "      <td>1</td>\n",
       "      <td>3</td>\n",
       "    </tr>\n",
       "    <tr>\n",
       "      <th>25013</th>\n",
       "      <td>/mnt/gcs-bucket/...</td>\n",
       "      <td>0</td>\n",
       "      <td>2</td>\n",
       "    </tr>\n",
       "  </tbody>\n",
       "</table>\n",
       "<p>12000 rows × 3 columns</p>\n",
       "</div>"
      ],
      "text/plain": [
       "                 file_path  gender  emotion\n",
       "52716  /mnt/gcs-bucket/...       1        3\n",
       "75048  /mnt/gcs-bucket/...       1        0\n",
       "49424  /mnt/gcs-bucket/...       1        5\n",
       "57388  /mnt/gcs-bucket/...       1        4\n",
       "16787  /mnt/gcs-bucket/...       0        5\n",
       "...                    ...     ...      ...\n",
       "60092  /mnt/gcs-bucket/...       1        4\n",
       "40785  /mnt/gcs-bucket/...       1        5\n",
       "5315   /mnt/gcs-bucket/...       0        1\n",
       "77723  /mnt/gcs-bucket/...       1        3\n",
       "25013  /mnt/gcs-bucket/...       0        2\n",
       "\n",
       "[12000 rows x 3 columns]"
      ]
     },
     "execution_count": 72,
     "metadata": {},
     "output_type": "execute_result"
    }
   ],
   "source": [
    "test_df"
   ]
  },
  {
   "cell_type": "markdown",
   "id": "daab6e44-c8ee-456c-ba57-04a9f193fb17",
   "metadata": {},
   "source": [
    "### ○ 타겟 비중 확인"
   ]
  },
  {
   "cell_type": "code",
   "execution_count": 73,
   "id": "623822c6-4083-46b6-9875-9a0b89c0a7a0",
   "metadata": {},
   "outputs": [],
   "source": [
    "# 타겟 데이터 비중 확인\n",
    "train_target = train_df.emotion.value_counts().reset_index()\n",
    "validation_target = val_df.emotion.value_counts().reset_index()\n",
    "test_target = test_df.emotion.value_counts().reset_index()"
   ]
  },
  {
   "cell_type": "code",
   "execution_count": 74,
   "id": "84441f8b-9ff6-4359-8d78-b2ef379533f0",
   "metadata": {},
   "outputs": [
    {
     "data": {
      "text/html": [
       "<div>\n",
       "<style scoped>\n",
       "    .dataframe tbody tr th:only-of-type {\n",
       "        vertical-align: middle;\n",
       "    }\n",
       "\n",
       "    .dataframe tbody tr th {\n",
       "        vertical-align: top;\n",
       "    }\n",
       "\n",
       "    .dataframe thead th {\n",
       "        text-align: right;\n",
       "    }\n",
       "</style>\n",
       "<table border=\"1\" class=\"dataframe\">\n",
       "  <thead>\n",
       "    <tr style=\"text-align: right;\">\n",
       "      <th></th>\n",
       "      <th>emotion</th>\n",
       "      <th>count</th>\n",
       "    </tr>\n",
       "  </thead>\n",
       "  <tbody>\n",
       "    <tr>\n",
       "      <th>0</th>\n",
       "      <td>1</td>\n",
       "      <td>6400</td>\n",
       "    </tr>\n",
       "    <tr>\n",
       "      <th>1</th>\n",
       "      <td>4</td>\n",
       "      <td>6400</td>\n",
       "    </tr>\n",
       "    <tr>\n",
       "      <th>2</th>\n",
       "      <td>0</td>\n",
       "      <td>6400</td>\n",
       "    </tr>\n",
       "    <tr>\n",
       "      <th>3</th>\n",
       "      <td>2</td>\n",
       "      <td>6400</td>\n",
       "    </tr>\n",
       "    <tr>\n",
       "      <th>4</th>\n",
       "      <td>3</td>\n",
       "      <td>6400</td>\n",
       "    </tr>\n",
       "    <tr>\n",
       "      <th>5</th>\n",
       "      <td>5</td>\n",
       "      <td>6400</td>\n",
       "    </tr>\n",
       "  </tbody>\n",
       "</table>\n",
       "</div>"
      ],
      "text/plain": [
       "   emotion  count\n",
       "0        1   6400\n",
       "1        4   6400\n",
       "2        0   6400\n",
       "3        2   6400\n",
       "4        3   6400\n",
       "5        5   6400"
      ]
     },
     "metadata": {},
     "output_type": "display_data"
    },
    {
     "data": {
      "text/html": [
       "<div>\n",
       "<style scoped>\n",
       "    .dataframe tbody tr th:only-of-type {\n",
       "        vertical-align: middle;\n",
       "    }\n",
       "\n",
       "    .dataframe tbody tr th {\n",
       "        vertical-align: top;\n",
       "    }\n",
       "\n",
       "    .dataframe thead th {\n",
       "        text-align: right;\n",
       "    }\n",
       "</style>\n",
       "<table border=\"1\" class=\"dataframe\">\n",
       "  <thead>\n",
       "    <tr style=\"text-align: right;\">\n",
       "      <th></th>\n",
       "      <th>emotion</th>\n",
       "      <th>count</th>\n",
       "    </tr>\n",
       "  </thead>\n",
       "  <tbody>\n",
       "    <tr>\n",
       "      <th>0</th>\n",
       "      <td>5</td>\n",
       "      <td>1600</td>\n",
       "    </tr>\n",
       "    <tr>\n",
       "      <th>1</th>\n",
       "      <td>4</td>\n",
       "      <td>1600</td>\n",
       "    </tr>\n",
       "    <tr>\n",
       "      <th>2</th>\n",
       "      <td>2</td>\n",
       "      <td>1600</td>\n",
       "    </tr>\n",
       "    <tr>\n",
       "      <th>3</th>\n",
       "      <td>0</td>\n",
       "      <td>1600</td>\n",
       "    </tr>\n",
       "    <tr>\n",
       "      <th>4</th>\n",
       "      <td>1</td>\n",
       "      <td>1600</td>\n",
       "    </tr>\n",
       "    <tr>\n",
       "      <th>5</th>\n",
       "      <td>3</td>\n",
       "      <td>1600</td>\n",
       "    </tr>\n",
       "  </tbody>\n",
       "</table>\n",
       "</div>"
      ],
      "text/plain": [
       "   emotion  count\n",
       "0        5   1600\n",
       "1        4   1600\n",
       "2        2   1600\n",
       "3        0   1600\n",
       "4        1   1600\n",
       "5        3   1600"
      ]
     },
     "metadata": {},
     "output_type": "display_data"
    },
    {
     "data": {
      "text/html": [
       "<div>\n",
       "<style scoped>\n",
       "    .dataframe tbody tr th:only-of-type {\n",
       "        vertical-align: middle;\n",
       "    }\n",
       "\n",
       "    .dataframe tbody tr th {\n",
       "        vertical-align: top;\n",
       "    }\n",
       "\n",
       "    .dataframe thead th {\n",
       "        text-align: right;\n",
       "    }\n",
       "</style>\n",
       "<table border=\"1\" class=\"dataframe\">\n",
       "  <thead>\n",
       "    <tr style=\"text-align: right;\">\n",
       "      <th></th>\n",
       "      <th>emotion</th>\n",
       "      <th>count</th>\n",
       "    </tr>\n",
       "  </thead>\n",
       "  <tbody>\n",
       "    <tr>\n",
       "      <th>0</th>\n",
       "      <td>3</td>\n",
       "      <td>2000</td>\n",
       "    </tr>\n",
       "    <tr>\n",
       "      <th>1</th>\n",
       "      <td>0</td>\n",
       "      <td>2000</td>\n",
       "    </tr>\n",
       "    <tr>\n",
       "      <th>2</th>\n",
       "      <td>5</td>\n",
       "      <td>2000</td>\n",
       "    </tr>\n",
       "    <tr>\n",
       "      <th>3</th>\n",
       "      <td>4</td>\n",
       "      <td>2000</td>\n",
       "    </tr>\n",
       "    <tr>\n",
       "      <th>4</th>\n",
       "      <td>1</td>\n",
       "      <td>2000</td>\n",
       "    </tr>\n",
       "    <tr>\n",
       "      <th>5</th>\n",
       "      <td>2</td>\n",
       "      <td>2000</td>\n",
       "    </tr>\n",
       "  </tbody>\n",
       "</table>\n",
       "</div>"
      ],
      "text/plain": [
       "   emotion  count\n",
       "0        3   2000\n",
       "1        0   2000\n",
       "2        5   2000\n",
       "3        4   2000\n",
       "4        1   2000\n",
       "5        2   2000"
      ]
     },
     "metadata": {},
     "output_type": "display_data"
    }
   ],
   "source": [
    "display(train_target)\n",
    "display(validation_target)\n",
    "display(test_target)"
   ]
  },
  {
   "cell_type": "markdown",
   "id": "51a8d2b5-ef52-43d0-bc9e-0ffc2d6ec430",
   "metadata": {},
   "source": [
    "## 3. 전처리 함수 정의"
   ]
  },
  {
   "cell_type": "markdown",
   "id": "5eb24822-0c72-473b-bd70-0ce41ce41360",
   "metadata": {},
   "source": [
    "### ○ dummy"
   ]
  },
  {
   "cell_type": "code",
   "execution_count": 75,
   "id": "805ff41d-617c-4c19-a3fc-3a8bba60a34b",
   "metadata": {},
   "outputs": [],
   "source": [
    "import soundfile as sf"
   ]
  },
  {
   "cell_type": "code",
   "execution_count": 76,
   "id": "d55add91-5146-48ea-8ded-cb1fe24bd86c",
   "metadata": {},
   "outputs": [],
   "source": [
    "# def preprocess_data(batch):\n",
    "#     # 음성 파일 읽기\n",
    "#     # batch(받아 올 데이터셋의 각 행)에 있는 file_path를 읽기\n",
    "#     # 'speech_array'에 오디오 데이터(음성 데이터를 샘플 단위로 저장),\n",
    "#     # 'sampling_rate'에 샘플링 레이트(초당 샘플 개수)를 저장\n",
    "#     speech_array, sampling_rate = sf.read(batch['file_path'])\n",
    "    \n",
    "#     # processor로 입력 값 처리\n",
    "#     inputs = processor(speech_array, sampling_rate=sampling_rate, return_tensors='pt', padding=True)\n",
    "\n",
    "#     # 타겟 레이블 변환 (emotion)\n",
    "#     batch[\"input_values\"] = inputs.input_values[0]\n",
    "#     batch[\"attention_mask\"] = inputs.attention_mask[0]\n",
    "#     batch[\"labels\"] = processor(text=batch[\"emotion\"], return_tensors=\"pt\").input_ids[0]\n",
    "    \n",
    "#     return batch"
   ]
  },
  {
   "cell_type": "markdown",
   "id": "4a55a463-9579-45f0-98dc-6e86755823da",
   "metadata": {},
   "source": [
    "#### ○ 트러블 슈팅\n",
    "- 입력 코드\n",
    "```\n",
    "def preprocess_data(batch):\n",
    "    # 음성 파일 읽기\n",
    "    speech_array, sampling_rate = sf.read(batch['file_path'])\n",
    "    # processor로 입력 값 처리\n",
    "    inputs = processor(speech_array, sampling_rate=sampling_rate, return_tensors='pt', padding=True)\n",
    "\n",
    "    # 타겟 레이블 변환 (emotion)\n",
    "    batch[\"input_values\"] = inputs.input_values[0]\n",
    "    batch[\"attention_mask\"] = inputs.attention_mask[0]\n",
    "    batch[\"labels\"] = processor(text=batch[\"emotion\"], return_tensors=\"pt\").input_ids[0]\n",
    "    \n",
    "    return batch\n",
    "```\n",
    "\n",
    "```\n",
    "train_dataset = Dataset.from_pandas(train_df).map(preprocess_data)\n",
    "val_dataset = Dataset.from_pandas(val_df).map(preprocess_data)\n",
    "test_dataset = Dataset.from_pandas(test_df).map(preprocess_data)\n",
    "```\n",
    "\n",
    "<br>\n",
    "\n",
    "- 오류 코드\n",
    "```\n",
    "ValueError: The model corresponding to this feature extractor: Wav2Vec2FeatureExtractor {\n",
    "  \"do_normalize\": true,\n",
    "  \"feature_extractor_type\": \"Wav2Vec2FeatureExtractor\",\n",
    "  \"feature_size\": 1,\n",
    "  \"padding_side\": \"right\",\n",
    "  \"padding_value\": 0.0,\n",
    "  \"return_attention_mask\": false,\n",
    "  \"sampling_rate\": 16000\n",
    "}\n",
    " was trained using a sampling rate of 16000. Please make sure that the provided `raw_speech` input was sampled with 16000 and not 44100.\n",
    "```\n",
    "\n",
    "<br>\n",
    "\n",
    "Wav2Vec2 모델이 16,000Hz로 샘플링된 오디오 데이터 사용  \n",
    "현재 오디오 파일 샘플링 레이트가 44,100Hz로 추정되며, librosa를 사용해 16,000Hz로 변환 필요"
   ]
  },
  {
   "cell_type": "code",
   "execution_count": 77,
   "id": "a270bfa7-0a18-4d48-87a6-125fd5eef9b3",
   "metadata": {},
   "outputs": [],
   "source": [
    "# !pip install librosa"
   ]
  },
  {
   "cell_type": "code",
   "execution_count": 78,
   "id": "5767cf5d-f88f-4e8b-a2b8-6146adc2ed6c",
   "metadata": {},
   "outputs": [],
   "source": [
    "import librosa"
   ]
  },
  {
   "cell_type": "code",
   "execution_count": 79,
   "id": "781a2690-2e7d-40fb-8f15-5c4810e97498",
   "metadata": {},
   "outputs": [],
   "source": [
    "# def preprocess_data(batch):\n",
    "#     # 파일 경로에서 오디오 데이터를 16,000Hz로 로드\n",
    "#     speech_array, sampling_rate = librosa.load(batch[\"file_path\"], sr=16000)\n",
    "    \n",
    "#     # processor로 입력값 처리\n",
    "#     inputs = processor(speech_array, sampling_rate=16000, return_tensors=\"pt\", padding=True)\n",
    "    \n",
    "#     # 타겟 레이블 변환 (emotion)\n",
    "#     batch[\"input_values\"] = inputs.input_values[0]\n",
    "#     batch[\"attention_mask\"] = inputs.attention_mask[0]\n",
    "#     batch[\"labels\"] = processor(text=batch[\"emotion\"], return_tensors=\"pt\").input_ids[0]\n",
    "    \n",
    "#     return batch"
   ]
  },
  {
   "cell_type": "markdown",
   "id": "8b947920-d186-4ec8-bc73-9b4d888881bc",
   "metadata": {},
   "source": [
    "#### ○ 트러블 슈팅\n",
    "- 입력 코드\n",
    "```\n",
    "def preprocess_data(batch):\n",
    "    # 파일 경로에서 오디오 데이터를 16,000Hz로 로드\n",
    "    speech_array, sampling_rate = librosa.load(batch[\"file_path\"], sr=16000)\n",
    "    \n",
    "    # processor로 입력값 처리\n",
    "    inputs = processor(speech_array, sampling_rate=16000, return_tensors=\"pt\", padding=True)\n",
    "    \n",
    "    # 타겟 레이블 변환 (emotion)\n",
    "    batch[\"input_values\"] = inputs.input_values[0]\n",
    "    batch[\"attention_mask\"] = inputs.attention_mask[0]\n",
    "    batch[\"labels\"] = processor(text=batch[\"emotion\"], return_tensors=\"pt\").input_ids[0]\n",
    "    \n",
    "    return batch\n",
    "```\n",
    "\n",
    "```\n",
    "train_dataset = Dataset.from_pandas(train_df).map(preprocess_data)\n",
    "val_dataset = Dataset.from_pandas(val_df).map(preprocess_data)\n",
    "test_dataset = Dataset.from_pandas(test_df).map(preprocess_data)\n",
    "```\n",
    "\n",
    "<br>\n",
    "\n",
    "- 오류 코드\n",
    "```\n",
    "KeyError: 'attention_mask'\n",
    "\n",
    "During handling of the above exception, another exception occurred:\n",
    "```\n",
    "\n",
    "<br>\n",
    "\n",
    "Wav2Vec2Processor의 일부 모델 설정에서 attention_mask가 기본적으로 포함되지 않기 때문에 발생  \n",
    "attention_mask가 없는 경우, 조건으로 확인하여 오류 피하기"
   ]
  },
  {
   "cell_type": "code",
   "execution_count": 80,
   "id": "9b7e9585-ca6b-4515-a52c-c5490c7fd430",
   "metadata": {},
   "outputs": [],
   "source": [
    "# def preprocess_data(batch):\n",
    "#     # 파일 경로에서 오디오 데이터를 16,000Hz로 로드\n",
    "#     speech_array, _ = librosa.load(batch[\"file_path\"], sr=16000)\n",
    "    \n",
    "#     # processor로 입력값 처리\n",
    "#     # 모델이 사용 가능한 형식으로 오디오 데이터 변환\n",
    "#     inputs = processor(speech_array, sampling_rate=16000, return_tensors=\"pt\", padding=True)\n",
    "    \n",
    "#     # input_values 추가\n",
    "#     batch[\"input_values\"] = inputs.input_values[0]\n",
    "    \n",
    "#     # attention_mask가 있을 경우 추가\n",
    "#     if \"attention_mask\" in inputs:\n",
    "#         batch[\"attention_mask\"] = inputs.attention_mask[0]\n",
    "    \n",
    "#     # 타겟 레이블 변환 (emotion)\n",
    "#     batch[\"labels\"] = processor(text=batch[\"emotion\"], return_tensors=\"pt\").input_ids[0]\n",
    "    \n",
    "#     return batch"
   ]
  },
  {
   "cell_type": "markdown",
   "id": "6839df4b-6cab-4df1-b9a8-f1e09d4b2be5",
   "metadata": {},
   "source": [
    "#### ○ 트러블 슈팅\n",
    "- 입력 코드\n",
    "```\n",
    "def preprocess_data(batch):\n",
    "    # 파일 경로에서 오디오 데이터를 16,000Hz로 로드\n",
    "    speech_array, _ = librosa.load(batch[\"file_path\"], sr=16000)\n",
    "    \n",
    "    # processor로 입력값 처리\n",
    "    # 모델이 사용 가능한 형식으로 오디오 데이터 변환\n",
    "    inputs = processor(speech_array, sampling_rate=16000, return_tensors=\"pt\", padding=True)\n",
    "    \n",
    "    # input_values 추가\n",
    "    batch[\"input_values\"] = inputs.input_values[0]\n",
    "    \n",
    "    # attention_mask가 있을 경우 추가\n",
    "    if \"attention_mask\" in inputs:\n",
    "        batch[\"attention_mask\"] = inputs.attention_mask[0]\n",
    "    \n",
    "    # 타겟 레이블 변환 (emotion)\n",
    "    batch[\"labels\"] = processor(text=batch[\"emotion\"], return_tensors=\"pt\").input_ids[0]\n",
    "    \n",
    "    return batch\n",
    "```\n",
    "\n",
    "```\n",
    "train_dataset = Dataset.from_pandas(train_df).map(preprocess_data)\n",
    "val_dataset = Dataset.from_pandas(val_df).map(preprocess_data)\n",
    "test_dataset = Dataset.from_pandas(test_df).map(preprocess_data)\n",
    "```\n",
    "\n",
    "<br>\n",
    "\n",
    "- 오류\n",
    "  \n",
    "<img src='https://github.com/user-attachments/assets/1467393c-da5d-4a35-b265-cadb569a433d' width='800'>\n",
    "\n",
    "<br>\n",
    "\n",
    "커널 다운 현상 발생 메모리 부족으로 판단됨,  \n",
    "batched=True 옵션을 사용하거나 로드 단계와 데이터 변환 단계를 분리하여 진행"
   ]
  },
  {
   "cell_type": "code",
   "execution_count": 81,
   "id": "18dfcae9-a4d2-43cf-81e8-0433b586ed53",
   "metadata": {},
   "outputs": [],
   "source": [
    "# def load_audio(batch):\n",
    "#     # 파일 경로에서 오디오 데이터를 16,000Hz로 로드\n",
    "#     speech_array, _ = librosa.load(batch[\"file_path\"], sr=16000)\n",
    "    \n",
    "#     # speech_array를 batch에 추가\n",
    "#     batch[\"speech_array\"] = speech_array\n",
    "    \n",
    "#     return batch"
   ]
  },
  {
   "cell_type": "markdown",
   "id": "69ca9884-741c-4234-a415-8b166acf5dc5",
   "metadata": {},
   "source": [
    "#### ○ 트러블 슈팅\n",
    "- 입력 코드\n",
    "```\n",
    "def load_audio(batch):\n",
    "    # 파일 경로에서 오디오 데이터를 16,000Hz로 로드\n",
    "    speech_array, _ = librosa.load(batch[\"file_path\"], sr=16000)\n",
    "    \n",
    "    # speech_array를 batch에 추가\n",
    "    batch[\"speech_array\"] = speech_array\n",
    "    \n",
    "    return batch\n",
    "```\n",
    "```\n",
    "# 데이터 프레임을 Hugging Face 데이터셋 형식으로 변환\n",
    "# .map(preprocess_data) : 데이터셋의 각 데이터 행에 대해 preprocess_data 함수 호출하여 데이터 전처리\n",
    "train_dataset = Dataset.from_pandas(train_df).map(load_audio, batched=True, batch_size=8)\n",
    "val_dataset = Dataset.from_pandas(val_df).map(load_audio, batched=True, batch_size=8)\n",
    "test_dataset = Dataset.from_pandas(test_df).map(load_audio, batched=True, batch_size=8)\n",
    "```\n",
    "\n",
    "<br>\n",
    "\n",
    "- 오류\n",
    "```\n",
    "TypeError: Invalid file: ['/mnt/gcs-bucket/data/F2011/F2011_000129.wav', '/mnt/gcs-bucket/data/F3014/F3014_000035.wav', '/mnt/gcs-bucket/data/M3055/M3055_000099.wav', '/mnt/gcs-bucket/data/M3005/M3005_000151.wav', '/mnt/gcs-bucket/data/M2003/M2003_000058.wav', '/mnt/gcs-bucket/data/F4003/F4003_000101.wav', '/mnt/gcs-bucket/data/M3015/M3015_000104.wav', '/mnt/gcs-bucket/data/M2012/M2012_000127.wav']\n",
    "```\n",
    "\n",
    "<br>\n",
    "\n",
    "`batched=True` 옵션을 추가하면서 문제 발생.  \n",
    "`batched=True` 사용 시 배치가 리스트 형태로 전달되어, file_path가 단일 값이 아닌 리스트로 넘어옴.  \n",
    "개별 처리가 가능하도록 개선.  \n",
    "\n",
    "librosa.load(file_path, sr=16000)는 두 개의 값을 반환하는데,  \n",
    "for 반복 문에서 리스트 형태로 받을 때,  \n",
    "반환 요소가 튜플로 처리 되므로 튜플 언패킹을 추가로 설정이 필요함."
   ]
  },
  {
   "cell_type": "code",
   "execution_count": 82,
   "id": "5aec094e-e924-4cbf-9d7c-aec379c0359f",
   "metadata": {},
   "outputs": [],
   "source": [
    "# def load_audio(batch):\n",
    "#     # 파일 경로에서 오디오 데이터를 16,000Hz로 로드\n",
    "#     loaded_audio  = [librosa.load(file_path, sr=16000) for file_path in batch[\"file_path\"]]\n",
    "            \n",
    "#     # 튜플 리스트에서 speech_array만 추출하여 batch에 추가\n",
    "#     batch[\"speech_array\"] = [audio[0] for audio in loaded_audio]\n",
    "    \n",
    "#     return batch"
   ]
  },
  {
   "cell_type": "code",
   "execution_count": 83,
   "id": "a19be9ae-dad7-461a-9d9e-709c900f83e1",
   "metadata": {},
   "outputs": [],
   "source": [
    "# def preprocess_data(batch):\n",
    "#     # load_audio에서 추가한 speech_array를 사용\n",
    "#     inputs = processor(\n",
    "#         batch[\"speech_array\"], \n",
    "#         sampling_rate=16000, \n",
    "#         return_tensors=\"pt\", \n",
    "#         padding=\"longest\",  # 가장 긴 샘플에 맞춰 패딩\n",
    "#         truncation=True,  # 트렁케이션 설정\n",
    "#         max_length=16000  # 적절한 max_length 설정\n",
    "#     )\n",
    "    \n",
    "#     batch[\"input_values\"] = inputs.input_values\n",
    "    \n",
    "#     if \"attention_mask\" in inputs:\n",
    "#         batch[\"attention_mask\"] = inputs.attention_mask\n",
    "        \n",
    "#     batch[\"labels\"] = processor(\n",
    "#         text=batch[\"emotion\"], \n",
    "#         return_tensors=\"pt\", \n",
    "#         padding=True, \n",
    "#         truncation=True, \n",
    "#         max_length=128\n",
    "#     ).input_ids\n",
    "    \n",
    "#     # 메모리 절약을 위해 speech_array 제거\n",
    "#     del batch[\"speech_array\"]\n",
    "    \n",
    "#     return batch\n"
   ]
  },
  {
   "cell_type": "markdown",
   "id": "6d02c96c-1b59-41ee-83db-65ccd6f2f4c6",
   "metadata": {},
   "source": [
    "#### ○ code review\n",
    "1. load_audio\n",
    "\n",
    "1.1. 변경 전\n",
    "```\n",
    "speech_array, sampling_rate = sf.read(batch['file_path'])\n",
    "```\n",
    "\n",
    "- `soundfile.read`를 사용했지만, Wav2Vec2 모델이 16,000Hz로 샘플링 데이터를 요구\n",
    "- 샘플링 레이트 변환이 필요하여 `librosa.load` 사용\n",
    "\n",
    "<br>\n",
    "\n",
    "1.2. 변경 후  \n",
    "```\n",
    "speech_array, sampling_rate = librosa.load(batch[\"file_path\"], sr=16000)\n",
    "```\n",
    "\n",
    "- sr=16000 : 오디오 데이터를 16,000Hz로 리샘플링 (모델이 요구하는 샘플링 레이트)\n",
    "- speech_array: 샘플링된 오디오 데이터가 배열 형식으로 저장\n",
    "- ampling_rate: 샘플링된 레이트 값(16,000Hz)을 반환\n",
    "\n",
    "<br></br>\n",
    "\n",
    "2. preprocess_data\n",
    "```\n",
    "inputs = processor(batch[\"speech_array\"], sampling_rate=16000, return_tensors=\"pt\", padding=True)\n",
    "```\n",
    "\n",
    "- processor로 입력값 처리\n",
    "- 모델이 사용 가능한 형식으로 오디오 데이터 변환\n",
    "- return_tensors='pt': 변환된 데이터를 PyTorch 텐서 형식으로 반환\n",
    "- padding=True: 입력 데이터의 길이를 맞추기 위해 패딩을 추가\n",
    "\n",
    "<br>\n",
    "\n"
   ]
  },
  {
   "cell_type": "markdown",
   "id": "11a32018-abda-49cc-b4db-9fb93b0491cd",
   "metadata": {},
   "source": [
    "### ○ 전처리 함수 정의"
   ]
  },
  {
   "cell_type": "code",
   "execution_count": 84,
   "id": "0c62d8ba-e0c2-4e3e-ac68-e9ec92d22059",
   "metadata": {},
   "outputs": [],
   "source": [
    "import numpy as np\n",
    "import pandas as pd\n",
    "import torch\n",
    "import librosa\n",
    "from transformers import Wav2Vec2FeatureExtractor\n",
    "from torch.nn.utils.rnn import pad_sequence"
   ]
  },
  {
   "cell_type": "code",
   "execution_count": 86,
   "id": "bc2fd8df-f14f-4e41-a387-d057417013be",
   "metadata": {},
   "outputs": [],
   "source": [
    "# 분산 처리에서 사용\n",
    "def preprocess(df, name, max_length=103420):\n",
    "    # 데이터 세트를 10개로 분할\n",
    "    data_splits = np.array_split(df, 13)\n",
    "\n",
    "    for i, split_df in enumerate(data_splits):\n",
    "        # 각 분할을 Dataset 형식으로 변환\n",
    "        split_dataset = Dataset.from_pandas(split_df)\n",
    "        \n",
    "        # 오디오 로드\n",
    "        split_dataset = split_dataset.map(load_audio, batched=True, batch_size=10)\n",
    "        # 오디오 전처리 수행, 패딩 길이를 일관되게 적용\n",
    "        split_dataset = split_dataset.map(lambda batch: preprocess_data(batch, max_length), batched=True, batch_size=10)\n",
    "\n",
    "        # 처리된 데이터셋을 디스크에 저장\n",
    "        split_dataset.save_to_disk(f\"./data/datasets/{name}/processed_split_{i}.dataset\")\n",
    "\n",
    "        # 메모리 해제\n",
    "        del split_df, split_dataset\n",
    "        gc.collect()"
   ]
  },
  {
   "cell_type": "code",
   "execution_count": 87,
   "id": "414b1294-af5d-4609-a3ad-a87411a8113d",
   "metadata": {},
   "outputs": [],
   "source": [
    "def load_audio(batch):\n",
    "    # 파일 경로에서 오디오 데이터를 16,000Hz로 로드\n",
    "    loaded_audio  = [librosa.load(file_path, sr=16000) for file_path in batch[\"file_path\"]]\n",
    "            \n",
    "    # 튜플 리스트에서 speech_array만 추출하여 batch에 추가\n",
    "    batch[\"speech_array\"] = [audio[0] for audio in loaded_audio]\n",
    "\n",
    "    gc.collect()\n",
    "    \n",
    "    return batch"
   ]
  },
  {
   "cell_type": "code",
   "execution_count": 88,
   "id": "65683452-86b3-43d1-a337-a619fe26a723",
   "metadata": {},
   "outputs": [],
   "source": [
    "def preprocess_data(batch, max_length):\n",
    "    input_values = []\n",
    "    labels = []\n",
    "    genders = []\n",
    "\n",
    "    # Wav2Vec2 전처리 수행 (배치 단위로 처리)\n",
    "    inputs = feature_extractor(batch['speech_array'], sampling_rate=16000, return_tensors=\"pt\",\n",
    "                               padding=\"max_length\", max_length=max_length, truncation=True)\n",
    "\n",
    "    # 전처리된 오디오 데이터\n",
    "    input_values = inputs.input_values.to(torch.float16)\n",
    "    \n",
    "    # attention_mask는 패딩된 부분을 무시하도록 모델에 알려주는 마스크\n",
    "    attention_mask = inputs.attention_mask\n",
    "\n",
    "    # 성별 및 감정 레이블 추가 (배치 전체 처리)\n",
    "    genders = torch.tensor(batch[\"gender\"], dtype=torch.int64)\n",
    "    labels = torch.tensor(batch[\"emotion\"], dtype=torch.int64)\n",
    "    \n",
    "    # 메모리 절약을 위해 speech_array 제거\n",
    "    del batch[\"speech_array\"]\n",
    "    \n",
    "    return {\n",
    "        \"input_values\": input_values,\n",
    "        \"attention_mask\": attention_mask,\n",
    "        \"genders\": genders,\n",
    "        \"labels\": labels,\n",
    "    }"
   ]
  },
  {
   "cell_type": "markdown",
   "id": "c8e668e2-e325-4cad-8ce3-3a415fd4d0d1",
   "metadata": {},
   "source": [
    "ValueError: Unable to create tensor, you should probably activate padding with 'padding=True' to have batched tensors with the same length.\n",
    "\n",
    "분산처리로 인한 텐서 길이 다름  \n",
    "오디오 평균을 계산하여 평균 길이로 맞춰주기  \n",
    "truncation=True를 사용하여 평균값 보다 길이가 긴 데이터는 평균에 맞게 잘라주기"
   ]
  },
  {
   "cell_type": "code",
   "execution_count": 90,
   "id": "97230386-556e-44fb-8bd7-b3f305e90e96",
   "metadata": {},
   "outputs": [],
   "source": [
    "import librosa\n",
    "\n",
    "def get_average_length(file_paths, sample_rate=16000):\n",
    "    total_length = 0\n",
    "    num_files = len(file_paths)\n",
    "    \n",
    "    for file_path in file_paths:\n",
    "        # 오디오 로드 (단, 실제 데이터를 로드하지 않고 길이만 확인)\n",
    "        audio, sr = librosa.load(file_path, sr=sample_rate)\n",
    "        \n",
    "        # 총 길이 누적\n",
    "        total_length += len(audio)\n",
    "    \n",
    "    # 평균 길이 계산\n",
    "    average_length = total_length // num_files\n",
    "    \n",
    "    return average_length"
   ]
  },
  {
   "cell_type": "markdown",
   "id": "4a3fa596-9272-4a4d-8eac-475755f7ff5b",
   "metadata": {},
   "source": [
    "## 4. 데이터셋 전처리 및 생성"
   ]
  },
  {
   "cell_type": "code",
   "execution_count": 91,
   "id": "0ff6623f-0385-4d88-a7a5-09ff785ab3a0",
   "metadata": {},
   "outputs": [],
   "source": [
    "from datasets import Dataset"
   ]
  },
  {
   "cell_type": "markdown",
   "id": "620c11ea-61c0-458e-8888-134172b8f40e",
   "metadata": {},
   "source": [
    "### ○ dummy"
   ]
  },
  {
   "cell_type": "code",
   "execution_count": 92,
   "id": "568b6489-f979-4e5f-b143-b8f4dc5f2769",
   "metadata": {},
   "outputs": [],
   "source": [
    "# # 데이터 프레임을 Hugging Face 데이터셋 형식으로 변환\n",
    "# # .map(preprocess_data) : 데이터셋의 각 데이터 행에 대해 preprocess_data 함수 호출하여 데이터 전처리\n",
    "# train_dataset = Dataset.from_pandas(train_df).map(preprocess_data)\n",
    "# val_dataset = Dataset.from_pandas(val_df).map(preprocess_data)\n",
    "# test_dataset = Dataset.from_pandas(test_df).map(preprocess_data)"
   ]
  },
  {
   "cell_type": "code",
   "execution_count": 93,
   "id": "3d38847e-17f7-473c-bd97-04e06a552a99",
   "metadata": {},
   "outputs": [],
   "source": [
    "# # 데이터 프레임을 Hugging Face 데이터셋 형식으로 변환\n",
    "# # .map(preprocess_data) : 데이터셋의 각 데이터 행에 대해 preprocess_data 함수 호출하여 데이터 전처리\n",
    "# train_dataset = Dataset.from_pandas(train_df).map(load_audio, batched=True, batch_size=8)\n",
    "# val_dataset = Dataset.from_pandas(val_df).map(load_audio, batched=True, batch_size=8)\n",
    "# test_dataset = Dataset.from_pandas(test_df).map(load_audio, batched=True, batch_size=8)"
   ]
  },
  {
   "cell_type": "code",
   "execution_count": 94,
   "id": "cf4af37e-bc95-4372-809c-91a7e2851e2f",
   "metadata": {},
   "outputs": [],
   "source": [
    "# train_dataset = train_dataset.map(preprocess_data, batched=True, batch_size=8)\n",
    "# val_dataset = val_dataset.map(preprocess_data, batched=True, batch_size=8)\n",
    "# test_dataset = test_dataset.map(preprocess_data, batched=True, batch_size=8)"
   ]
  },
  {
   "cell_type": "markdown",
   "id": "20eea74e-7992-4998-bb55-0c041507e829",
   "metadata": {},
   "source": [
    "---------------------------------------------------------------------------\n",
    "PermissionError                           Traceback (most recent call last)\n",
    "Cell In[77], line 1\n",
    "----> 1 preprocess(train_df, 'train')\n",
    "\n",
    "Cell In[76], line 17, in preprocess(df, name)\n",
    "     14 split_dataset = split_dataset.map(preprocess_data, batched=True, batch_size=8)\n",
    "     16 # 처리된 데이터셋을 디스크에 저장\n",
    "---> 17 split_dataset.save_to_disk(f\"/mnt/gcs-bucket/song/{name}/processed_split_{i}.dataset\")\n",
    "     19 # 메모리 해제\n",
    "     20 del split_df, split_dataset  # 사용하지 않는 변수 삭제\n",
    "\n",
    "File ~/workspace/venv/lib/python3.10/site-packages/datasets/arrow_dataset.py:1482, in Dataset.save_to_disk(self, dataset_path, max_shard_size, num_shards, num_proc, storage_options)\n",
    "   1477     if Path(dataset_path).expanduser().resolve() in parent_cache_files_paths:\n",
    "   1478         raise PermissionError(\n",
    "   1479             f\"Tried to overwrite {Path(dataset_path).expanduser().resolve()} but a dataset can't overwrite itself.\"\n",
    "   1480         )\n",
    "-> 1482 fs.makedirs(dataset_path, exist_ok=True)\n",
    "   1484 # Get json serializable state\n",
    "   1485 state = {\n",
    "   1486     key: self.__dict__[key]\n",
    "   1487     for key in [\n",
    "   (...)\n",
    "   1493     ]\n",
    "   1494 }\n",
    "\n",
    "File ~/workspace/venv/lib/python3.10/site-packages/fsspec/implementations/local.py:52, in LocalFileSystem.makedirs(self, path, exist_ok)\n",
    "     50 def makedirs(self, path, exist_ok=False):\n",
    "     51     path = self._strip_protocol(path)\n",
    "---> 52     os.makedirs(path, exist_ok=exist_ok)\n",
    "\n",
    "File /usr/lib/python3.10/os.py:225, in makedirs(name, mode, exist_ok)\n",
    "    223         return\n",
    "    224 try:\n",
    "--> 225     mkdir(name, mode)\n",
    "    226 except OSError:\n",
    "    227     # Cannot rely on checking for EEXIST, since the operating system\n",
    "    228     # could give priority to other errors like EACCES or EROFS\n",
    "    229     if not exist_ok or not path.isdir(name):\n",
    "\n",
    "PermissionError: [Errno 13] Permission denied: '/mnt/gcs-bucket/song/train/processed_split_0.dataset'"
   ]
  },
  {
   "cell_type": "markdown",
   "id": "31f3a579-b2c1-43e0-9088-01dae1acb107",
   "metadata": {},
   "source": [
    "### ○ 전처리"
   ]
  },
  {
   "cell_type": "code",
   "execution_count": 95,
   "id": "1a616070-24d3-4f39-b4b3-971f5081c23c",
   "metadata": {},
   "outputs": [],
   "source": [
    "# train_average_length = get_average_length(train_df['file_path'])\n",
    "# # 103456"
   ]
  },
  {
   "cell_type": "code",
   "execution_count": 96,
   "id": "ab2c71d0-5408-4f93-a258-e5a50bc664f9",
   "metadata": {},
   "outputs": [],
   "source": [
    "# val_average_length = get_average_length(val_df['file_path'])\n",
    "# # 103331"
   ]
  },
  {
   "cell_type": "code",
   "execution_count": 97,
   "id": "aba679e1-d122-4230-8232-c66e4ffd746d",
   "metadata": {},
   "outputs": [],
   "source": [
    "# test_average_length = get_average_length(test_df['file_path'])\n",
    "# # 103475"
   ]
  },
  {
   "cell_type": "code",
   "execution_count": 98,
   "id": "0b7fbc68-4408-42b3-a8f6-e5b9e7461643",
   "metadata": {},
   "outputs": [],
   "source": [
    "# average_length = (train_average_length + val_average_length + test_average_length) // 3"
   ]
  },
  {
   "cell_type": "code",
   "execution_count": 99,
   "id": "79adad45-1863-4eda-bf09-4c5c1df0eb39",
   "metadata": {
    "scrolled": true
   },
   "outputs": [
    {
     "data": {
      "application/vnd.jupyter.widget-view+json": {
       "model_id": "5e75a6621c7b49faaa6d16c867b1f053",
       "version_major": 2,
       "version_minor": 0
      },
      "text/plain": [
       "Map:   0%|          | 0/2954 [00:00<?, ? examples/s]"
      ]
     },
     "metadata": {},
     "output_type": "display_data"
    },
    {
     "data": {
      "application/vnd.jupyter.widget-view+json": {
       "model_id": "9ba97535e4404c318b5017963fc780f8",
       "version_major": 2,
       "version_minor": 0
      },
      "text/plain": [
       "Map:   0%|          | 0/2954 [00:00<?, ? examples/s]"
      ]
     },
     "metadata": {},
     "output_type": "display_data"
    },
    {
     "data": {
      "application/vnd.jupyter.widget-view+json": {
       "model_id": "077f25c8c5744df0a21af5fa2a694308",
       "version_major": 2,
       "version_minor": 0
      },
      "text/plain": [
       "Saving the dataset (0/5 shards):   0%|          | 0/2954 [00:00<?, ? examples/s]"
      ]
     },
     "metadata": {},
     "output_type": "display_data"
    },
    {
     "data": {
      "application/vnd.jupyter.widget-view+json": {
       "model_id": "504a57cfc6a745a988ce9f28b30a8012",
       "version_major": 2,
       "version_minor": 0
      },
      "text/plain": [
       "Map:   0%|          | 0/2954 [00:00<?, ? examples/s]"
      ]
     },
     "metadata": {},
     "output_type": "display_data"
    },
    {
     "data": {
      "application/vnd.jupyter.widget-view+json": {
       "model_id": "9ff17768e8cc439b91b8853661548cb9",
       "version_major": 2,
       "version_minor": 0
      },
      "text/plain": [
       "Map:   0%|          | 0/2954 [00:00<?, ? examples/s]"
      ]
     },
     "metadata": {},
     "output_type": "display_data"
    },
    {
     "data": {
      "application/vnd.jupyter.widget-view+json": {
       "model_id": "206a8eca2bea4e17aa2aa6a4624ccae2",
       "version_major": 2,
       "version_minor": 0
      },
      "text/plain": [
       "Saving the dataset (0/5 shards):   0%|          | 0/2954 [00:00<?, ? examples/s]"
      ]
     },
     "metadata": {},
     "output_type": "display_data"
    },
    {
     "data": {
      "application/vnd.jupyter.widget-view+json": {
       "model_id": "155f5b6553934e748919612bdb329fe9",
       "version_major": 2,
       "version_minor": 0
      },
      "text/plain": [
       "Map:   0%|          | 0/2954 [00:00<?, ? examples/s]"
      ]
     },
     "metadata": {},
     "output_type": "display_data"
    },
    {
     "data": {
      "application/vnd.jupyter.widget-view+json": {
       "model_id": "3d974dfd3f8c4b1c8492555f827682ba",
       "version_major": 2,
       "version_minor": 0
      },
      "text/plain": [
       "Map:   0%|          | 0/2954 [00:00<?, ? examples/s]"
      ]
     },
     "metadata": {},
     "output_type": "display_data"
    },
    {
     "data": {
      "application/vnd.jupyter.widget-view+json": {
       "model_id": "65a3e558eb1047c8b9fe1a9dbeed8d64",
       "version_major": 2,
       "version_minor": 0
      },
      "text/plain": [
       "Saving the dataset (0/5 shards):   0%|          | 0/2954 [00:00<?, ? examples/s]"
      ]
     },
     "metadata": {},
     "output_type": "display_data"
    },
    {
     "data": {
      "application/vnd.jupyter.widget-view+json": {
       "model_id": "f22e0a7ef7cc49cb8bf1d769a6a55090",
       "version_major": 2,
       "version_minor": 0
      },
      "text/plain": [
       "Map:   0%|          | 0/2954 [00:00<?, ? examples/s]"
      ]
     },
     "metadata": {},
     "output_type": "display_data"
    },
    {
     "data": {
      "application/vnd.jupyter.widget-view+json": {
       "model_id": "2bc0aa1db14b4b62a83ba80fe6ae4356",
       "version_major": 2,
       "version_minor": 0
      },
      "text/plain": [
       "Map:   0%|          | 0/2954 [00:00<?, ? examples/s]"
      ]
     },
     "metadata": {},
     "output_type": "display_data"
    },
    {
     "data": {
      "application/vnd.jupyter.widget-view+json": {
       "model_id": "d5792aa7460a4958ab3f357dd2ebc8f2",
       "version_major": 2,
       "version_minor": 0
      },
      "text/plain": [
       "Saving the dataset (0/5 shards):   0%|          | 0/2954 [00:00<?, ? examples/s]"
      ]
     },
     "metadata": {},
     "output_type": "display_data"
    },
    {
     "data": {
      "application/vnd.jupyter.widget-view+json": {
       "model_id": "b039f465eab24e6dbbfacb59e679a043",
       "version_major": 2,
       "version_minor": 0
      },
      "text/plain": [
       "Map:   0%|          | 0/2954 [00:00<?, ? examples/s]"
      ]
     },
     "metadata": {},
     "output_type": "display_data"
    },
    {
     "data": {
      "application/vnd.jupyter.widget-view+json": {
       "model_id": "9539d47f52434fd49b60c75455baf9aa",
       "version_major": 2,
       "version_minor": 0
      },
      "text/plain": [
       "Map:   0%|          | 0/2954 [00:00<?, ? examples/s]"
      ]
     },
     "metadata": {},
     "output_type": "display_data"
    },
    {
     "data": {
      "application/vnd.jupyter.widget-view+json": {
       "model_id": "7a9ffb28ce5e4cbba8709bebeb060e3f",
       "version_major": 2,
       "version_minor": 0
      },
      "text/plain": [
       "Saving the dataset (0/5 shards):   0%|          | 0/2954 [00:00<?, ? examples/s]"
      ]
     },
     "metadata": {},
     "output_type": "display_data"
    },
    {
     "data": {
      "application/vnd.jupyter.widget-view+json": {
       "model_id": "1dbde77c6f7d4687b3edca3f84ecd98f",
       "version_major": 2,
       "version_minor": 0
      },
      "text/plain": [
       "Map:   0%|          | 0/2954 [00:00<?, ? examples/s]"
      ]
     },
     "metadata": {},
     "output_type": "display_data"
    },
    {
     "data": {
      "application/vnd.jupyter.widget-view+json": {
       "model_id": "37109703c4764c1ea1481ca708422faf",
       "version_major": 2,
       "version_minor": 0
      },
      "text/plain": [
       "Map:   0%|          | 0/2954 [00:00<?, ? examples/s]"
      ]
     },
     "metadata": {},
     "output_type": "display_data"
    },
    {
     "data": {
      "application/vnd.jupyter.widget-view+json": {
       "model_id": "de2b8d7687e9444a9d63823a3416bc17",
       "version_major": 2,
       "version_minor": 0
      },
      "text/plain": [
       "Saving the dataset (0/5 shards):   0%|          | 0/2954 [00:00<?, ? examples/s]"
      ]
     },
     "metadata": {},
     "output_type": "display_data"
    },
    {
     "data": {
      "application/vnd.jupyter.widget-view+json": {
       "model_id": "6733a80a387e4aa98f658e59275cb37d",
       "version_major": 2,
       "version_minor": 0
      },
      "text/plain": [
       "Map:   0%|          | 0/2954 [00:00<?, ? examples/s]"
      ]
     },
     "metadata": {},
     "output_type": "display_data"
    },
    {
     "data": {
      "application/vnd.jupyter.widget-view+json": {
       "model_id": "cc805bf8a2934a81bc04b554c7399025",
       "version_major": 2,
       "version_minor": 0
      },
      "text/plain": [
       "Map:   0%|          | 0/2954 [00:00<?, ? examples/s]"
      ]
     },
     "metadata": {},
     "output_type": "display_data"
    },
    {
     "data": {
      "application/vnd.jupyter.widget-view+json": {
       "model_id": "92646bc93e184ec3877b5bfcd137b068",
       "version_major": 2,
       "version_minor": 0
      },
      "text/plain": [
       "Saving the dataset (0/5 shards):   0%|          | 0/2954 [00:00<?, ? examples/s]"
      ]
     },
     "metadata": {},
     "output_type": "display_data"
    },
    {
     "data": {
      "application/vnd.jupyter.widget-view+json": {
       "model_id": "234f0d88d65e48e3a80a9e81d9e8ef89",
       "version_major": 2,
       "version_minor": 0
      },
      "text/plain": [
       "Map:   0%|          | 0/2954 [00:00<?, ? examples/s]"
      ]
     },
     "metadata": {},
     "output_type": "display_data"
    },
    {
     "data": {
      "application/vnd.jupyter.widget-view+json": {
       "model_id": "f533c74dd12740428bda4dfa2d954546",
       "version_major": 2,
       "version_minor": 0
      },
      "text/plain": [
       "Map:   0%|          | 0/2954 [00:00<?, ? examples/s]"
      ]
     },
     "metadata": {},
     "output_type": "display_data"
    },
    {
     "data": {
      "application/vnd.jupyter.widget-view+json": {
       "model_id": "230d952be2944acd98c1a966aa1ad7e0",
       "version_major": 2,
       "version_minor": 0
      },
      "text/plain": [
       "Saving the dataset (0/5 shards):   0%|          | 0/2954 [00:00<?, ? examples/s]"
      ]
     },
     "metadata": {},
     "output_type": "display_data"
    },
    {
     "data": {
      "application/vnd.jupyter.widget-view+json": {
       "model_id": "3148ed20776e44aea547d3dc8234da42",
       "version_major": 2,
       "version_minor": 0
      },
      "text/plain": [
       "Map:   0%|          | 0/2954 [00:00<?, ? examples/s]"
      ]
     },
     "metadata": {},
     "output_type": "display_data"
    },
    {
     "data": {
      "application/vnd.jupyter.widget-view+json": {
       "model_id": "9cb04674fb4e44538d1f5ce0f38b699e",
       "version_major": 2,
       "version_minor": 0
      },
      "text/plain": [
       "Map:   0%|          | 0/2954 [00:00<?, ? examples/s]"
      ]
     },
     "metadata": {},
     "output_type": "display_data"
    },
    {
     "data": {
      "application/vnd.jupyter.widget-view+json": {
       "model_id": "f1dd31bc980d42dd9189070d187403f9",
       "version_major": 2,
       "version_minor": 0
      },
      "text/plain": [
       "Saving the dataset (0/5 shards):   0%|          | 0/2954 [00:00<?, ? examples/s]"
      ]
     },
     "metadata": {},
     "output_type": "display_data"
    },
    {
     "data": {
      "application/vnd.jupyter.widget-view+json": {
       "model_id": "d8b4b50fe7d34f38a476d030950c2edc",
       "version_major": 2,
       "version_minor": 0
      },
      "text/plain": [
       "Map:   0%|          | 0/2954 [00:00<?, ? examples/s]"
      ]
     },
     "metadata": {},
     "output_type": "display_data"
    },
    {
     "data": {
      "application/vnd.jupyter.widget-view+json": {
       "model_id": "1d6460149ffb4637b4426407b1fe6b63",
       "version_major": 2,
       "version_minor": 0
      },
      "text/plain": [
       "Map:   0%|          | 0/2954 [00:00<?, ? examples/s]"
      ]
     },
     "metadata": {},
     "output_type": "display_data"
    },
    {
     "data": {
      "application/vnd.jupyter.widget-view+json": {
       "model_id": "6484cfa92860488fab7d6a694ee5845b",
       "version_major": 2,
       "version_minor": 0
      },
      "text/plain": [
       "Saving the dataset (0/5 shards):   0%|          | 0/2954 [00:00<?, ? examples/s]"
      ]
     },
     "metadata": {},
     "output_type": "display_data"
    },
    {
     "data": {
      "application/vnd.jupyter.widget-view+json": {
       "model_id": "b5f04a8fabb04dbdabf05f4f41128344",
       "version_major": 2,
       "version_minor": 0
      },
      "text/plain": [
       "Map:   0%|          | 0/2954 [00:00<?, ? examples/s]"
      ]
     },
     "metadata": {},
     "output_type": "display_data"
    },
    {
     "data": {
      "application/vnd.jupyter.widget-view+json": {
       "model_id": "15c970937dd14b1fa66648771de51489",
       "version_major": 2,
       "version_minor": 0
      },
      "text/plain": [
       "Map:   0%|          | 0/2954 [00:00<?, ? examples/s]"
      ]
     },
     "metadata": {},
     "output_type": "display_data"
    },
    {
     "data": {
      "application/vnd.jupyter.widget-view+json": {
       "model_id": "6c3e7d1fc82e44249854a60059d4e459",
       "version_major": 2,
       "version_minor": 0
      },
      "text/plain": [
       "Saving the dataset (0/5 shards):   0%|          | 0/2954 [00:00<?, ? examples/s]"
      ]
     },
     "metadata": {},
     "output_type": "display_data"
    },
    {
     "data": {
      "application/vnd.jupyter.widget-view+json": {
       "model_id": "854a531b4fd649169c5340b27f2bdbb2",
       "version_major": 2,
       "version_minor": 0
      },
      "text/plain": [
       "Map:   0%|          | 0/2953 [00:00<?, ? examples/s]"
      ]
     },
     "metadata": {},
     "output_type": "display_data"
    },
    {
     "data": {
      "application/vnd.jupyter.widget-view+json": {
       "model_id": "b02bf33dd12d42bfb50738716afbd58d",
       "version_major": 2,
       "version_minor": 0
      },
      "text/plain": [
       "Map:   0%|          | 0/2953 [00:00<?, ? examples/s]"
      ]
     },
     "metadata": {},
     "output_type": "display_data"
    },
    {
     "data": {
      "application/vnd.jupyter.widget-view+json": {
       "model_id": "2ded5344e9ca47f89badb290e4bb0ae4",
       "version_major": 2,
       "version_minor": 0
      },
      "text/plain": [
       "Saving the dataset (0/5 shards):   0%|          | 0/2953 [00:00<?, ? examples/s]"
      ]
     },
     "metadata": {},
     "output_type": "display_data"
    },
    {
     "data": {
      "application/vnd.jupyter.widget-view+json": {
       "model_id": "f9a71079b6da41acb1a8b4da4fc6ceae",
       "version_major": 2,
       "version_minor": 0
      },
      "text/plain": [
       "Map:   0%|          | 0/2953 [00:00<?, ? examples/s]"
      ]
     },
     "metadata": {},
     "output_type": "display_data"
    },
    {
     "data": {
      "application/vnd.jupyter.widget-view+json": {
       "model_id": "abbe780b50b041628ece06071054ac36",
       "version_major": 2,
       "version_minor": 0
      },
      "text/plain": [
       "Map:   0%|          | 0/2953 [00:00<?, ? examples/s]"
      ]
     },
     "metadata": {},
     "output_type": "display_data"
    },
    {
     "data": {
      "application/vnd.jupyter.widget-view+json": {
       "model_id": "3cabd0f9d2974902b2a87e20b1cc6da1",
       "version_major": 2,
       "version_minor": 0
      },
      "text/plain": [
       "Saving the dataset (0/5 shards):   0%|          | 0/2953 [00:00<?, ? examples/s]"
      ]
     },
     "metadata": {},
     "output_type": "display_data"
    }
   ],
   "source": [
    "preprocess(train_df, 'train')"
   ]
  },
  {
   "cell_type": "code",
   "execution_count": 100,
   "id": "2df908cd-7845-4e58-9772-23c73c198c73",
   "metadata": {
    "scrolled": true
   },
   "outputs": [
    {
     "data": {
      "application/vnd.jupyter.widget-view+json": {
       "model_id": "8b020132c210461dac4547027abc65f4",
       "version_major": 2,
       "version_minor": 0
      },
      "text/plain": [
       "Map:   0%|          | 0/739 [00:00<?, ? examples/s]"
      ]
     },
     "metadata": {},
     "output_type": "display_data"
    },
    {
     "data": {
      "application/vnd.jupyter.widget-view+json": {
       "model_id": "47bd4f84fa634f819e2055fce816494d",
       "version_major": 2,
       "version_minor": 0
      },
      "text/plain": [
       "Map:   0%|          | 0/739 [00:00<?, ? examples/s]"
      ]
     },
     "metadata": {},
     "output_type": "display_data"
    },
    {
     "data": {
      "application/vnd.jupyter.widget-view+json": {
       "model_id": "373cb42e3c804942b461db4641cf78b0",
       "version_major": 2,
       "version_minor": 0
      },
      "text/plain": [
       "Saving the dataset (0/2 shards):   0%|          | 0/739 [00:00<?, ? examples/s]"
      ]
     },
     "metadata": {},
     "output_type": "display_data"
    },
    {
     "data": {
      "application/vnd.jupyter.widget-view+json": {
       "model_id": "ded637d6fe3143dcbfb0ea35d4d6b7a1",
       "version_major": 2,
       "version_minor": 0
      },
      "text/plain": [
       "Map:   0%|          | 0/739 [00:00<?, ? examples/s]"
      ]
     },
     "metadata": {},
     "output_type": "display_data"
    },
    {
     "data": {
      "application/vnd.jupyter.widget-view+json": {
       "model_id": "b740cbcdfac54f13aa8a39e9a6d5564a",
       "version_major": 2,
       "version_minor": 0
      },
      "text/plain": [
       "Map:   0%|          | 0/739 [00:00<?, ? examples/s]"
      ]
     },
     "metadata": {},
     "output_type": "display_data"
    },
    {
     "data": {
      "application/vnd.jupyter.widget-view+json": {
       "model_id": "36c4e87c0dfa414abf8203afa922f96b",
       "version_major": 2,
       "version_minor": 0
      },
      "text/plain": [
       "Saving the dataset (0/2 shards):   0%|          | 0/739 [00:00<?, ? examples/s]"
      ]
     },
     "metadata": {},
     "output_type": "display_data"
    },
    {
     "data": {
      "application/vnd.jupyter.widget-view+json": {
       "model_id": "f39927a6c20f4ec3aec0611c7c5ace42",
       "version_major": 2,
       "version_minor": 0
      },
      "text/plain": [
       "Map:   0%|          | 0/739 [00:00<?, ? examples/s]"
      ]
     },
     "metadata": {},
     "output_type": "display_data"
    },
    {
     "data": {
      "application/vnd.jupyter.widget-view+json": {
       "model_id": "0e6dda930c9949a68543039d0c902b76",
       "version_major": 2,
       "version_minor": 0
      },
      "text/plain": [
       "Map:   0%|          | 0/739 [00:00<?, ? examples/s]"
      ]
     },
     "metadata": {},
     "output_type": "display_data"
    },
    {
     "data": {
      "application/vnd.jupyter.widget-view+json": {
       "model_id": "6db3d87b973145a6b8ea11acaac39bbd",
       "version_major": 2,
       "version_minor": 0
      },
      "text/plain": [
       "Saving the dataset (0/2 shards):   0%|          | 0/739 [00:00<?, ? examples/s]"
      ]
     },
     "metadata": {},
     "output_type": "display_data"
    },
    {
     "data": {
      "application/vnd.jupyter.widget-view+json": {
       "model_id": "1eb08b3287c44bd5956c9524aa5d8e17",
       "version_major": 2,
       "version_minor": 0
      },
      "text/plain": [
       "Map:   0%|          | 0/739 [00:00<?, ? examples/s]"
      ]
     },
     "metadata": {},
     "output_type": "display_data"
    },
    {
     "data": {
      "application/vnd.jupyter.widget-view+json": {
       "model_id": "ce044ee3af9843f2823db256b20e04a3",
       "version_major": 2,
       "version_minor": 0
      },
      "text/plain": [
       "Map:   0%|          | 0/739 [00:00<?, ? examples/s]"
      ]
     },
     "metadata": {},
     "output_type": "display_data"
    },
    {
     "data": {
      "application/vnd.jupyter.widget-view+json": {
       "model_id": "67624be50a444f6ca067202ae3933ad0",
       "version_major": 2,
       "version_minor": 0
      },
      "text/plain": [
       "Saving the dataset (0/2 shards):   0%|          | 0/739 [00:00<?, ? examples/s]"
      ]
     },
     "metadata": {},
     "output_type": "display_data"
    },
    {
     "data": {
      "application/vnd.jupyter.widget-view+json": {
       "model_id": "f27896a39e354204bdc97bc5da42c975",
       "version_major": 2,
       "version_minor": 0
      },
      "text/plain": [
       "Map:   0%|          | 0/739 [00:00<?, ? examples/s]"
      ]
     },
     "metadata": {},
     "output_type": "display_data"
    },
    {
     "data": {
      "application/vnd.jupyter.widget-view+json": {
       "model_id": "601209f5721744c18d0120f518f4884f",
       "version_major": 2,
       "version_minor": 0
      },
      "text/plain": [
       "Map:   0%|          | 0/739 [00:00<?, ? examples/s]"
      ]
     },
     "metadata": {},
     "output_type": "display_data"
    },
    {
     "data": {
      "application/vnd.jupyter.widget-view+json": {
       "model_id": "359455de6c2049bbbc19e833646df734",
       "version_major": 2,
       "version_minor": 0
      },
      "text/plain": [
       "Saving the dataset (0/2 shards):   0%|          | 0/739 [00:00<?, ? examples/s]"
      ]
     },
     "metadata": {},
     "output_type": "display_data"
    },
    {
     "data": {
      "application/vnd.jupyter.widget-view+json": {
       "model_id": "a6c28413fec940a0ba4009e7829726dd",
       "version_major": 2,
       "version_minor": 0
      },
      "text/plain": [
       "Map:   0%|          | 0/739 [00:00<?, ? examples/s]"
      ]
     },
     "metadata": {},
     "output_type": "display_data"
    },
    {
     "data": {
      "application/vnd.jupyter.widget-view+json": {
       "model_id": "191ee0c8b81a47b5be390ca23a1ca0d9",
       "version_major": 2,
       "version_minor": 0
      },
      "text/plain": [
       "Map:   0%|          | 0/739 [00:00<?, ? examples/s]"
      ]
     },
     "metadata": {},
     "output_type": "display_data"
    },
    {
     "data": {
      "application/vnd.jupyter.widget-view+json": {
       "model_id": "fc1888e7971b46cfa12e991d780a4df7",
       "version_major": 2,
       "version_minor": 0
      },
      "text/plain": [
       "Saving the dataset (0/2 shards):   0%|          | 0/739 [00:00<?, ? examples/s]"
      ]
     },
     "metadata": {},
     "output_type": "display_data"
    },
    {
     "data": {
      "application/vnd.jupyter.widget-view+json": {
       "model_id": "8eda11bf48e743969b918f64f5027b73",
       "version_major": 2,
       "version_minor": 0
      },
      "text/plain": [
       "Map:   0%|          | 0/738 [00:00<?, ? examples/s]"
      ]
     },
     "metadata": {},
     "output_type": "display_data"
    },
    {
     "data": {
      "application/vnd.jupyter.widget-view+json": {
       "model_id": "8b714418b463498b936140faa50bbcb4",
       "version_major": 2,
       "version_minor": 0
      },
      "text/plain": [
       "Map:   0%|          | 0/738 [00:00<?, ? examples/s]"
      ]
     },
     "metadata": {},
     "output_type": "display_data"
    },
    {
     "data": {
      "application/vnd.jupyter.widget-view+json": {
       "model_id": "612a573a5f0a4bb986a8fbb1053773bc",
       "version_major": 2,
       "version_minor": 0
      },
      "text/plain": [
       "Saving the dataset (0/2 shards):   0%|          | 0/738 [00:00<?, ? examples/s]"
      ]
     },
     "metadata": {},
     "output_type": "display_data"
    },
    {
     "data": {
      "application/vnd.jupyter.widget-view+json": {
       "model_id": "0b374f223ef74c5aa4e6a5b128a53295",
       "version_major": 2,
       "version_minor": 0
      },
      "text/plain": [
       "Map:   0%|          | 0/738 [00:00<?, ? examples/s]"
      ]
     },
     "metadata": {},
     "output_type": "display_data"
    },
    {
     "data": {
      "application/vnd.jupyter.widget-view+json": {
       "model_id": "13814082c9fc41aaa2380fde33993bb9",
       "version_major": 2,
       "version_minor": 0
      },
      "text/plain": [
       "Map:   0%|          | 0/738 [00:00<?, ? examples/s]"
      ]
     },
     "metadata": {},
     "output_type": "display_data"
    },
    {
     "data": {
      "application/vnd.jupyter.widget-view+json": {
       "model_id": "2508d423569f4e6a8c248590fbea0e60",
       "version_major": 2,
       "version_minor": 0
      },
      "text/plain": [
       "Saving the dataset (0/2 shards):   0%|          | 0/738 [00:00<?, ? examples/s]"
      ]
     },
     "metadata": {},
     "output_type": "display_data"
    },
    {
     "data": {
      "application/vnd.jupyter.widget-view+json": {
       "model_id": "39c51b68d4ae428c857b4b87b5898cab",
       "version_major": 2,
       "version_minor": 0
      },
      "text/plain": [
       "Map:   0%|          | 0/738 [00:00<?, ? examples/s]"
      ]
     },
     "metadata": {},
     "output_type": "display_data"
    },
    {
     "data": {
      "application/vnd.jupyter.widget-view+json": {
       "model_id": "176ee311fed94577b3bb24f7bd14e9b2",
       "version_major": 2,
       "version_minor": 0
      },
      "text/plain": [
       "Map:   0%|          | 0/738 [00:00<?, ? examples/s]"
      ]
     },
     "metadata": {},
     "output_type": "display_data"
    },
    {
     "data": {
      "application/vnd.jupyter.widget-view+json": {
       "model_id": "e898a4e1d4b84591a577da303dbbfe14",
       "version_major": 2,
       "version_minor": 0
      },
      "text/plain": [
       "Saving the dataset (0/2 shards):   0%|          | 0/738 [00:00<?, ? examples/s]"
      ]
     },
     "metadata": {},
     "output_type": "display_data"
    },
    {
     "data": {
      "application/vnd.jupyter.widget-view+json": {
       "model_id": "3ef4e54668284cc685b31a736ab858b5",
       "version_major": 2,
       "version_minor": 0
      },
      "text/plain": [
       "Map:   0%|          | 0/738 [00:00<?, ? examples/s]"
      ]
     },
     "metadata": {},
     "output_type": "display_data"
    },
    {
     "data": {
      "application/vnd.jupyter.widget-view+json": {
       "model_id": "8e170deae41141deb8e4c45737a8e484",
       "version_major": 2,
       "version_minor": 0
      },
      "text/plain": [
       "Map:   0%|          | 0/738 [00:00<?, ? examples/s]"
      ]
     },
     "metadata": {},
     "output_type": "display_data"
    },
    {
     "data": {
      "application/vnd.jupyter.widget-view+json": {
       "model_id": "620beb1ce64b44bd9e7edea4d32bc5b3",
       "version_major": 2,
       "version_minor": 0
      },
      "text/plain": [
       "Saving the dataset (0/2 shards):   0%|          | 0/738 [00:00<?, ? examples/s]"
      ]
     },
     "metadata": {},
     "output_type": "display_data"
    },
    {
     "data": {
      "application/vnd.jupyter.widget-view+json": {
       "model_id": "5680c61e4bab4f8a9b2e11263b44e4b0",
       "version_major": 2,
       "version_minor": 0
      },
      "text/plain": [
       "Map:   0%|          | 0/738 [00:00<?, ? examples/s]"
      ]
     },
     "metadata": {},
     "output_type": "display_data"
    },
    {
     "data": {
      "application/vnd.jupyter.widget-view+json": {
       "model_id": "1f4247962a6049909f227e41a69548f8",
       "version_major": 2,
       "version_minor": 0
      },
      "text/plain": [
       "Map:   0%|          | 0/738 [00:00<?, ? examples/s]"
      ]
     },
     "metadata": {},
     "output_type": "display_data"
    },
    {
     "data": {
      "application/vnd.jupyter.widget-view+json": {
       "model_id": "af8dbf9529d54c5685b215da52e94015",
       "version_major": 2,
       "version_minor": 0
      },
      "text/plain": [
       "Saving the dataset (0/2 shards):   0%|          | 0/738 [00:00<?, ? examples/s]"
      ]
     },
     "metadata": {},
     "output_type": "display_data"
    },
    {
     "data": {
      "application/vnd.jupyter.widget-view+json": {
       "model_id": "5518439e30434927b700c4df5d5092bb",
       "version_major": 2,
       "version_minor": 0
      },
      "text/plain": [
       "Map:   0%|          | 0/738 [00:00<?, ? examples/s]"
      ]
     },
     "metadata": {},
     "output_type": "display_data"
    },
    {
     "data": {
      "application/vnd.jupyter.widget-view+json": {
       "model_id": "cc7802b506844f55b9c2a5c8172e1791",
       "version_major": 2,
       "version_minor": 0
      },
      "text/plain": [
       "Map:   0%|          | 0/738 [00:00<?, ? examples/s]"
      ]
     },
     "metadata": {},
     "output_type": "display_data"
    },
    {
     "data": {
      "application/vnd.jupyter.widget-view+json": {
       "model_id": "0978754af2a24dffaede99c76313dd50",
       "version_major": 2,
       "version_minor": 0
      },
      "text/plain": [
       "Saving the dataset (0/2 shards):   0%|          | 0/738 [00:00<?, ? examples/s]"
      ]
     },
     "metadata": {},
     "output_type": "display_data"
    },
    {
     "data": {
      "application/vnd.jupyter.widget-view+json": {
       "model_id": "e3c5fb77792a4f33836d5880720fe0cb",
       "version_major": 2,
       "version_minor": 0
      },
      "text/plain": [
       "Map:   0%|          | 0/738 [00:00<?, ? examples/s]"
      ]
     },
     "metadata": {},
     "output_type": "display_data"
    },
    {
     "data": {
      "application/vnd.jupyter.widget-view+json": {
       "model_id": "7d891a8b8e6245ebabd3e7d14cad2d29",
       "version_major": 2,
       "version_minor": 0
      },
      "text/plain": [
       "Map:   0%|          | 0/738 [00:00<?, ? examples/s]"
      ]
     },
     "metadata": {},
     "output_type": "display_data"
    },
    {
     "data": {
      "application/vnd.jupyter.widget-view+json": {
       "model_id": "d88a6047861e4238b5ababd4f3e6f423",
       "version_major": 2,
       "version_minor": 0
      },
      "text/plain": [
       "Saving the dataset (0/2 shards):   0%|          | 0/738 [00:00<?, ? examples/s]"
      ]
     },
     "metadata": {},
     "output_type": "display_data"
    }
   ],
   "source": [
    "preprocess(val_df, 'val')"
   ]
  },
  {
   "cell_type": "code",
   "execution_count": 101,
   "id": "461ce52e-90b1-4e7c-a305-a2a4eea0fa24",
   "metadata": {
    "scrolled": true
   },
   "outputs": [
    {
     "data": {
      "application/vnd.jupyter.widget-view+json": {
       "model_id": "85550fac1b2b4f80bd8ff8152b6fbc2a",
       "version_major": 2,
       "version_minor": 0
      },
      "text/plain": [
       "Map:   0%|          | 0/924 [00:00<?, ? examples/s]"
      ]
     },
     "metadata": {},
     "output_type": "display_data"
    },
    {
     "data": {
      "application/vnd.jupyter.widget-view+json": {
       "model_id": "829961245b1a486ea5212c2af74bbaa8",
       "version_major": 2,
       "version_minor": 0
      },
      "text/plain": [
       "Map:   0%|          | 0/924 [00:00<?, ? examples/s]"
      ]
     },
     "metadata": {},
     "output_type": "display_data"
    },
    {
     "data": {
      "application/vnd.jupyter.widget-view+json": {
       "model_id": "5c8a6ee06a2d4742a74a96decf08ccab",
       "version_major": 2,
       "version_minor": 0
      },
      "text/plain": [
       "Saving the dataset (0/2 shards):   0%|          | 0/924 [00:00<?, ? examples/s]"
      ]
     },
     "metadata": {},
     "output_type": "display_data"
    },
    {
     "data": {
      "application/vnd.jupyter.widget-view+json": {
       "model_id": "9f4a4879e0274f24a2e99a79aac141d9",
       "version_major": 2,
       "version_minor": 0
      },
      "text/plain": [
       "Map:   0%|          | 0/923 [00:00<?, ? examples/s]"
      ]
     },
     "metadata": {},
     "output_type": "display_data"
    },
    {
     "data": {
      "application/vnd.jupyter.widget-view+json": {
       "model_id": "b6e37784433847bc83aafd524ee1a135",
       "version_major": 2,
       "version_minor": 0
      },
      "text/plain": [
       "Map:   0%|          | 0/923 [00:00<?, ? examples/s]"
      ]
     },
     "metadata": {},
     "output_type": "display_data"
    },
    {
     "data": {
      "application/vnd.jupyter.widget-view+json": {
       "model_id": "69008e7936c94f96860393db0ac808f7",
       "version_major": 2,
       "version_minor": 0
      },
      "text/plain": [
       "Saving the dataset (0/2 shards):   0%|          | 0/923 [00:00<?, ? examples/s]"
      ]
     },
     "metadata": {},
     "output_type": "display_data"
    },
    {
     "data": {
      "application/vnd.jupyter.widget-view+json": {
       "model_id": "a9b1a3a9d3644047be94e2c8e43ce5a9",
       "version_major": 2,
       "version_minor": 0
      },
      "text/plain": [
       "Map:   0%|          | 0/923 [00:00<?, ? examples/s]"
      ]
     },
     "metadata": {},
     "output_type": "display_data"
    },
    {
     "data": {
      "application/vnd.jupyter.widget-view+json": {
       "model_id": "1b9050d5d6e94fc1a5cfc20e6adb2bad",
       "version_major": 2,
       "version_minor": 0
      },
      "text/plain": [
       "Map:   0%|          | 0/923 [00:00<?, ? examples/s]"
      ]
     },
     "metadata": {},
     "output_type": "display_data"
    },
    {
     "data": {
      "application/vnd.jupyter.widget-view+json": {
       "model_id": "120ff6658901498ca250178bf196b74e",
       "version_major": 2,
       "version_minor": 0
      },
      "text/plain": [
       "Saving the dataset (0/2 shards):   0%|          | 0/923 [00:00<?, ? examples/s]"
      ]
     },
     "metadata": {},
     "output_type": "display_data"
    },
    {
     "data": {
      "application/vnd.jupyter.widget-view+json": {
       "model_id": "ea1c6cc750ee4b1e829e888e7369bd38",
       "version_major": 2,
       "version_minor": 0
      },
      "text/plain": [
       "Map:   0%|          | 0/923 [00:00<?, ? examples/s]"
      ]
     },
     "metadata": {},
     "output_type": "display_data"
    },
    {
     "data": {
      "application/vnd.jupyter.widget-view+json": {
       "model_id": "5ccdd7e6115043f495d4b4203c68c95b",
       "version_major": 2,
       "version_minor": 0
      },
      "text/plain": [
       "Map:   0%|          | 0/923 [00:00<?, ? examples/s]"
      ]
     },
     "metadata": {},
     "output_type": "display_data"
    },
    {
     "data": {
      "application/vnd.jupyter.widget-view+json": {
       "model_id": "486163e23a594bcbb38e8f79ca35a618",
       "version_major": 2,
       "version_minor": 0
      },
      "text/plain": [
       "Saving the dataset (0/2 shards):   0%|          | 0/923 [00:00<?, ? examples/s]"
      ]
     },
     "metadata": {},
     "output_type": "display_data"
    },
    {
     "data": {
      "application/vnd.jupyter.widget-view+json": {
       "model_id": "6f22c689952e43008a02be094c52c8d0",
       "version_major": 2,
       "version_minor": 0
      },
      "text/plain": [
       "Map:   0%|          | 0/923 [00:00<?, ? examples/s]"
      ]
     },
     "metadata": {},
     "output_type": "display_data"
    },
    {
     "data": {
      "application/vnd.jupyter.widget-view+json": {
       "model_id": "4c56b73113f542fdb36e98cf7dccee4a",
       "version_major": 2,
       "version_minor": 0
      },
      "text/plain": [
       "Map:   0%|          | 0/923 [00:00<?, ? examples/s]"
      ]
     },
     "metadata": {},
     "output_type": "display_data"
    },
    {
     "data": {
      "application/vnd.jupyter.widget-view+json": {
       "model_id": "d700234d40ef4dc7877d5d6c4db2f86b",
       "version_major": 2,
       "version_minor": 0
      },
      "text/plain": [
       "Saving the dataset (0/2 shards):   0%|          | 0/923 [00:00<?, ? examples/s]"
      ]
     },
     "metadata": {},
     "output_type": "display_data"
    },
    {
     "data": {
      "application/vnd.jupyter.widget-view+json": {
       "model_id": "6033cb34ecea46319b527065e78985be",
       "version_major": 2,
       "version_minor": 0
      },
      "text/plain": [
       "Map:   0%|          | 0/923 [00:00<?, ? examples/s]"
      ]
     },
     "metadata": {},
     "output_type": "display_data"
    },
    {
     "data": {
      "application/vnd.jupyter.widget-view+json": {
       "model_id": "a82f461b1fc349b7bab38d42aacc0871",
       "version_major": 2,
       "version_minor": 0
      },
      "text/plain": [
       "Map:   0%|          | 0/923 [00:00<?, ? examples/s]"
      ]
     },
     "metadata": {},
     "output_type": "display_data"
    },
    {
     "data": {
      "application/vnd.jupyter.widget-view+json": {
       "model_id": "5814d1504638475c9b16590c0f96c0c1",
       "version_major": 2,
       "version_minor": 0
      },
      "text/plain": [
       "Saving the dataset (0/2 shards):   0%|          | 0/923 [00:00<?, ? examples/s]"
      ]
     },
     "metadata": {},
     "output_type": "display_data"
    },
    {
     "data": {
      "application/vnd.jupyter.widget-view+json": {
       "model_id": "9a6f7ea7ed614bfba8a02347fa0616a2",
       "version_major": 2,
       "version_minor": 0
      },
      "text/plain": [
       "Map:   0%|          | 0/923 [00:00<?, ? examples/s]"
      ]
     },
     "metadata": {},
     "output_type": "display_data"
    },
    {
     "data": {
      "application/vnd.jupyter.widget-view+json": {
       "model_id": "0ca93686ad8645c19af8ebba181ba276",
       "version_major": 2,
       "version_minor": 0
      },
      "text/plain": [
       "Map:   0%|          | 0/923 [00:00<?, ? examples/s]"
      ]
     },
     "metadata": {},
     "output_type": "display_data"
    },
    {
     "data": {
      "application/vnd.jupyter.widget-view+json": {
       "model_id": "d3b33358518c4db18c2f4c22b0a797d6",
       "version_major": 2,
       "version_minor": 0
      },
      "text/plain": [
       "Saving the dataset (0/2 shards):   0%|          | 0/923 [00:00<?, ? examples/s]"
      ]
     },
     "metadata": {},
     "output_type": "display_data"
    },
    {
     "data": {
      "application/vnd.jupyter.widget-view+json": {
       "model_id": "3f3463927e6444ccb719fb0024a209f7",
       "version_major": 2,
       "version_minor": 0
      },
      "text/plain": [
       "Map:   0%|          | 0/923 [00:00<?, ? examples/s]"
      ]
     },
     "metadata": {},
     "output_type": "display_data"
    },
    {
     "data": {
      "application/vnd.jupyter.widget-view+json": {
       "model_id": "8c6ace56ffb24f60bc2b10c29d119ec6",
       "version_major": 2,
       "version_minor": 0
      },
      "text/plain": [
       "Map:   0%|          | 0/923 [00:00<?, ? examples/s]"
      ]
     },
     "metadata": {},
     "output_type": "display_data"
    },
    {
     "data": {
      "application/vnd.jupyter.widget-view+json": {
       "model_id": "d888f690a678479e833d0ddb4cd35eac",
       "version_major": 2,
       "version_minor": 0
      },
      "text/plain": [
       "Saving the dataset (0/2 shards):   0%|          | 0/923 [00:00<?, ? examples/s]"
      ]
     },
     "metadata": {},
     "output_type": "display_data"
    },
    {
     "data": {
      "application/vnd.jupyter.widget-view+json": {
       "model_id": "c553c57968084d039fcff6d2f626b0b8",
       "version_major": 2,
       "version_minor": 0
      },
      "text/plain": [
       "Map:   0%|          | 0/923 [00:00<?, ? examples/s]"
      ]
     },
     "metadata": {},
     "output_type": "display_data"
    },
    {
     "data": {
      "application/vnd.jupyter.widget-view+json": {
       "model_id": "b8307d3fcd3e4cd1998a798743bfb0ee",
       "version_major": 2,
       "version_minor": 0
      },
      "text/plain": [
       "Map:   0%|          | 0/923 [00:00<?, ? examples/s]"
      ]
     },
     "metadata": {},
     "output_type": "display_data"
    },
    {
     "data": {
      "application/vnd.jupyter.widget-view+json": {
       "model_id": "6d926bf7b06f45018bb3ac3bf13297d7",
       "version_major": 2,
       "version_minor": 0
      },
      "text/plain": [
       "Saving the dataset (0/2 shards):   0%|          | 0/923 [00:00<?, ? examples/s]"
      ]
     },
     "metadata": {},
     "output_type": "display_data"
    },
    {
     "data": {
      "application/vnd.jupyter.widget-view+json": {
       "model_id": "37cc10e8bdb8493a950026018273c818",
       "version_major": 2,
       "version_minor": 0
      },
      "text/plain": [
       "Map:   0%|          | 0/923 [00:00<?, ? examples/s]"
      ]
     },
     "metadata": {},
     "output_type": "display_data"
    },
    {
     "data": {
      "application/vnd.jupyter.widget-view+json": {
       "model_id": "6dbea30ba83f41d38b9d29bdeca6aceb",
       "version_major": 2,
       "version_minor": 0
      },
      "text/plain": [
       "Map:   0%|          | 0/923 [00:00<?, ? examples/s]"
      ]
     },
     "metadata": {},
     "output_type": "display_data"
    },
    {
     "data": {
      "application/vnd.jupyter.widget-view+json": {
       "model_id": "d61f797084fe4dfc80f4a79250e06dff",
       "version_major": 2,
       "version_minor": 0
      },
      "text/plain": [
       "Saving the dataset (0/2 shards):   0%|          | 0/923 [00:00<?, ? examples/s]"
      ]
     },
     "metadata": {},
     "output_type": "display_data"
    },
    {
     "data": {
      "application/vnd.jupyter.widget-view+json": {
       "model_id": "08a3d98a7165436ebcabfe3199e9efbb",
       "version_major": 2,
       "version_minor": 0
      },
      "text/plain": [
       "Map:   0%|          | 0/923 [00:00<?, ? examples/s]"
      ]
     },
     "metadata": {},
     "output_type": "display_data"
    },
    {
     "data": {
      "application/vnd.jupyter.widget-view+json": {
       "model_id": "9b6f571460654fdfb978e5633b6b55c4",
       "version_major": 2,
       "version_minor": 0
      },
      "text/plain": [
       "Map:   0%|          | 0/923 [00:00<?, ? examples/s]"
      ]
     },
     "metadata": {},
     "output_type": "display_data"
    },
    {
     "data": {
      "application/vnd.jupyter.widget-view+json": {
       "model_id": "2ff82918f8e245f586de2c46c572d938",
       "version_major": 2,
       "version_minor": 0
      },
      "text/plain": [
       "Saving the dataset (0/2 shards):   0%|          | 0/923 [00:00<?, ? examples/s]"
      ]
     },
     "metadata": {},
     "output_type": "display_data"
    },
    {
     "data": {
      "application/vnd.jupyter.widget-view+json": {
       "model_id": "cd55e293754541d8bd346592452341b1",
       "version_major": 2,
       "version_minor": 0
      },
      "text/plain": [
       "Map:   0%|          | 0/923 [00:00<?, ? examples/s]"
      ]
     },
     "metadata": {},
     "output_type": "display_data"
    },
    {
     "data": {
      "application/vnd.jupyter.widget-view+json": {
       "model_id": "a02cc253e9fa471f9318fe8b8f1ab7b0",
       "version_major": 2,
       "version_minor": 0
      },
      "text/plain": [
       "Map:   0%|          | 0/923 [00:00<?, ? examples/s]"
      ]
     },
     "metadata": {},
     "output_type": "display_data"
    },
    {
     "data": {
      "application/vnd.jupyter.widget-view+json": {
       "model_id": "80cc516091d644edb80213b4208786d6",
       "version_major": 2,
       "version_minor": 0
      },
      "text/plain": [
       "Saving the dataset (0/2 shards):   0%|          | 0/923 [00:00<?, ? examples/s]"
      ]
     },
     "metadata": {},
     "output_type": "display_data"
    },
    {
     "data": {
      "application/vnd.jupyter.widget-view+json": {
       "model_id": "cc574cbf0b524543ba33e919308a5d64",
       "version_major": 2,
       "version_minor": 0
      },
      "text/plain": [
       "Map:   0%|          | 0/923 [00:00<?, ? examples/s]"
      ]
     },
     "metadata": {},
     "output_type": "display_data"
    },
    {
     "data": {
      "application/vnd.jupyter.widget-view+json": {
       "model_id": "480b402e4f494ddfa4170a442d389dcf",
       "version_major": 2,
       "version_minor": 0
      },
      "text/plain": [
       "Map:   0%|          | 0/923 [00:00<?, ? examples/s]"
      ]
     },
     "metadata": {},
     "output_type": "display_data"
    },
    {
     "data": {
      "application/vnd.jupyter.widget-view+json": {
       "model_id": "0361efec8ea24f0bb42eaac410399549",
       "version_major": 2,
       "version_minor": 0
      },
      "text/plain": [
       "Saving the dataset (0/2 shards):   0%|          | 0/923 [00:00<?, ? examples/s]"
      ]
     },
     "metadata": {},
     "output_type": "display_data"
    }
   ],
   "source": [
    "preprocess(test_df, 'test')"
   ]
  },
  {
   "cell_type": "markdown",
   "id": "6581cd47-d2f1-4e6b-9b5e-4cd21e2f0764",
   "metadata": {},
   "source": [
    "### ○ 데이터셋 불러오기"
   ]
  },
  {
   "cell_type": "code",
   "execution_count": 115,
   "id": "f0773367-e14b-43f8-9563-1958b5b9dca7",
   "metadata": {},
   "outputs": [],
   "source": [
    "from datasets import load_from_disk\n",
    "import gc\n",
    "\n",
    "def load_disk(name):\n",
    "    # 빈 리스트에 모든 분할 데이터를 저장\n",
    "    all_processed_splits = []\n",
    "    \n",
    "    # 각 조각을 디스크에서 불러와 리스트에 추가\n",
    "    for i in range(13):\n",
    "        split_dataset = load_from_disk(f\"./data/datasets/{name}/processed_split_{i}.dataset\")\n",
    "    # for i in range(20):\n",
    "    #     split_dataset = load_from_disk(f\"/mnt/gcs-bucket/song/{name}/processed_split_{i}.dataset\")\n",
    "        \n",
    "        all_processed_splits.append(split_dataset)\n",
    "\n",
    "        # 메모리 해제\n",
    "        gc.collect()\n",
    "    \n",
    "    return all_processed_splits"
   ]
  },
  {
   "cell_type": "markdown",
   "id": "395b153d-dc98-4451-8696-b69092020489",
   "metadata": {},
   "source": [
    "OSError: Expected to be able to read 426013464 bytes for message body, got 57669904\n",
    "\n",
    "데이터 세트의 샤드 개수가 안맞아서 오류\n",
    "\n",
    "---\n",
    "\n",
    "분산 사이즈를 줄여 샤드 개수를 일정하게 조정하기"
   ]
  },
  {
   "cell_type": "code",
   "execution_count": 116,
   "id": "5f66ce94-c9dd-462d-9f28-90a545d03613",
   "metadata": {},
   "outputs": [],
   "source": [
    "train_processed_splits = load_disk('train')"
   ]
  },
  {
   "cell_type": "code",
   "execution_count": 118,
   "id": "80131f09-3cd4-4311-b6d4-523f1c1bcba0",
   "metadata": {},
   "outputs": [],
   "source": [
    "val_processed_splits = load_disk('val')"
   ]
  },
  {
   "cell_type": "code",
   "execution_count": 119,
   "id": "4d75f3b6-83b0-4182-8557-0cd548557d03",
   "metadata": {},
   "outputs": [],
   "source": [
    "test_processed_splits = load_disk('test')"
   ]
  },
  {
   "cell_type": "markdown",
   "id": "7f4c9048-cb1e-4f0a-ac3b-94d52b83f60e",
   "metadata": {},
   "source": [
    "### ○ 데이터셋 병합"
   ]
  },
  {
   "cell_type": "code",
   "execution_count": 120,
   "id": "ab784a1b-684b-4448-b2d0-886d9a4a3d9d",
   "metadata": {},
   "outputs": [],
   "source": [
    "from datasets import concatenate_datasets"
   ]
  },
  {
   "cell_type": "code",
   "execution_count": 121,
   "id": "36dc9bfe-d348-4223-98aa-37e691ae8dc7",
   "metadata": {},
   "outputs": [],
   "source": [
    "# 병합\n",
    "train_dataset = concatenate_datasets(train_processed_splits)\n",
    "val_dataset = concatenate_datasets(val_processed_splits)\n",
    "test_dataset = concatenate_datasets(test_processed_splits)"
   ]
  },
  {
   "cell_type": "code",
   "execution_count": 203,
   "id": "e48133cb-d0db-4d51-84f1-28ae5e375927",
   "metadata": {},
   "outputs": [],
   "source": [
    "# 'file_path', 'gender', '__index_level_0__' 필드를 제외한 새로운 데이터셋 생성\n",
    "train_dataset_filtered = train_dataset.remove_columns([\"file_path\", \"gender\", \"__index_level_0__\", \"emotion\", \"genders\"])\n",
    "val_dataset_filtered = val_dataset.remove_columns([\"file_path\", \"gender\", \"__index_level_0__\", \"emotion\", \"genders\"])\n",
    "test_dataset_filtered = test_dataset.remove_columns([\"file_path\", \"gender\", \"__index_level_0__\", \"emotion\", \"genders\"])"
   ]
  },
  {
   "cell_type": "code",
   "execution_count": 204,
   "id": "2eee75d6-f291-4c03-bd55-a350d576114a",
   "metadata": {},
   "outputs": [
    {
     "data": {
      "text/plain": [
       "Dataset({\n",
       "    features: ['input_values', 'attention_mask', 'labels'],\n",
       "    num_rows: 38400\n",
       "})"
      ]
     },
     "execution_count": 204,
     "metadata": {},
     "output_type": "execute_result"
    }
   ],
   "source": [
    "train_dataset_filtered"
   ]
  },
  {
   "cell_type": "markdown",
   "id": "992c16c7-174f-4c40-a474-ec72b5384971",
   "metadata": {},
   "source": [
    "## 5. 평가지표 정의"
   ]
  },
  {
   "cell_type": "code",
   "execution_count": 185,
   "id": "20b53c8f-df45-47af-a289-1ec12a378471",
   "metadata": {
    "scrolled": true
   },
   "outputs": [],
   "source": [
    "# !pip install evaluate"
   ]
  },
  {
   "cell_type": "code",
   "execution_count": 186,
   "id": "3e3c26ca-9c1e-417a-95f7-3f731ed4e3f7",
   "metadata": {
    "scrolled": true
   },
   "outputs": [],
   "source": [
    "# !pip install jiwer"
   ]
  },
  {
   "cell_type": "code",
   "execution_count": 187,
   "id": "f868757b-0def-4a3b-a412-2a58649d93db",
   "metadata": {},
   "outputs": [],
   "source": [
    "from evaluate import load\n",
    "from sklearn.metrics import accuracy_score, precision_score, recall_score, f1_score, confusion_matrix, roc_curve, auc"
   ]
  },
  {
   "cell_type": "code",
   "execution_count": 188,
   "id": "9cfac779-73a9-4311-b808-02e75210691d",
   "metadata": {},
   "outputs": [],
   "source": [
    "# # WER 메트릭 로드\n",
    "# wer_metric = load(\"wer\")"
   ]
  },
  {
   "cell_type": "code",
   "execution_count": 189,
   "id": "ef3da047-f0eb-40b0-8d8b-d56924f98363",
   "metadata": {},
   "outputs": [],
   "source": [
    "def compute_metrics(pred):\n",
    "    pred_ids = pred.predictions.argmax(-1)\n",
    "    label_ids = pred.label_ids\n",
    "    \n",
    "    # 정확도, 정밀도, 재현율, F1 점수\n",
    "    accuracy = accuracy_score(label_ids, pred_ids)\n",
    "    precision = precision_score(label_ids, pred_ids, average='weighted')\n",
    "    recall = recall_score(label_ids, pred_ids, average='weighted')\n",
    "    f1 = f1_score(label_ids, pred_ids, average='weighted')\n",
    "    \n",
    "    # 혼동 행렬\n",
    "    cm = confusion_matrix(label_ids, pred_ids)\n",
    "    \n",
    "    # ROC 커브 및 AUC 계산\n",
    "    fpr, tpr, _ = roc_curve(label_ids.ravel(), pred_ids.ravel(), pos_label=1)\n",
    "    roc_auc = auc(fpr, tpr)\n",
    "    \n",
    "    # ROC 커브 시각화\n",
    "    plt.figure()\n",
    "    plt.plot(fpr, tpr, color='darkorange', lw=2, label=f\"ROC curve (area = {roc_auc:0.2f})\")\n",
    "    plt.plot([0, 1], [0, 1], color='navy', lw=2, linestyle='--')\n",
    "    plt.xlabel(\"False Positive Rate\")\n",
    "    plt.ylabel(\"True Positive Rate\")\n",
    "    plt.title(\"ROC Curve\")\n",
    "    plt.legend(loc=\"lower right\")\n",
    "    plt.show()\n",
    "    \n",
    "    # 결과 반환\n",
    "    return {\n",
    "        \"accuracy\": accuracy,\n",
    "        \"precision\": precision,\n",
    "        \"recall\": recall,\n",
    "        \"f1\": f1,\n",
    "        \"confusion_matrix\": cm,\n",
    "        \"roc_auc\": roc_auc\n",
    "    }"
   ]
  },
  {
   "cell_type": "markdown",
   "id": "3719b096-485b-426b-8823-d1138862b45a",
   "metadata": {},
   "source": [
    "## 1. 모델과 프로세서 불러오기\n",
    "https://huggingface.co/docs/transformers/model_doc/wav2vec2"
   ]
  },
  {
   "cell_type": "code",
   "execution_count": 190,
   "id": "7a94197d-b877-43e0-8b5e-3a38c125d78e",
   "metadata": {},
   "outputs": [],
   "source": [
    "# from transformers import Wav2Vec2ForSequenceClassification, Wav2Vec2Processor, Trainer, TrainingArguments\n",
    "# import torch\n",
    "\n",
    "# # 모델 정의\n",
    "# class Wav2Vec2WithGenderClassification(Wav2Vec2ForSequenceClassification):\n",
    "#     def __init__(self, config):\n",
    "#         super().__init__(config)\n",
    "#         self.gender_embedding = torch.nn.Embedding(2, 256)  # 성별 임베딩 (2개의 성별, 256 차원)\n",
    "#         self.classifier = torch.nn.Linear(config.hidden_size + 256, config.num_labels)  # Wav2Vec2 출력 + 성별 임베딩을 위한 1280 차원 입력\n",
    "\n",
    "#     def forward(self, input_values, attention_mask=None, labels=None, genders=None):\n",
    "#         # Wav2Vec2 출력을 가져옵니다\n",
    "#         outputs = super().forward(input_values, attention_mask=attention_mask)\n",
    "#         pooled_output = outputs.hidden_states  # hidden_states로 변경 (이 값이 필요한 경우)\n",
    "        \n",
    "#         # 성별 임베딩\n",
    "#         gender_embeddings = self.gender_embedding(genders)\n",
    "        \n",
    "#         # Wav2Vec2 출력과 성별 임베딩 결합\n",
    "#         hidden_states_with_gender = torch.cat((pooled_output, gender_embeddings), dim=-1)  # 1024 + 256 = 1280\n",
    "        \n",
    "#         # 결합된 텐서를 classifier에 입력\n",
    "#         logits = self.classifier(hidden_states_with_gender)\n",
    "        \n",
    "#         # 손실 계산\n",
    "#         loss = None\n",
    "#         if labels is not None:\n",
    "#             loss_fct = torch.nn.CrossEntropyLoss()\n",
    "#             loss = loss_fct(logits.view(-1, self.config.num_labels), labels.view(-1))\n",
    "        \n",
    "#         return (loss, logits)\n"
   ]
  },
  {
   "cell_type": "code",
   "execution_count": 191,
   "id": "aa9e6bbb-4274-46bd-801a-3932ce3b8257",
   "metadata": {
    "scrolled": true
   },
   "outputs": [],
   "source": [
    "# !pip install transformers datasets soundfile"
   ]
  },
  {
   "cell_type": "markdown",
   "id": "2bf9c5d1-9649-4a64-90e3-312cc606b737",
   "metadata": {},
   "source": [
    "#### ○ 트러블 슈팅\n",
    "- 입력 코드  \n",
    "```\n",
    "from transformers import Wav2Vec2ForCTC, Wav2Vec2Processor, Trainer, TrainingArguments\n",
    "```\n",
    "\n",
    "<br>\n",
    "\n",
    "- 오류 코드  \n",
    "```\n",
    "RuntimeError: Failed to import transformers.trainer because of the following error (look up to see its traceback):\n",
    "Failed to import transformers.integrations.integration_utils because of the following error (look up to see its traceback):\n",
    "Failed to import transformers.modeling_tf_utils because of the following error (look up to see its traceback):\n",
    "Your currently installed version of Keras is Keras 3, but this is not yet supported in Transformers. Please install the backwards-compatible tf-keras package with `pip install tf-keras`.\n",
    "```\n",
    "\n",
    "<br>\n",
    "\n",
    "버전 호환 문제 발생으로 `pip install tf-keras` 추가 설치"
   ]
  },
  {
   "cell_type": "code",
   "execution_count": 192,
   "id": "b1816f6e-53f6-4c1a-818e-884261926fc2",
   "metadata": {
    "scrolled": true
   },
   "outputs": [],
   "source": [
    "# !pip install tf-keras"
   ]
  },
  {
   "cell_type": "code",
   "execution_count": 207,
   "id": "b26a2300-03e4-43ed-9139-a564e2fec5eb",
   "metadata": {
    "scrolled": true
   },
   "outputs": [
    {
     "name": "stdout",
     "output_type": "stream",
     "text": [
      "Collecting flash-attn\n",
      "  Downloading flash_attn-2.6.3.tar.gz (2.6 MB)\n",
      "\u001b[2K     \u001b[38;2;114;156;31m━━━━━━━━━━━━━━━━━━━━━━━━━━━━━━━━━━━━━━━━\u001b[0m \u001b[32m2.6/2.6 MB\u001b[0m \u001b[31m10.1 MB/s\u001b[0m eta \u001b[36m0:00:00\u001b[0m31m10.4 MB/s\u001b[0m eta \u001b[36m0:00:01\u001b[0m\n",
      "\u001b[?25h  Preparing metadata (setup.py) ... \u001b[?25ldone\n",
      "\u001b[?25hCollecting einops\n",
      "  Downloading einops-0.8.0-py3-none-any.whl (43 kB)\n",
      "\u001b[2K     \u001b[38;2;114;156;31m━━━━━━━━━━━━━━━━━━━━━━━━━━━━━━━━━━━━━━━━\u001b[0m \u001b[32m43.2/43.2 KB\u001b[0m \u001b[31m10.7 MB/s\u001b[0m eta \u001b[36m0:00:00\u001b[0m\n",
      "\u001b[?25hRequirement already satisfied: torch in /home/legion/workspace/venv/lib/python3.10/site-packages (from flash-attn) (2.4.1)\n",
      "Requirement already satisfied: typing-extensions>=4.8.0 in /home/legion/workspace/venv/lib/python3.10/site-packages (from torch->flash-attn) (4.12.2)\n",
      "Requirement already satisfied: nvidia-cuda-nvrtc-cu12==12.1.105 in /home/legion/workspace/venv/lib/python3.10/site-packages (from torch->flash-attn) (12.1.105)\n",
      "Requirement already satisfied: filelock in /home/legion/workspace/venv/lib/python3.10/site-packages (from torch->flash-attn) (3.16.1)\n",
      "Requirement already satisfied: nvidia-nvtx-cu12==12.1.105 in /home/legion/workspace/venv/lib/python3.10/site-packages (from torch->flash-attn) (12.1.105)\n",
      "Requirement already satisfied: nvidia-cublas-cu12==12.1.3.1 in /home/legion/workspace/venv/lib/python3.10/site-packages (from torch->flash-attn) (12.1.3.1)\n",
      "Requirement already satisfied: fsspec in /home/legion/workspace/venv/lib/python3.10/site-packages (from torch->flash-attn) (2024.6.1)\n",
      "Requirement already satisfied: nvidia-curand-cu12==10.3.2.106 in /home/legion/workspace/venv/lib/python3.10/site-packages (from torch->flash-attn) (10.3.2.106)\n",
      "Requirement already satisfied: nvidia-cuda-runtime-cu12==12.1.105 in /home/legion/workspace/venv/lib/python3.10/site-packages (from torch->flash-attn) (12.1.105)\n",
      "Requirement already satisfied: nvidia-cusolver-cu12==11.4.5.107 in /home/legion/workspace/venv/lib/python3.10/site-packages (from torch->flash-attn) (11.4.5.107)\n",
      "Requirement already satisfied: nvidia-nccl-cu12==2.20.5 in /home/legion/workspace/venv/lib/python3.10/site-packages (from torch->flash-attn) (2.20.5)\n",
      "Requirement already satisfied: nvidia-cuda-cupti-cu12==12.1.105 in /home/legion/workspace/venv/lib/python3.10/site-packages (from torch->flash-attn) (12.1.105)\n",
      "Requirement already satisfied: nvidia-cusparse-cu12==12.1.0.106 in /home/legion/workspace/venv/lib/python3.10/site-packages (from torch->flash-attn) (12.1.0.106)\n",
      "Requirement already satisfied: sympy in /home/legion/workspace/venv/lib/python3.10/site-packages (from torch->flash-attn) (1.13.3)\n",
      "Requirement already satisfied: jinja2 in /home/legion/workspace/venv/lib/python3.10/site-packages (from torch->flash-attn) (3.1.4)\n",
      "Requirement already satisfied: triton==3.0.0 in /home/legion/workspace/venv/lib/python3.10/site-packages (from torch->flash-attn) (3.0.0)\n",
      "Requirement already satisfied: networkx in /home/legion/workspace/venv/lib/python3.10/site-packages (from torch->flash-attn) (3.4.1)\n",
      "Requirement already satisfied: nvidia-cufft-cu12==11.0.2.54 in /home/legion/workspace/venv/lib/python3.10/site-packages (from torch->flash-attn) (11.0.2.54)\n",
      "Requirement already satisfied: nvidia-cudnn-cu12==9.1.0.70 in /home/legion/workspace/venv/lib/python3.10/site-packages (from torch->flash-attn) (9.1.0.70)\n",
      "Requirement already satisfied: nvidia-nvjitlink-cu12 in /home/legion/workspace/venv/lib/python3.10/site-packages (from nvidia-cusolver-cu12==11.4.5.107->torch->flash-attn) (12.6.77)\n",
      "Requirement already satisfied: MarkupSafe>=2.0 in /home/legion/workspace/venv/lib/python3.10/site-packages (from jinja2->torch->flash-attn) (3.0.1)\n",
      "Requirement already satisfied: mpmath<1.4,>=1.1.0 in /home/legion/workspace/venv/lib/python3.10/site-packages (from sympy->torch->flash-attn) (1.3.0)\n",
      "Building wheels for collected packages: flash-attn\n",
      "  Building wheel for flash-attn (setup.py) ... \u001b[?25ldone\n",
      "\u001b[?25h  Created wheel for flash-attn: filename=flash_attn-2.6.3-cp310-cp310-linux_x86_64.whl size=187309225 sha256=237ef9c6157db394e1ddde4ba609a21ebb98382377a27041edc09318801a6f24\n",
      "  Stored in directory: /home/legion/.cache/pip/wheels/7e/e3/c3/89c7a2f3c4adc07cd1c675f8bb7b9ad4d18f64a72bccdfe826\n",
      "Successfully built flash-attn\n",
      "Installing collected packages: einops, flash-attn\n",
      "Successfully installed einops-0.8.0 flash-attn-2.6.3\n"
     ]
    }
   ],
   "source": [
    "# !pip install -U flash-attn --no-build-isolation"
   ]
  },
  {
   "cell_type": "code",
   "execution_count": 193,
   "id": "74b9f15a-ae62-41c6-b1ce-743aa538411e",
   "metadata": {},
   "outputs": [
    {
     "name": "stderr",
     "output_type": "stream",
     "text": [
      "Some weights of Wav2Vec2WithGenderClassification were not initialized from the model checkpoint at facebook/wav2vec2-base-960h and are newly initialized: ['classifier.bias', 'classifier.weight', 'gender_embedding.weight', 'projector.bias', 'projector.weight', 'wav2vec2.masked_spec_embed']\n",
      "You should probably TRAIN this model on a down-stream task to be able to use it for predictions and inference.\n"
     ]
    }
   ],
   "source": [
    "import torch\n",
    "from transformers import Wav2Vec2ForCTC, Wav2Vec2Processor, Trainer, TrainingArguments\n",
    "\n",
    "# GPU가 사용 가능한지 확인\n",
    "device = torch.device(\"cuda\" if torch.cuda.is_available() else \"cpu\")\n",
    "\n",
    "# 사용할 모델 이름 설정\n",
    "# Hugging Face에서 제공하는 사전 학습된 wac2vec2 모델 사용\n",
    "model_name = \"facebook/wav2vec2-base-960h\"\n",
    "\n",
    "# 음성 데이터를 감정 분류에 맞게 파인튜닝할 모델 설정\n",
    "model = Wav2Vec2WithGenderClassification.from_pretrained(model_name, num_labels=6).to(device)"
   ]
  },
  {
   "cell_type": "code",
   "execution_count": 85,
   "id": "93bf3e56-04b7-4696-82c9-e24cc97c3e6c",
   "metadata": {},
   "outputs": [],
   "source": [
    "# Wav2Vec2 feature extractor 초기화\n",
    "feature_extractor = Wav2Vec2FeatureExtractor.from_pretrained(\"superb/hubert-base-superb-er\")"
   ]
  },
  {
   "cell_type": "markdown",
   "id": "e3a36040-68f8-4389-b5a8-03332498d126",
   "metadata": {},
   "source": [
    "## 6. 학습 파라미터 정의"
   ]
  },
  {
   "cell_type": "code",
   "execution_count": 219,
   "id": "e9aa4a8f-d296-4ca4-a9d6-797b9f4f5923",
   "metadata": {},
   "outputs": [],
   "source": [
    "# !pip install accelerate>=0.26.0"
   ]
  },
  {
   "cell_type": "code",
   "execution_count": 220,
   "id": "4dc4b361-2d0e-4b1a-a4dc-98bcb2ce692c",
   "metadata": {
    "scrolled": true
   },
   "outputs": [],
   "source": [
    "# !pip install transformers[torch]"
   ]
  },
  {
   "cell_type": "code",
   "execution_count": 221,
   "id": "fc190c1c-97f6-4891-92ce-d5ea1d8cd53f",
   "metadata": {},
   "outputs": [],
   "source": [
    "from transformers import TrainingArguments\n",
    "\n",
    "# 학습 파라미터 설정\n",
    "training_args = TrainingArguments(\n",
    "    output_dir=\"./model/1Cycle/wav2vec2-finetuned\",  # 결과를 저장할 경로\n",
    "    evaluation_strategy=\"epoch\",  # 매 에폭마다 평가\n",
    "    learning_rate=1e-5,  # 학습률\n",
    "    per_device_train_batch_size=10,  # GPU/CPU당 배치 크기\n",
    "    per_device_eval_batch_size=10,  # 평가 시 배치 크기\n",
    "    num_train_epochs=3,  # 학습할 에폭 수\n",
    "    weight_decay=0.01,  # 가중치 감소\n",
    "    logging_dir=\"./logs\",  # 로그 저장 경로\n",
    "    logging_steps=10,  # 로그를 기록할 간격\n",
    "    fp16=True  # 16-bit precision 사용\n",
    ")"
   ]
  },
  {
   "cell_type": "markdown",
   "id": "a48b6575-ec40-4d88-9c23-8b874731a198",
   "metadata": {},
   "source": [
    "## 7. Trainer 초기화"
   ]
  },
  {
   "cell_type": "code",
   "execution_count": 199,
   "id": "ce5b74a7-8b80-4acb-8cc0-a112359ed190",
   "metadata": {},
   "outputs": [],
   "source": [
    "from transformers import Trainer\n",
    "\n",
    "# 트레이너 초기화\n",
    "trainer = Trainer(\n",
    "    model=model,  # 학습할 모델\n",
    "    args=training_args,  # 학습 파라미터\n",
    "    train_dataset=train_dataset_filtered,  # 훈련 데이터\n",
    "    eval_dataset=val_dataset_filtered,  # 검증 데이터\n",
    "    compute_metrics=compute_metrics  # 평가지표 함수\n",
    ")"
   ]
  },
  {
   "cell_type": "markdown",
   "id": "17ea9463-86bc-4a87-8e07-c171c0f36223",
   "metadata": {},
   "source": [
    "## 8. 학습"
   ]
  },
  {
   "cell_type": "code",
   "execution_count": null,
   "id": "750bc49d-aa53-4a82-a713-8e6691208b58",
   "metadata": {},
   "outputs": [],
   "source": [
    "# 학습 시작\n",
    "train_output = trainer.train()"
   ]
  },
  {
   "cell_type": "code",
   "execution_count": null,
   "id": "531d0d1f-4103-41cc-8a99-81e3f6074dff",
   "metadata": {},
   "outputs": [],
   "source": [
    "# train_output을 피클 파일로 저장\n",
    "with open('./model/train_output.pkl', 'wb') as f:\n",
    "    pickle.dump(train_output, f)"
   ]
  }
 ],
 "metadata": {
  "kernelspec": {
   "display_name": "Python 3 (ipykernel)",
   "language": "python",
   "name": "python3"
  },
  "language_info": {
   "codemirror_mode": {
    "name": "ipython",
    "version": 3
   },
   "file_extension": ".py",
   "mimetype": "text/x-python",
   "name": "python",
   "nbconvert_exporter": "python",
   "pygments_lexer": "ipython3",
   "version": "3.10.12"
  }
 },
 "nbformat": 4,
 "nbformat_minor": 5
}
